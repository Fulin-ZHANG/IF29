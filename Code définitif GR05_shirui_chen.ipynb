{
 "cells": [
  {
   "cell_type": "markdown",
   "id": "80a83392",
   "metadata": {},
   "source": [
    "# Projet IF29 P22\n",
    "### Détection des influenceurs sur Twitter en appliquant les méthodes non supervisée et supervisée"
   ]
  },
  {
   "cell_type": "markdown",
   "id": "c295507f",
   "metadata": {},
   "source": [
    "## Inserer les donnees dans MongoDB"
   ]
  },
  {
   "cell_type": "markdown",
   "id": "4c494139",
   "metadata": {},
   "source": [
    "#### Créer la BD en utilisant le fichier 'Worldcup 200Tweets' sur moodle\n"
   ]
  },
  {
   "cell_type": "code",
   "execution_count": 6,
   "id": "b16011e2",
   "metadata": {},
   "outputs": [],
   "source": [
    "from pymongo import MongoClient\n",
    "import os\n",
    "import json"
   ]
  },
  {
   "cell_type": "code",
   "execution_count": null,
   "id": "87989867",
   "metadata": {},
   "outputs": [],
   "source": [
    "client = MongoClient('localhost', 27017)\n",
    "db = client['if29_projet'] # nom de BD\n",
    "collection = db['if29_projet'] #nom de collection\n",
    "parent_dir = (\"raw/\") #adresse de fichier\n",
    "list_filename = os.listdir(parent_dir)\n",
    "\n",
    "for filename in list_filename:\n",
    "    filepath = parent_dir + filename\n",
    "    with open(filepath, encoding='utf-8') as f:\n",
    "        lines = f.readlines()\n",
    "        f.close()\n",
    "    for line in lines:\n",
    "        document = json.loads(line[:-1])\n",
    "        collection.insert_one(document)"
   ]
  },
  {
   "cell_type": "markdown",
   "id": "af232eff",
   "metadata": {},
   "source": [
    "## Connecter à la BD"
   ]
  },
  {
   "cell_type": "code",
   "execution_count": 7,
   "id": "87508bc7",
   "metadata": {},
   "outputs": [],
   "source": [
    "from pymongo import MongoClient\n",
    "\n",
    "client = MongoClient('localhost', 27017)\n",
    "db = client['if29_projet']\n",
    "collection = db['if29_projet']"
   ]
  },
  {
   "cell_type": "markdown",
   "id": "4872a2ba",
   "metadata": {},
   "source": [
    "## Créer le dataframe"
   ]
  },
  {
   "cell_type": "markdown",
   "id": "c9aada0a",
   "metadata": {},
   "source": [
    "#### Créer le dataframe en utilisant les attributs qui nous intéressent concernant les utilisateurs\n"
   ]
  },
  {
   "cell_type": "code",
   "execution_count": 10,
   "id": "43b1d82d",
   "metadata": {},
   "outputs": [],
   "source": [
    "import numpy as np\n",
    "import pandas as pd\n",
    "\n",
    "cursor = collection.aggregate(\n",
    "    [\n",
    "        {\"$group\" : {\n",
    "            \"_id\" : \"$user.id\", \n",
    "            \"friends_count\" : {\"$last\" : \"$user.friends_count\"},\n",
    "            \"favourites_count\" : {\"$last\" : \"$user.favourites_count\"},\n",
    "            \"statuses_count\" : {\"$last\" : \"$user.statuses_count\"},\n",
    "            \"followers_count\" : {\"$last\" : \"$user.followers_count\"},\n",
    "             \"created_time\" : {\"$last\" : \"$user.created_at\"}\n",
    "        }\n",
    "        }\n",
    "    ],\n",
    "    allowDiskUse=True,\n",
    ")\n",
    "df = pd.json_normalize(cursor)"
   ]
  },
  {
   "cell_type": "code",
   "execution_count": 11,
   "id": "6179922e",
   "metadata": {},
   "outputs": [
    {
     "data": {
      "text/html": [
       "<div>\n",
       "<style scoped>\n",
       "    .dataframe tbody tr th:only-of-type {\n",
       "        vertical-align: middle;\n",
       "    }\n",
       "\n",
       "    .dataframe tbody tr th {\n",
       "        vertical-align: top;\n",
       "    }\n",
       "\n",
       "    .dataframe thead th {\n",
       "        text-align: right;\n",
       "    }\n",
       "</style>\n",
       "<table border=\"1\" class=\"dataframe\">\n",
       "  <thead>\n",
       "    <tr style=\"text-align: right;\">\n",
       "      <th></th>\n",
       "      <th>_id</th>\n",
       "      <th>friends_count</th>\n",
       "      <th>favourites_count</th>\n",
       "      <th>statuses_count</th>\n",
       "      <th>followers_count</th>\n",
       "      <th>created_time</th>\n",
       "    </tr>\n",
       "  </thead>\n",
       "  <tbody>\n",
       "    <tr>\n",
       "      <th>0</th>\n",
       "      <td>730</td>\n",
       "      <td>191</td>\n",
       "      <td>3164</td>\n",
       "      <td>12159</td>\n",
       "      <td>621</td>\n",
       "      <td>Fri Jul 14 01:15:50 +0000 2006</td>\n",
       "    </tr>\n",
       "    <tr>\n",
       "      <th>1</th>\n",
       "      <td>761</td>\n",
       "      <td>483</td>\n",
       "      <td>46254</td>\n",
       "      <td>29724</td>\n",
       "      <td>4562</td>\n",
       "      <td>Fri Jul 14 04:56:28 +0000 2006</td>\n",
       "    </tr>\n",
       "    <tr>\n",
       "      <th>2</th>\n",
       "      <td>885</td>\n",
       "      <td>1099</td>\n",
       "      <td>6091</td>\n",
       "      <td>13879</td>\n",
       "      <td>21491</td>\n",
       "      <td>Fri Jul 14 15:12:42 +0000 2006</td>\n",
       "    </tr>\n",
       "    <tr>\n",
       "      <th>3</th>\n",
       "      <td>922</td>\n",
       "      <td>934</td>\n",
       "      <td>12046</td>\n",
       "      <td>11717</td>\n",
       "      <td>4399</td>\n",
       "      <td>Fri Jul 14 17:59:15 +0000 2006</td>\n",
       "    </tr>\n",
       "    <tr>\n",
       "      <th>4</th>\n",
       "      <td>1140</td>\n",
       "      <td>1028</td>\n",
       "      <td>4179</td>\n",
       "      <td>4878</td>\n",
       "      <td>6135</td>\n",
       "      <td>Sun Jul 16 03:45:34 +0000 2006</td>\n",
       "    </tr>\n",
       "    <tr>\n",
       "      <th>...</th>\n",
       "      <td>...</td>\n",
       "      <td>...</td>\n",
       "      <td>...</td>\n",
       "      <td>...</td>\n",
       "      <td>...</td>\n",
       "      <td>...</td>\n",
       "    </tr>\n",
       "    <tr>\n",
       "      <th>1843433</th>\n",
       "      <td>1008392352644386816</td>\n",
       "      <td>0</td>\n",
       "      <td>0</td>\n",
       "      <td>3</td>\n",
       "      <td>0</td>\n",
       "      <td>Sun Jun 17 16:54:06 +0000 2018</td>\n",
       "    </tr>\n",
       "    <tr>\n",
       "      <th>1843434</th>\n",
       "      <td>1008392445837692933</td>\n",
       "      <td>0</td>\n",
       "      <td>0</td>\n",
       "      <td>5</td>\n",
       "      <td>0</td>\n",
       "      <td>Sun Jun 17 16:54:28 +0000 2018</td>\n",
       "    </tr>\n",
       "    <tr>\n",
       "      <th>1843435</th>\n",
       "      <td>1008392594878066688</td>\n",
       "      <td>0</td>\n",
       "      <td>0</td>\n",
       "      <td>14</td>\n",
       "      <td>0</td>\n",
       "      <td>Sun Jun 17 16:55:04 +0000 2018</td>\n",
       "    </tr>\n",
       "    <tr>\n",
       "      <th>1843436</th>\n",
       "      <td>1008392729930366976</td>\n",
       "      <td>0</td>\n",
       "      <td>0</td>\n",
       "      <td>1</td>\n",
       "      <td>0</td>\n",
       "      <td>Sun Jun 17 16:55:36 +0000 2018</td>\n",
       "    </tr>\n",
       "    <tr>\n",
       "      <th>1843437</th>\n",
       "      <td>1008392769428221952</td>\n",
       "      <td>4</td>\n",
       "      <td>1</td>\n",
       "      <td>1</td>\n",
       "      <td>0</td>\n",
       "      <td>Sun Jun 17 16:55:46 +0000 2018</td>\n",
       "    </tr>\n",
       "  </tbody>\n",
       "</table>\n",
       "<p>1843438 rows × 6 columns</p>\n",
       "</div>"
      ],
      "text/plain": [
       "                         _id  friends_count  favourites_count  statuses_count  \\\n",
       "0                        730            191              3164           12159   \n",
       "1                        761            483             46254           29724   \n",
       "2                        885           1099              6091           13879   \n",
       "3                        922            934             12046           11717   \n",
       "4                       1140           1028              4179            4878   \n",
       "...                      ...            ...               ...             ...   \n",
       "1843433  1008392352644386816              0                 0               3   \n",
       "1843434  1008392445837692933              0                 0               5   \n",
       "1843435  1008392594878066688              0                 0              14   \n",
       "1843436  1008392729930366976              0                 0               1   \n",
       "1843437  1008392769428221952              4                 1               1   \n",
       "\n",
       "         followers_count                    created_time  \n",
       "0                    621  Fri Jul 14 01:15:50 +0000 2006  \n",
       "1                   4562  Fri Jul 14 04:56:28 +0000 2006  \n",
       "2                  21491  Fri Jul 14 15:12:42 +0000 2006  \n",
       "3                   4399  Fri Jul 14 17:59:15 +0000 2006  \n",
       "4                   6135  Sun Jul 16 03:45:34 +0000 2006  \n",
       "...                  ...                             ...  \n",
       "1843433                0  Sun Jun 17 16:54:06 +0000 2018  \n",
       "1843434                0  Sun Jun 17 16:54:28 +0000 2018  \n",
       "1843435                0  Sun Jun 17 16:55:04 +0000 2018  \n",
       "1843436                0  Sun Jun 17 16:55:36 +0000 2018  \n",
       "1843437                0  Sun Jun 17 16:55:46 +0000 2018  \n",
       "\n",
       "[1843438 rows x 6 columns]"
      ]
     },
     "execution_count": 11,
     "metadata": {},
     "output_type": "execute_result"
    }
   ],
   "source": [
    "df"
   ]
  },
  {
   "cell_type": "markdown",
   "id": "5a73a12b",
   "metadata": {},
   "source": [
    "#### Première analyse sur le résumé des données quantitatives"
   ]
  },
  {
   "cell_type": "code",
   "execution_count": 12,
   "id": "b7b9ca2c",
   "metadata": {
    "scrolled": true
   },
   "outputs": [
    {
     "data": {
      "text/html": [
       "<div>\n",
       "<style scoped>\n",
       "    .dataframe tbody tr th:only-of-type {\n",
       "        vertical-align: middle;\n",
       "    }\n",
       "\n",
       "    .dataframe tbody tr th {\n",
       "        vertical-align: top;\n",
       "    }\n",
       "\n",
       "    .dataframe thead th {\n",
       "        text-align: right;\n",
       "    }\n",
       "</style>\n",
       "<table border=\"1\" class=\"dataframe\">\n",
       "  <thead>\n",
       "    <tr style=\"text-align: right;\">\n",
       "      <th></th>\n",
       "      <th>friends_count</th>\n",
       "      <th>favourites_count</th>\n",
       "      <th>statuses_count</th>\n",
       "      <th>followers_count</th>\n",
       "    </tr>\n",
       "  </thead>\n",
       "  <tbody>\n",
       "    <tr>\n",
       "      <th>count</th>\n",
       "      <td>1843438</td>\n",
       "      <td>1843438</td>\n",
       "      <td>1843438</td>\n",
       "      <td>1843438</td>\n",
       "    </tr>\n",
       "    <tr>\n",
       "      <th>mean</th>\n",
       "      <td>870</td>\n",
       "      <td>8753</td>\n",
       "      <td>17675</td>\n",
       "      <td>3601</td>\n",
       "    </tr>\n",
       "    <tr>\n",
       "      <th>std</th>\n",
       "      <td>4889</td>\n",
       "      <td>22033</td>\n",
       "      <td>40482</td>\n",
       "      <td>118540</td>\n",
       "    </tr>\n",
       "    <tr>\n",
       "      <th>min</th>\n",
       "      <td>0</td>\n",
       "      <td>0</td>\n",
       "      <td>1</td>\n",
       "      <td>0</td>\n",
       "    </tr>\n",
       "    <tr>\n",
       "      <th>25%</th>\n",
       "      <td>168</td>\n",
       "      <td>443</td>\n",
       "      <td>1104</td>\n",
       "      <td>103</td>\n",
       "    </tr>\n",
       "    <tr>\n",
       "      <th>50%</th>\n",
       "      <td>357</td>\n",
       "      <td>2164</td>\n",
       "      <td>5204</td>\n",
       "      <td>298</td>\n",
       "    </tr>\n",
       "    <tr>\n",
       "      <th>75%</th>\n",
       "      <td>758</td>\n",
       "      <td>7922</td>\n",
       "      <td>17885</td>\n",
       "      <td>753</td>\n",
       "    </tr>\n",
       "    <tr>\n",
       "      <th>max</th>\n",
       "      <td>1569366</td>\n",
       "      <td>1718515</td>\n",
       "      <td>8909333</td>\n",
       "      <td>42198786</td>\n",
       "    </tr>\n",
       "  </tbody>\n",
       "</table>\n",
       "</div>"
      ],
      "text/plain": [
       "       friends_count  favourites_count  statuses_count  followers_count\n",
       "count        1843438           1843438         1843438          1843438\n",
       "mean             870              8753           17675             3601\n",
       "std             4889             22033           40482           118540\n",
       "min                0                 0               1                0\n",
       "25%              168               443            1104              103\n",
       "50%              357              2164            5204              298\n",
       "75%              758              7922           17885              753\n",
       "max          1569366           1718515         8909333         42198786"
      ]
     },
     "execution_count": 12,
     "metadata": {},
     "output_type": "execute_result"
    }
   ],
   "source": [
    "df.iloc[:,[1,2,3,4]].describe().astype(int)"
   ]
  },
  {
   "cell_type": "markdown",
   "id": "c3bbefb2",
   "metadata": {},
   "source": [
    "## TODO: Pickle notre pandas dataframe, comme ca on n'a pas besoin de connecter au MongoDB a chaque fois."
   ]
  },
  {
   "cell_type": "code",
   "execution_count": null,
   "id": "ac4ab6d1",
   "metadata": {},
   "outputs": [],
   "source": []
  },
  {
   "cell_type": "code",
   "execution_count": null,
   "id": "c715ff09",
   "metadata": {},
   "outputs": [],
   "source": []
  },
  {
   "cell_type": "markdown",
   "id": "de4f1e40",
   "metadata": {},
   "source": [
    "## Feature Engineering"
   ]
  },
  {
   "cell_type": "markdown",
   "id": "8376bb7f",
   "metadata": {},
   "source": [
    "#### Calculer les indicateurs (attributs dérivés) ci-dessous destinés à la description des 'influenceurs'\n",
    "- 1) Visibilité: Vis\n",
    "- 2) Nombre moyen de 'aimer' par tweet: avg_fav \n",
    "- 3) Ratio entre nombre de 'abonné' et nombre de 'abonnement': r_fri_follow\n",
    "- 4) la fréquence de publication de tweets depuis la création de compte jusqu'à t0 = 01/01/2019: frequency"
   ]
  },
  {
   "cell_type": "markdown",
   "id": "7f46c766",
   "metadata": {},
   "source": [
    "#### 1) Visibilité: Vis\n"
   ]
  },
  {
   "cell_type": "code",
   "execution_count": 15,
   "id": "58553888",
   "metadata": {},
   "outputs": [],
   "source": [
    "# Regrouper les textes de tweet par chaque utilisateur\n",
    "cursor1 = collection.aggregate(\n",
    "    [        \n",
    "         {\"$group\" : {\n",
    "            \"_id\" : \"$user.id\", \n",
    "            \n",
    "            \"tweets\" : {\"$push\": \"$text\"}\n",
    "        }\n",
    "        }\n",
    "    ],\n",
    "    allowDiskUse=True\n",
    ")\n",
    "df1 = pd.json_normalize(cursor1)"
   ]
  },
  {
   "cell_type": "code",
   "execution_count": 16,
   "id": "2655a8f2",
   "metadata": {},
   "outputs": [],
   "source": [
    "def calcul_visibility(row):\n",
    "    s = 0\n",
    "    for tweet in row[\"tweets\"]:\n",
    "        s += tweet.count(\"@\")*11.4  # le coût moyen pour @ est 11,4\n",
    "        s += tweet.count(\"#\")*11.6  # le coût moyen pour # est 11,6 cf.fichier 'SPOT'\n",
    "    return s/(140*len(row[\"tweets\"]))\n",
    "\n",
    "visibilities = df1.apply(calcul_visibility,axis=1)"
   ]
  },
  {
   "cell_type": "markdown",
   "id": "e9278295",
   "metadata": {},
   "source": [
    "#### 2) Nombre moyen de 'aimer' par tweet: avg_fav\n"
   ]
  },
  {
   "cell_type": "code",
   "execution_count": 17,
   "id": "eb5d5638",
   "metadata": {},
   "outputs": [],
   "source": [
    "avg_fav = df.favourites_count/df.statuses_count"
   ]
  },
  {
   "cell_type": "markdown",
   "id": "db126c6e",
   "metadata": {},
   "source": [
    "#### 3) Ratio entre nombre de 'abonné' et nombre de 'abonnement': r_fri_follow"
   ]
  },
  {
   "cell_type": "code",
   "execution_count": 18,
   "id": "eab2df93",
   "metadata": {},
   "outputs": [],
   "source": [
    "r_fri_follow = df.followers_count/df.friends_count"
   ]
  },
  {
   "cell_type": "markdown",
   "id": "7fd5f5fe",
   "metadata": {},
   "source": [
    "#### 4) la fréquence de publication de tweets depuis la création de compte jusqu'à t0 = 01/01/2019: frequency"
   ]
  },
  {
   "cell_type": "code",
   "execution_count": 19,
   "id": "6fba8c90",
   "metadata": {},
   "outputs": [],
   "source": [
    "import time\n",
    "def ratio(row):\n",
    "    time_array = time.strptime(row[\"created_time\"], \"%a %b %d %H:%M:%S +0000 %Y\")\n",
    "    time_stamp = time.mktime(time_array)\n",
    "    time_stamp_0 = time.mktime(time.strptime(\"Mon Jan 1 00:00:00 2019\", '%a %b %d %H:%M:%S %Y'))\n",
    "    # on multiplie une constante = 100 pour amplifier les résultats\n",
    "    return row[\"statuses_count\"]*100/(time_stamp_0 - time_stamp) \n",
    "\n",
    "frequency = df.apply(ratio, axis=1)  "
   ]
  },
  {
   "cell_type": "markdown",
   "id": "e0eb5ac2",
   "metadata": {},
   "source": [
    "#### Générer un dataframe en regroupant les quatres indicateurs calculés"
   ]
  },
  {
   "cell_type": "code",
   "execution_count": 20,
   "id": "3ec714e0",
   "metadata": {},
   "outputs": [],
   "source": [
    "features = pd.DataFrame()\n",
    "features[\"user_id\"] = df.iloc[:,0]\n",
    "features[\"vis\"] = visibilities\n",
    "features[\"r_fri_follow\"] = r_fri_follow\n",
    "features[\"avg_fav\"] = avg_fav\n",
    "features[\"frequency\"] = frequency"
   ]
  },
  {
   "cell_type": "markdown",
   "id": "03883002",
   "metadata": {},
   "source": [
    "#### On supprime toutes les lignes qui contiennent 'Nan' ou 'inf'"
   ]
  },
  {
   "cell_type": "code",
   "execution_count": null,
   "id": "fc96eeee",
   "metadata": {
    "scrolled": true
   },
   "outputs": [],
   "source": [
    "pd.options.mode.use_inf_as_na = True\n",
    "features.dropna(inplace=True)\n",
    "features = features.reset_index(drop=True)"
   ]
  },
  {
   "cell_type": "markdown",
   "id": "15413794",
   "metadata": {},
   "source": [
    "#### On normalise les données pour effectuer les classifications\n"
   ]
  },
  {
   "cell_type": "code",
   "execution_count": 22,
   "id": "b38f731b",
   "metadata": {},
   "outputs": [
    {
     "data": {
      "text/html": [
       "<div>\n",
       "<style scoped>\n",
       "    .dataframe tbody tr th:only-of-type {\n",
       "        vertical-align: middle;\n",
       "    }\n",
       "\n",
       "    .dataframe tbody tr th {\n",
       "        vertical-align: top;\n",
       "    }\n",
       "\n",
       "    .dataframe thead th {\n",
       "        text-align: right;\n",
       "    }\n",
       "</style>\n",
       "<table border=\"1\" class=\"dataframe\">\n",
       "  <thead>\n",
       "    <tr style=\"text-align: right;\">\n",
       "      <th></th>\n",
       "      <th>vis</th>\n",
       "      <th>r_fri_follow</th>\n",
       "      <th>avg_fav</th>\n",
       "      <th>frequency</th>\n",
       "    </tr>\n",
       "  </thead>\n",
       "  <tbody>\n",
       "    <tr>\n",
       "      <th>0</th>\n",
       "      <td>0.024957</td>\n",
       "      <td>0.996502</td>\n",
       "      <td>0.079755</td>\n",
       "      <td>0.000947</td>\n",
       "    </tr>\n",
       "    <tr>\n",
       "      <th>1</th>\n",
       "      <td>0.000000</td>\n",
       "      <td>0.986698</td>\n",
       "      <td>0.162562</td>\n",
       "      <td>0.000789</td>\n",
       "    </tr>\n",
       "    <tr>\n",
       "      <th>2</th>\n",
       "      <td>0.004236</td>\n",
       "      <td>0.999739</td>\n",
       "      <td>0.022437</td>\n",
       "      <td>0.000180</td>\n",
       "    </tr>\n",
       "    <tr>\n",
       "      <th>3</th>\n",
       "      <td>0.068294</td>\n",
       "      <td>0.974714</td>\n",
       "      <td>0.212763</td>\n",
       "      <td>0.000616</td>\n",
       "    </tr>\n",
       "    <tr>\n",
       "      <th>4</th>\n",
       "      <td>0.040957</td>\n",
       "      <td>0.989022</td>\n",
       "      <td>0.141976</td>\n",
       "      <td>0.000206</td>\n",
       "    </tr>\n",
       "    <tr>\n",
       "      <th>...</th>\n",
       "      <td>...</td>\n",
       "      <td>...</td>\n",
       "      <td>...</td>\n",
       "      <td>...</td>\n",
       "    </tr>\n",
       "    <tr>\n",
       "      <th>1832729</th>\n",
       "      <td>1.000000</td>\n",
       "      <td>0.000000</td>\n",
       "      <td>0.000000</td>\n",
       "      <td>0.000381</td>\n",
       "    </tr>\n",
       "    <tr>\n",
       "      <th>1832730</th>\n",
       "      <td>1.000000</td>\n",
       "      <td>0.000000</td>\n",
       "      <td>0.000000</td>\n",
       "      <td>0.000018</td>\n",
       "    </tr>\n",
       "    <tr>\n",
       "      <th>1832731</th>\n",
       "      <td>1.000000</td>\n",
       "      <td>0.000000</td>\n",
       "      <td>0.000000</td>\n",
       "      <td>0.000018</td>\n",
       "    </tr>\n",
       "    <tr>\n",
       "      <th>1832732</th>\n",
       "      <td>1.000000</td>\n",
       "      <td>0.000000</td>\n",
       "      <td>0.000000</td>\n",
       "      <td>0.000071</td>\n",
       "    </tr>\n",
       "    <tr>\n",
       "      <th>1832733</th>\n",
       "      <td>0.444139</td>\n",
       "      <td>0.000000</td>\n",
       "      <td>0.895958</td>\n",
       "      <td>0.000005</td>\n",
       "    </tr>\n",
       "  </tbody>\n",
       "</table>\n",
       "<p>1832734 rows × 4 columns</p>\n",
       "</div>"
      ],
      "text/plain": [
       "              vis  r_fri_follow   avg_fav  frequency\n",
       "0        0.024957      0.996502  0.079755   0.000947\n",
       "1        0.000000      0.986698  0.162562   0.000789\n",
       "2        0.004236      0.999739  0.022437   0.000180\n",
       "3        0.068294      0.974714  0.212763   0.000616\n",
       "4        0.040957      0.989022  0.141976   0.000206\n",
       "...           ...           ...       ...        ...\n",
       "1832729  1.000000      0.000000  0.000000   0.000381\n",
       "1832730  1.000000      0.000000  0.000000   0.000018\n",
       "1832731  1.000000      0.000000  0.000000   0.000018\n",
       "1832732  1.000000      0.000000  0.000000   0.000071\n",
       "1832733  0.444139      0.000000  0.895958   0.000005\n",
       "\n",
       "[1832734 rows x 4 columns]"
      ]
     },
     "execution_count": 22,
     "metadata": {},
     "output_type": "execute_result"
    }
   ],
   "source": [
    "from sklearn import preprocessing\n",
    "\n",
    "features_normalized = preprocessing.normalize(features.iloc[:,[1,2,3,4]])\n",
    "features_normalized = pd.DataFrame(features_normalized)\n",
    "features_normalized.columns = ['vis','r_fri_follow','avg_fav','frequency']\n",
    "features_normalized"
   ]
  },
  {
   "cell_type": "markdown",
   "id": "e57541fb",
   "metadata": {},
   "source": [
    "#### On effectue l'ACP pour réduire les 4 dimensions"
   ]
  },
  {
   "cell_type": "code",
   "execution_count": 23,
   "id": "48f21f74",
   "metadata": {},
   "outputs": [
    {
     "name": "stdout",
     "output_type": "stream",
     "text": [
      "La moyenne :  [-3.13630157e-16 -9.65361810e-19 -1.52674490e-17  5.70687785e-17]\n",
      "L'écart type :  [1. 1. 1. 1.]\n",
      "[0.25811879 0.25118505 0.24985585 0.2408403 ]\n"
     ]
    },
    {
     "data": {
      "text/plain": [
       "array([[ 0.42596149, -0.81684978,  0.18330679,  0.08457819],\n",
       "       [ 0.48045645, -1.27408903,  0.31074178,  0.48710648],\n",
       "       [ 0.41389715, -0.80223787,  0.18322466,  0.09804469],\n",
       "       ...,\n",
       "       [ 0.02779715,  0.70098496, -0.19473224, -0.73080405],\n",
       "       [ 0.03004893,  0.69222588, -0.19257438, -0.72616199],\n",
       "       [-0.27043817,  1.74735851, -0.44065788, -1.18148258]])"
      ]
     },
     "execution_count": 23,
     "metadata": {},
     "output_type": "execute_result"
    }
   ],
   "source": [
    "from sklearn.decomposition import PCA\n",
    "from sklearn.preprocessing import StandardScaler\n",
    "\n",
    "features_standardized = StandardScaler().fit_transform(features.iloc[:,[1,2,3,4]]) #il faut centrer et réduire les données d'abord\n",
    "# vérification\n",
    "print(\"La moyenne : \",np.mean(features_standardized,axis=0))\n",
    "print(\"L'écart type : \",np.std(features_standardized,axis=0))\n",
    "\n",
    "acp = PCA(svd_solver='auto')\n",
    "coord = acp.fit_transform(features_standardized) \n",
    "print(acp.explained_variance_ratio_) # les pourcentage de variance projectée sur chaque axe (composante principale)\n",
    "coord # les coordonées des individus dans les nouveaux repères"
   ]
  },
  {
   "cell_type": "markdown",
   "id": "60b464fc",
   "metadata": {},
   "source": [
    "## Unsupervised learning (K-means)"
   ]
  },
  {
   "cell_type": "markdown",
   "id": "9ad4ec08",
   "metadata": {},
   "source": [
    "#### Basé sur le résultat d'ACP, on effectue le K-means dans le plan (1,2) qui se compose de deux composantes dont inerties les plus élevées \n"
   ]
  },
  {
   "cell_type": "code",
   "execution_count": 24,
   "id": "3e9ff509",
   "metadata": {},
   "outputs": [
    {
     "name": "stdout",
     "output_type": "stream",
     "text": [
      "(array([0, 1], dtype=int32), array([1378293,  454441]))\n"
     ]
    }
   ],
   "source": [
    "from sklearn.cluster import KMeans\n",
    "import matplotlib.pyplot as plt\n",
    "%matplotlib inline\n",
    "\n",
    "kmeans = KMeans(n_clusters=2, random_state=0) # Selon le sujet, ici on ne choisit que de classer en 2 clusters.\n",
    "labels = kmeans.fit_predict(coord[:,[0,1]]) # on ne prend que les coordonées de l'axe 1 et 2\n",
    "\n",
    "print(np.unique(labels, return_counts=True)) # afficher la condition de séparation\n",
    "\n",
    "labels0 = coord[labels == 0]\n",
    "labels1 = coord[labels == 1]"
   ]
  },
  {
   "cell_type": "markdown",
   "id": "e6a13fb0",
   "metadata": {},
   "source": [
    "#### Plot K-means \n",
    "\n",
    "Pour voir plus clairement, on prend aléatoirement 100 points pour tracer le graphique"
   ]
  },
  {
   "cell_type": "code",
   "execution_count": 68,
   "id": "c0dd7041",
   "metadata": {},
   "outputs": [
    {
     "data": {
      "text/plain": [
       "<matplotlib.collections.PathCollection at 0x7fde473b2f40>"
      ]
     },
     "execution_count": 68,
     "metadata": {},
     "output_type": "execute_result"
    },
    {
     "data": {
      "image/png": "[encoded data removed]",
      "text/plain": [
       "<Figure size 432x288 with 1 Axes>"
      ]
     },
     "metadata": {
      "needs_background": "light"
     },
     "output_type": "display_data"
    }
   ],
   "source": [
    "plt.scatter(np.random.choice(labels0[:,0],100), np.random.choice(labels0[:,1],100), c='red', s=5) \n",
    "\n",
    "plt.scatter(np.random.choice(labels1[:,0],100), np.random.choice(labels1[:,1],100), c='blue', s=5) "
   ]
  },
  {
   "cell_type": "markdown",
   "id": "78e8029d",
   "metadata": {},
   "source": [
    "Avant de passer à l'approche supervisée, il faut d'abord labeliser les données\n",
    "Dans cette étape on va utiliser un échantillon de taille 50000 pour entraîner le modèle\n",
    "Comme on a 4 indicateurs, on décide de les combiner en utilisant la méthode d'entropie"
   ]
  },
  {
   "cell_type": "markdown",
   "id": "da8dcdbb",
   "metadata": {},
   "source": [
    "## Labeliser les données"
   ]
  },
  {
   "cell_type": "markdown",
   "id": "9dfd7a01",
   "metadata": {},
   "source": [
    "#### Méthode d'entropie\n"
   ]
  },
  {
   "cell_type": "code",
   "execution_count": 27,
   "id": "82985f23",
   "metadata": {},
   "outputs": [
    {
     "name": "stdout",
     "output_type": "stream",
     "text": [
      "#######Poids:#######\n",
      "                 Poids\n",
      "vis           0.636514\n",
      "r_fri_follow  0.002862\n",
      "avg_fav       0.025274\n",
      "frequency     0.335349\n"
     ]
    }
   ],
   "source": [
    "\n",
    "data = features.iloc[:,[1,2,3,4]]\n",
    "indicateur = data.columns.tolist()   ## nombre des indicateurs\n",
    "profil = data.index.tolist()    ## nombre des profils\n",
    "value = data.values\n",
    "\n",
    "# définir la fonction de normalisation, on rajoute une constante 0,01\n",
    "def std_data(value,flag):\n",
    "    for i in range(len(indicateur)):\n",
    "        if flag[i]=='+':\n",
    "            value[:,i]=(value[:,i]-np.min(value[:,i],axis=0))/(np.max(value[:,i],axis=0)-np.min(value[:,i],axis=0))+0.01\n",
    "        elif flag[i]=='-':\n",
    "            value[:,i]=(np.max(value[:,i],axis=0)-value[:,i])/(np.max(value[:,i],axis=0)-np.min(value[:,i],axis=0))+0.01\n",
    "    return value\n",
    "\n",
    "# définir la fonction d'entropie et calculer les poids et les entropies\n",
    "def cal_weight(indicateur,profil,value):\n",
    "    p= np.array([[0.0 for i in range(len(indicateur))] for i in range(len(profil))])                    \n",
    "    for i in range(len(indicateur)):\n",
    "        p[:,i]=value[:,i]/np.sum(value[:,i],axis=0)\n",
    "        \n",
    "    e=-1/np.log(len(profil))*sum(p*np.log(p))      #calcul d'entropie\n",
    "    g=1-e     \n",
    "    w=g/sum(g)     #calcul des poids\n",
    "    return w\n",
    "\n",
    "# normalisation des données\n",
    "flag=[\"+\",\"+\",\"+\",\"+\"]  ## '+' ou '-' désigne le sens positif ou négatif des indicateurs\n",
    "std_value=std_data(value,flag)\n",
    "std_value.round(3)\n",
    "\n",
    "# Résultat\n",
    "w=cal_weight(indicateur,profil,std_value)\n",
    "w=pd.DataFrame(w,index=data.columns,columns=['Poids'])\n",
    "print(\"#######Poids:#######\")\n",
    "print(w)\n",
    "score=np.dot(std_value,w).round(2)\n",
    "score=pd.DataFrame(score,index=data.index,columns=['Notes']).sort_values(by =['Notes'],ascending = False)\n",
    "\n"
   ]
  },
  {
   "cell_type": "markdown",
   "id": "b17f571f",
   "metadata": {},
   "source": [
    "la note de chaque utilisateur représente la correspondance avec les profils qu'on va détecter\n",
    "Si une note plus élevée, le profil correspondant est plus probablement censé un influnceur"
   ]
  },
  {
   "cell_type": "markdown",
   "id": "24afa2e2",
   "metadata": {},
   "source": [
    " A l'aide de résultat ci-dessus, on peut compter la fréquence de chaque note. Avec cela, on va ensuite calculer le pourcentage de fréquence cumulée. En vertu de principe de Pareto (80/20), on peut alors découper les données en 2 classes: les profils plus générals (la somme de fréquence représente environ 80% au total) et le reste plus critique (20%)"
   ]
  },
  {
   "cell_type": "code",
   "execution_count": 46,
   "id": "cb2fa61a",
   "metadata": {},
   "outputs": [
    {
     "name": "stdout",
     "output_type": "stream",
     "text": [
      "0.14524911962128711\n",
      "[0.13, 0.11, 0.16, 0.18, 0.12, 0.14, 0.21, 0.15, 0.17, 0.23, 0.2, 0.19, 0.25, 0.28, 0.26, 0.22, 0.3, 0.24, 0.33, 0.27, 0.48, 0.31, 0.29, 0.35, 0.43, 0.32, 0.6, 0.4, 0.34, 0.45, 0.38, 0.36, 0.39, 0.37, 0.52, 0.5, 0.41, 0.55, 0.65, 0.57, 0.66, 0.62, 0.49]\n"
     ]
    }
   ],
   "source": [
    "import collections\n",
    "data1 = []\n",
    "for i in range(266203):\n",
    "    data1.append(score.iloc[i,0])\n",
    "\n",
    "c = collections.Counter(data1) #créer un counter pour compter la fréquence de note\n",
    "\n",
    "freq = np.array(list(dict(c).items()),dtype = 'float')\n",
    "np.set_printoptions(suppress=True)\n",
    "freq = freq[np.lexsort(-freq.T)] # ordonner par décroissant en fonction de fréquence"
   ]
  },
  {
   "cell_type": "code",
   "execution_count": 53,
   "id": "9b5587cb",
   "metadata": {},
   "outputs": [
    {
     "name": "stdout",
     "output_type": "stream",
     "text": [
      "0.8247615541522823\n",
      "[0.13, 0.11, 0.16, 0.18, 0.12]\n"
     ]
    }
   ],
   "source": [
    "somme = 0\n",
    "cumul = 0.00\n",
    "cluster = []\n",
    "\n",
    "for i in range(len(freq)):\n",
    "    if cumul <= 0.81:          # 0.01 de tolérance \n",
    "        somme += freq[i,1].astype(int)\n",
    "        cluster.append(freq[i,0])\n",
    "        cumul = float(somme/len(data1))\n",
    "    else: \n",
    "        break\n",
    "    \n",
    "print(cumul) # le pourcentage cumulé pour la classe 'générale'\n",
    "print(cluster) #les notes de cette classe"
   ]
  },
  {
   "cell_type": "markdown",
   "id": "fb208d40",
   "metadata": {},
   "source": [
    "#### On va maintenant labeliser les profils en fonction de classes divisées ci-dessus\n"
   ]
  },
  {
   "cell_type": "code",
   "execution_count": 57,
   "id": "8c3b55a3",
   "metadata": {
    "scrolled": true
   },
   "outputs": [
    {
     "data": {
      "text/plain": [
       "1153103   -1\n",
       "967026    -1\n",
       "16090     -1\n",
       "199538    -1\n",
       "5959      -1\n",
       "          ..\n",
       "674714    -1\n",
       "1280439   -1\n",
       "1280438   -1\n",
       "674722    -1\n",
       "515487    -1\n",
       "Length: 1832734, dtype: int64"
      ]
     },
     "execution_count": 57,
     "metadata": {},
     "output_type": "execute_result"
    }
   ],
   "source": [
    "label = score.apply(lambda row: 1 if row[\"Notes\"] in cluster else -1, axis=1 )\n",
    "label"
   ]
  },
  {
   "cell_type": "markdown",
   "id": "96360f44",
   "metadata": {},
   "source": [
    "## Supervised learning  (SVM)"
   ]
  },
  {
   "cell_type": "code",
   "execution_count": 59,
   "id": "26d51210",
   "metadata": {},
   "outputs": [],
   "source": [
    "# Application de la méthode SVM\n",
    "data = features_normalized\n",
    "data[\"label\"] = label\n",
    "data = data.sample(50000) # On prend un échantillon de taille 50000\n",
    "\n",
    "X = data.iloc[:,[0,1,2,3]]\n",
    "y = data.iloc[:,[4]]\n",
    "X = X.to_numpy()\n",
    "y = Y.to_numpy().ravel()"
   ]
  },
  {
   "cell_type": "code",
   "execution_count": 60,
   "id": "f5d1b1bb",
   "metadata": {},
   "outputs": [
    {
     "data": {
      "text/html": [
       "<style>#sk-container-id-1 {color: black;background-color: white;}#sk-container-id-1 pre{padding: 0;}#sk-container-id-1 div.sk-toggleable {background-color: white;}#sk-container-id-1 label.sk-toggleable__label {cursor: pointer;display: block;width: 100%;margin-bottom: 0;padding: 0.3em;box-sizing: border-box;text-align: center;}#sk-container-id-1 label.sk-toggleable__label-arrow:before {content: \"▸\";float: left;margin-right: 0.25em;color: #696969;}#sk-container-id-1 label.sk-toggleable__label-arrow:hover:before {color: black;}#sk-container-id-1 div.sk-estimator:hover label.sk-toggleable__label-arrow:before {color: black;}#sk-container-id-1 div.sk-toggleable__content {max-height: 0;max-width: 0;overflow: hidden;text-align: left;background-color: #f0f8ff;}#sk-container-id-1 div.sk-toggleable__content pre {margin: 0.2em;color: black;border-radius: 0.25em;background-color: #f0f8ff;}#sk-container-id-1 input.sk-toggleable__control:checked~div.sk-toggleable__content {max-height: 200px;max-width: 100%;overflow: auto;}#sk-container-id-1 input.sk-toggleable__control:checked~label.sk-toggleable__label-arrow:before {content: \"▾\";}#sk-container-id-1 div.sk-estimator input.sk-toggleable__control:checked~label.sk-toggleable__label {background-color: #d4ebff;}#sk-container-id-1 div.sk-label input.sk-toggleable__control:checked~label.sk-toggleable__label {background-color: #d4ebff;}#sk-container-id-1 input.sk-hidden--visually {border: 0;clip: rect(1px 1px 1px 1px);clip: rect(1px, 1px, 1px, 1px);height: 1px;margin: -1px;overflow: hidden;padding: 0;position: absolute;width: 1px;}#sk-container-id-1 div.sk-estimator {font-family: monospace;background-color: #f0f8ff;border: 1px dotted black;border-radius: 0.25em;box-sizing: border-box;margin-bottom: 0.5em;}#sk-container-id-1 div.sk-estimator:hover {background-color: #d4ebff;}#sk-container-id-1 div.sk-parallel-item::after {content: \"\";width: 100%;border-bottom: 1px solid gray;flex-grow: 1;}#sk-container-id-1 div.sk-label:hover label.sk-toggleable__label {background-color: #d4ebff;}#sk-container-id-1 div.sk-serial::before {content: \"\";position: absolute;border-left: 1px solid gray;box-sizing: border-box;top: 0;bottom: 0;left: 50%;z-index: 0;}#sk-container-id-1 div.sk-serial {display: flex;flex-direction: column;align-items: center;background-color: white;padding-right: 0.2em;padding-left: 0.2em;position: relative;}#sk-container-id-1 div.sk-item {position: relative;z-index: 1;}#sk-container-id-1 div.sk-parallel {display: flex;align-items: stretch;justify-content: center;background-color: white;position: relative;}#sk-container-id-1 div.sk-item::before, #sk-container-id-1 div.sk-parallel-item::before {content: \"\";position: absolute;border-left: 1px solid gray;box-sizing: border-box;top: 0;bottom: 0;left: 50%;z-index: -1;}#sk-container-id-1 div.sk-parallel-item {display: flex;flex-direction: column;z-index: 1;position: relative;background-color: white;}#sk-container-id-1 div.sk-parallel-item:first-child::after {align-self: flex-end;width: 50%;}#sk-container-id-1 div.sk-parallel-item:last-child::after {align-self: flex-start;width: 50%;}#sk-container-id-1 div.sk-parallel-item:only-child::after {width: 0;}#sk-container-id-1 div.sk-dashed-wrapped {border: 1px dashed gray;margin: 0 0.4em 0.5em 0.4em;box-sizing: border-box;padding-bottom: 0.4em;background-color: white;}#sk-container-id-1 div.sk-label label {font-family: monospace;font-weight: bold;display: inline-block;line-height: 1.2em;}#sk-container-id-1 div.sk-label-container {text-align: center;}#sk-container-id-1 div.sk-container {/* jupyter's `normalize.less` sets `[hidden] { display: none; }` but bootstrap.min.css set `[hidden] { display: none !important; }` so we also need the `!important` here to be able to override the default hidden behavior on the sphinx rendered scikit-learn.org. See: https://github.com/scikit-learn/scikit-learn/issues/21755 */display: inline-block !important;position: relative;}#sk-container-id-1 div.sk-text-repr-fallback {display: none;}</style><div id=\"sk-container-id-1\" class=\"sk-top-container\"><div class=\"sk-text-repr-fallback\"><pre>SVC()</pre><b>In a Jupyter environment, please rerun this cell to show the HTML representation or trust the notebook. <br />On GitHub, the HTML representation is unable to render, please try loading this page with nbviewer.org.</b></div><div class=\"sk-container\" hidden><div class=\"sk-item\"><div class=\"sk-estimator sk-toggleable\"><input class=\"sk-toggleable__control sk-hidden--visually\" id=\"sk-estimator-id-1\" type=\"checkbox\" checked><label for=\"sk-estimator-id-1\" class=\"sk-toggleable__label sk-toggleable__label-arrow\">SVC</label><div class=\"sk-toggleable__content\"><pre>SVC()</pre></div></div></div></div></div>"
      ],
      "text/plain": [
       "SVC()"
      ]
     },
     "execution_count": 60,
     "metadata": {},
     "output_type": "execute_result"
    }
   ],
   "source": [
    "from sklearn import svm\n",
    "from sklearn.model_selection import train_test_split\n",
    "from sklearn.model_selection import GridSearchCV\n",
    "from sklearn.metrics import accuracy_score, classification_report\n",
    "\n",
    "X_train, X_test, y_train, y_test = train_test_split(X, y, \n",
    "                                    test_size=0.3, random_state=42) # On sépare les jeux d'entrâinement et de test         \n",
    "\n",
    "\n",
    "parameters = {'C':[1, 10, 100, 1000], 'kernel':['rbf'], 'gamma':[0.001,0.0001]}\n",
    "              \n",
    "             \n",
    "# svm_clf = svm.SVC()\n",
    "svm_clf = svm.SVC()\n",
    "svm_clf.fit(X_train, y_train)\n",
    "\n"
   ]
  },
  {
   "cell_type": "markdown",
   "id": "6d3489b2",
   "metadata": {},
   "source": [
    "#### Grid Search de parametres"
   ]
  },
  {
   "cell_type": "code",
   "execution_count": 2,
   "id": "3efbcb54",
   "metadata": {},
   "outputs": [],
   "source": [
    "# clf = GridSearchCV(svm_clf, parameters)\n",
    "# clf.fit(X_train, y_train)\n",
    "\n",
    "# a=pd.DataFrame(clf.cv_results_)\n",
    "# a.sort_values(['mean_test_score'],ascending=False)\n",
    "\n",
    "\n",
    "# print(clf.best_estimator_, clf.best_score_)"
   ]
  },
  {
   "cell_type": "code",
   "execution_count": 61,
   "id": "5bad6647",
   "metadata": {},
   "outputs": [
    {
     "name": "stdout",
     "output_type": "stream",
     "text": [
      "0.8340666666666666 \n",
      "               precision    recall  f1-score   support\n",
      "\n",
      "          -1       0.84      1.00      0.91     12502\n",
      "           1       0.54      0.02      0.04      2498\n",
      "\n",
      "    accuracy                           0.83     15000\n",
      "   macro avg       0.69      0.51      0.48     15000\n",
      "weighted avg       0.79      0.83      0.77     15000\n",
      "\n"
     ]
    }
   ],
   "source": [
    "y_pred = svm_clf.predict(X_test)\n",
    "print(accuracy_score(y_test,y_pred),'\\n',classification_report(y_test,y_pred))"
   ]
  },
  {
   "cell_type": "markdown",
   "id": "f5127874",
   "metadata": {},
   "source": [
    "#### On doit verifier si notre modele a overfit ou pas. Comme on le voit, puisque la precision de prediction est pareille sur X_train et sur X_test, on n'a pas le probleme de overfitting ici."
   ]
  },
  {
   "cell_type": "code",
   "execution_count": 70,
   "id": "0979f84e",
   "metadata": {},
   "outputs": [
    {
     "name": "stdout",
     "output_type": "stream",
     "text": [
      "0.8329428571428571\n"
     ]
    }
   ],
   "source": [
    "y_pred_2 = svm_clf.predict(X_train)\n",
    "print(accuracy_score(y_train,y_pred_2))"
   ]
  },
  {
   "cell_type": "markdown",
   "id": "c5d188d2",
   "metadata": {},
   "source": [
    "#### plot confusion matrix"
   ]
  },
  {
   "cell_type": "code",
   "execution_count": 62,
   "id": "55b87fd6",
   "metadata": {},
   "outputs": [
    {
     "data": {
      "image/png": "[encoded data removed]",
      "text/plain": [
       "<Figure size 720x480 with 2 Axes>"
      ]
     },
     "metadata": {
      "needs_background": "light"
     },
     "output_type": "display_data"
    }
   ],
   "source": [
    "from sklearn.metrics import confusion_matrix\n",
    "\n",
    "cm = confusion_matrix(y_test, y_pred)\n",
    "np.set_printoptions(precision=2)\n",
    "cm_normalized = cm.astype('float') / cm.sum(axis=1)[:, np.newaxis]\n",
    "# print(cm_normalized)\n",
    "\n",
    "tick_marks = np.array(range(2)) + 0.5###\n",
    "\n",
    "labels=range(2)###\n",
    "def plot_confusion_matrix(cm, title='Confusion Matrix', cmap=plt.cm.binary):\n",
    "    plt.imshow(cm, interpolation='nearest', cmap=cmap)\n",
    "    plt.title(title)\n",
    "    plt.colorbar()\n",
    "    xlocations = np.array(range(2))###\n",
    "    plt.xticks(xlocations, labels, rotation=90)\n",
    "    plt.yticks(xlocations, labels)\n",
    "    plt.ylabel('True label')\n",
    "    plt.xlabel('Predicted label')\n",
    "\n",
    "\n",
    "plt.figure(figsize=(6, 4), dpi=120)\n",
    "\n",
    "ind_array = np.arange(2)###\n",
    "x, y = np.meshgrid(ind_array, ind_array)\n",
    "\n",
    "for x_val, y_val in zip(x.flatten(), y.flatten()):\n",
    "    c = cm_normalized[y_val][x_val]\n",
    "    if c > 0.01:\n",
    "        plt.text(x_val, y_val, \"%0.2f\" % (c,), color='red', fontsize=7, va='center', ha='center')\n",
    "# offset the tick\n",
    "plt.gca().set_xticks(tick_marks, minor=True)\n",
    "plt.gca().set_yticks(tick_marks, minor=True)\n",
    "plt.gca().xaxis.set_ticks_position('none')\n",
    "plt.gca().yaxis.set_ticks_position('none')\n",
    "plt.grid(True, which='minor', linestyle='-')\n",
    "plt.gcf().subplots_adjust(bottom=0.15)\n",
    "\n",
    "plot_confusion_matrix(cm_normalized, title='Normalized confusion matrix')\n",
    "plt.show()"
   ]
  }
 ],
 "metadata": {
  "kernelspec": {
   "display_name": "Python 3",
   "language": "python",
   "name": "python3"
  },
  "language_info": {
   "codemirror_mode": {
    "name": "ipython",
    "version": 3
   },
   "file_extension": ".py",
   "mimetype": "text/x-python",
   "name": "python",
   "nbconvert_exporter": "python",
   "pygments_lexer": "ipython3",
   "version": "3.7.0"
  }
 },
 "nbformat": 4,
 "nbformat_minor": 5
}
