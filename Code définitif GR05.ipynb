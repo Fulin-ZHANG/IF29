{
 "cells": [
  {
   "cell_type": "markdown",
   "id": "80a83392",
   "metadata": {},
   "source": [
    "# Projet IF29 P22\n",
    "### Détection des influenceurs sur Twitter en appliquant les méthodes non supervisée et supervisée"
   ]
  },
  {
   "cell_type": "code",
   "execution_count": 1,
   "id": "ddc6eda8",
   "metadata": {},
   "outputs": [],
   "source": [
    "# Créer la BD en utilisant le fichier 'Worldcup 200Tweets' sur moodle\n",
    "from pymongo import MongoClient"
   ]
  },
  {
   "cell_type": "code",
   "execution_count": null,
   "id": "87989867",
   "metadata": {},
   "outputs": [],
   "source": [
    "import os\n",
    "import json\n",
    "\n",
    "client = MongoClient('localhost', 27017)\n",
    "db = client['______'] # nom de BD\n",
    "collection = db['______'] #nom de collection\n",
    "parent_dir = (\"_____________________________________\") #adresse de fichier\n",
    "list_filename = os.listdir(parent_dir)\n",
    "\n",
    "for filename in list_filename:\n",
    "    filepath = parent_dir + filename\n",
    "    with open(filepath, encoding='utf-8') as f:\n",
    "        lines = f.readlines()\n",
    "        f.close()\n",
    "    for line in lines:\n",
    "        document = json.loads(line[:-1])\n",
    "        collection.insert_one(document)"
   ]
  },
  {
   "cell_type": "code",
   "execution_count": 2,
   "id": "87508bc7",
   "metadata": {},
   "outputs": [],
   "source": [
    "# Connecter à la BD\n",
    "from pymongo import MongoClient\n",
    "\n",
    "client = MongoClient('localhost', 27017)\n",
    "db = client['if29']\n",
    "collection = db['Tweet Worldcup 200']"
   ]
  },
  {
   "cell_type": "code",
   "execution_count": 3,
   "id": "e8064526",
   "metadata": {},
   "outputs": [],
   "source": [
    "import numpy as np\n",
    "import pandas as pd\n",
    "import matplotlib.pyplot as plt\n",
    "%matplotlib inline"
   ]
  },
  {
   "cell_type": "code",
   "execution_count": 4,
   "id": "43b1d82d",
   "metadata": {},
   "outputs": [],
   "source": [
    "# Créer le dataframe en utilisant les attributs qui nous intéressent concernant les utilisateurs\n",
    "\n",
    "cursor = collection.aggregate(\n",
    "    [\n",
    "        {\"$group\" : {\n",
    "            \"_id\" : \"$user.id\", \n",
    "            \"friends_count\" : {\"$last\" : \"$user.friends_count\"},\n",
    "            \"favourites_count\" : {\"$last\" : \"$user.favourites_count\"},\n",
    "            \"statuses_count\" : {\"$last\" : \"$user.statuses_count\"},\n",
    "            \"followers_count\" : {\"$last\" : \"$user.followers_count\"},\n",
    "             \"created_time\" : {\"$last\" : \"$user.created_at\"}\n",
    "        }\n",
    "        }\n",
    "    ]\n",
    ")\n",
    "df = pd.json_normalize(cursor)"
   ]
  },
  {
   "cell_type": "code",
   "execution_count": 4,
   "id": "b7b9ca2c",
   "metadata": {
    "scrolled": true
   },
   "outputs": [
    {
     "data": {
      "text/html": [
       "<div>\n",
       "<style scoped>\n",
       "    .dataframe tbody tr th:only-of-type {\n",
       "        vertical-align: middle;\n",
       "    }\n",
       "\n",
       "    .dataframe tbody tr th {\n",
       "        vertical-align: top;\n",
       "    }\n",
       "\n",
       "    .dataframe thead th {\n",
       "        text-align: right;\n",
       "    }\n",
       "</style>\n",
       "<table border=\"1\" class=\"dataframe\">\n",
       "  <thead>\n",
       "    <tr style=\"text-align: right;\">\n",
       "      <th></th>\n",
       "      <th>friends_count</th>\n",
       "      <th>favourites_count</th>\n",
       "      <th>statuses_count</th>\n",
       "      <th>followers_count</th>\n",
       "    </tr>\n",
       "  </thead>\n",
       "  <tbody>\n",
       "    <tr>\n",
       "      <th>count</th>\n",
       "      <td>267467</td>\n",
       "      <td>267467</td>\n",
       "      <td>267467</td>\n",
       "      <td>267467</td>\n",
       "    </tr>\n",
       "    <tr>\n",
       "      <th>mean</th>\n",
       "      <td>1101</td>\n",
       "      <td>9108</td>\n",
       "      <td>22204</td>\n",
       "      <td>7829</td>\n",
       "    </tr>\n",
       "    <tr>\n",
       "      <th>std</th>\n",
       "      <td>5539</td>\n",
       "      <td>25271</td>\n",
       "      <td>54745</td>\n",
       "      <td>181738</td>\n",
       "    </tr>\n",
       "    <tr>\n",
       "      <th>min</th>\n",
       "      <td>0</td>\n",
       "      <td>0</td>\n",
       "      <td>1</td>\n",
       "      <td>0</td>\n",
       "    </tr>\n",
       "    <tr>\n",
       "      <th>25%</th>\n",
       "      <td>186</td>\n",
       "      <td>380</td>\n",
       "      <td>1329</td>\n",
       "      <td>124</td>\n",
       "    </tr>\n",
       "    <tr>\n",
       "      <th>50%</th>\n",
       "      <td>408</td>\n",
       "      <td>1946</td>\n",
       "      <td>6275</td>\n",
       "      <td>363</td>\n",
       "    </tr>\n",
       "    <tr>\n",
       "      <th>75%</th>\n",
       "      <td>906</td>\n",
       "      <td>7547</td>\n",
       "      <td>21751</td>\n",
       "      <td>1019</td>\n",
       "    </tr>\n",
       "    <tr>\n",
       "      <th>max</th>\n",
       "      <td>544830</td>\n",
       "      <td>1718515</td>\n",
       "      <td>8898917</td>\n",
       "      <td>30755372</td>\n",
       "    </tr>\n",
       "  </tbody>\n",
       "</table>\n",
       "</div>"
      ],
      "text/plain": [
       "       friends_count  favourites_count  statuses_count  followers_count\n",
       "count         267467            267467          267467           267467\n",
       "mean            1101              9108           22204             7829\n",
       "std             5539             25271           54745           181738\n",
       "min                0                 0               1                0\n",
       "25%              186               380            1329              124\n",
       "50%              408              1946            6275              363\n",
       "75%              906              7547           21751             1019\n",
       "max           544830           1718515         8898917         30755372"
      ]
     },
     "execution_count": 4,
     "metadata": {},
     "output_type": "execute_result"
    }
   ],
   "source": [
    "# Première analyse sur le résumé des données quantitatives\n",
    "df.iloc[:,[1,2,3,4]].describe().astype(int)"
   ]
  },
  {
   "cell_type": "code",
   "execution_count": 5,
   "id": "de3e4437",
   "metadata": {},
   "outputs": [],
   "source": [
    "# Calculer les indicateurs (attributs dérivés) ci-dessous destinés à la description des 'influenceurs'\n",
    "# 1) Visibilité: Vis\n",
    "# 2) Nombre moyen de 'aimer' par tweet: avg_fav \n",
    "# 3) Ratio entre nombre de 'abonné' et nombre de 'abonnement': r_fri_follow\n",
    "# 4) la fréquence de publication de tweets depuis la création de compte jusqu'à t0 = 01/01/2019: frequency"
   ]
  },
  {
   "cell_type": "code",
   "execution_count": 5,
   "id": "4a8c1ff1",
   "metadata": {},
   "outputs": [],
   "source": [
    "# 1) Visibilité: Vis\n",
    "\n",
    "# Regrouper les textes de tweet par chaque utilisateur\n",
    "cursor1 = collection.aggregate(\n",
    "    [        \n",
    "         {\"$group\" : {\n",
    "            \"_id\" : \"$user.id\", \n",
    "            \n",
    "            \"tweets\" : {\"$push\": \"$text\"}\n",
    "        }\n",
    "        }\n",
    "    ]\n",
    ")\n",
    "df1 = pd.json_normalize(cursor1)"
   ]
  },
  {
   "cell_type": "code",
   "execution_count": 6,
   "id": "2655a8f2",
   "metadata": {},
   "outputs": [],
   "source": [
    "def calcul_visibility(row):\n",
    "    s = 0\n",
    "    for tweet in row[\"tweets\"]:\n",
    "        s += tweet.count(\"@\")*11.4  # le coût moyen pour @ est 11,4\n",
    "        s += tweet.count(\"#\")*11.6  # le coût moyen pour # est 11,6 cf.fichier 'SPOT'\n",
    "    return s/(140*len(row[\"tweets\"]))\n",
    "\n",
    "visibilities = df1.apply(calcul_visibility,axis=1)"
   ]
  },
  {
   "cell_type": "code",
   "execution_count": 7,
   "id": "eb5d5638",
   "metadata": {},
   "outputs": [],
   "source": [
    "# 2) Nombre moyen de 'aimer' par tweet: avg_fav\n",
    "avg_fav = df.favourites_count/df.statuses_count"
   ]
  },
  {
   "cell_type": "code",
   "execution_count": 8,
   "id": "eab2df93",
   "metadata": {},
   "outputs": [],
   "source": [
    "# 3) Ratio entre nombre de 'abonné' et nombre de 'abonnement': r_fri_follow\n",
    "r_fri_follow = df.followers_count/df.friends_count"
   ]
  },
  {
   "cell_type": "code",
   "execution_count": 9,
   "id": "1e521064",
   "metadata": {},
   "outputs": [],
   "source": [
    "# 4) la fréquence de publication de tweets depuis la création de compte jusqu'à t0 = 01/01/2019: frequency\n",
    "import time\n",
    "def ratio(row):\n",
    "    time_array = time.strptime(row[\"created_time\"], \"%a %b %d %H:%M:%S +0000 %Y\")\n",
    "    time_stamp = time.mktime(time_array)\n",
    "    time_stamp_0 = time.mktime(time.strptime(\"Mon Jan 1 00:00:00 2019\", '%a %b %d %H:%M:%S %Y'))\n",
    "    # on multiplie une constante = 100 pour amplifier les résultats\n",
    "    return row[\"statuses_count\"]*100/(time_stamp_0 - time_stamp) \n",
    "\n",
    "frequency = df.apply(ratio, axis=1)  "
   ]
  },
  {
   "cell_type": "code",
   "execution_count": 10,
   "id": "3ec714e0",
   "metadata": {},
   "outputs": [],
   "source": [
    "# Générer un dataframe en regroupant les quatres indicateurs calculés\n",
    "features = pd.DataFrame()\n",
    "features[\"user_id\"] = df.iloc[:,0]\n",
    "features[\"vis\"] = visibilities\n",
    "features[\"r_fri_follow\"] = r_fri_follow\n",
    "features[\"avg_fav\"] = avg_fav\n",
    "features[\"frequency\"] = frequency"
   ]
  },
  {
   "cell_type": "code",
   "execution_count": 11,
   "id": "fc96eeee",
   "metadata": {
    "scrolled": true
   },
   "outputs": [],
   "source": [
    "# On supprime toutes les lignes qui contiennent 'Nan' ou 'inf'\n",
    "\n",
    "pd.options.mode.use_inf_as_na = True\n",
    "features.dropna(inplace=True)\n",
    "features = features.reset_index(drop=True)"
   ]
  },
  {
   "cell_type": "code",
   "execution_count": 14,
   "id": "326ba9ce",
   "metadata": {},
   "outputs": [
    {
     "data": {
      "text/html": [
       "<div>\n",
       "<style scoped>\n",
       "    .dataframe tbody tr th:only-of-type {\n",
       "        vertical-align: middle;\n",
       "    }\n",
       "\n",
       "    .dataframe tbody tr th {\n",
       "        vertical-align: top;\n",
       "    }\n",
       "\n",
       "    .dataframe thead th {\n",
       "        text-align: right;\n",
       "    }\n",
       "</style>\n",
       "<table border=\"1\" class=\"dataframe\">\n",
       "  <thead>\n",
       "    <tr style=\"text-align: right;\">\n",
       "      <th></th>\n",
       "      <th>vis</th>\n",
       "      <th>r_fri_follow</th>\n",
       "      <th>avg_fav</th>\n",
       "      <th>frequency</th>\n",
       "      <th>user_id</th>\n",
       "    </tr>\n",
       "  </thead>\n",
       "  <tbody>\n",
       "    <tr>\n",
       "      <th>0</th>\n",
       "      <td>0.059903</td>\n",
       "      <td>0.915813</td>\n",
       "      <td>0.397067</td>\n",
       "      <td>0.005987</td>\n",
       "      <td>578385417</td>\n",
       "    </tr>\n",
       "    <tr>\n",
       "      <th>1</th>\n",
       "      <td>0.137039</td>\n",
       "      <td>0.103644</td>\n",
       "      <td>0.985103</td>\n",
       "      <td>0.007079</td>\n",
       "      <td>840286929757327360</td>\n",
       "    </tr>\n",
       "    <tr>\n",
       "      <th>2</th>\n",
       "      <td>0.013439</td>\n",
       "      <td>0.990276</td>\n",
       "      <td>0.138446</td>\n",
       "      <td>0.002294</td>\n",
       "      <td>985244406</td>\n",
       "    </tr>\n",
       "    <tr>\n",
       "      <th>3</th>\n",
       "      <td>0.423706</td>\n",
       "      <td>0.282105</td>\n",
       "      <td>0.860750</td>\n",
       "      <td>0.000134</td>\n",
       "      <td>880421242020536320</td>\n",
       "    </tr>\n",
       "    <tr>\n",
       "      <th>4</th>\n",
       "      <td>0.101917</td>\n",
       "      <td>0.096089</td>\n",
       "      <td>0.990141</td>\n",
       "      <td>0.000840</td>\n",
       "      <td>3293454442</td>\n",
       "    </tr>\n",
       "    <tr>\n",
       "      <th>...</th>\n",
       "      <td>...</td>\n",
       "      <td>...</td>\n",
       "      <td>...</td>\n",
       "      <td>...</td>\n",
       "      <td>...</td>\n",
       "    </tr>\n",
       "    <tr>\n",
       "      <th>266198</th>\n",
       "      <td>0.380860</td>\n",
       "      <td>0.924630</td>\n",
       "      <td>0.000000</td>\n",
       "      <td>0.002286</td>\n",
       "      <td>979507946748104705</td>\n",
       "    </tr>\n",
       "    <tr>\n",
       "      <th>266199</th>\n",
       "      <td>0.146435</td>\n",
       "      <td>0.983698</td>\n",
       "      <td>0.101751</td>\n",
       "      <td>0.023287</td>\n",
       "      <td>422026094</td>\n",
       "    </tr>\n",
       "    <tr>\n",
       "      <th>266200</th>\n",
       "      <td>0.067663</td>\n",
       "      <td>0.948789</td>\n",
       "      <td>0.308565</td>\n",
       "      <td>0.003028</td>\n",
       "      <td>1361332098</td>\n",
       "    </tr>\n",
       "    <tr>\n",
       "      <th>266201</th>\n",
       "      <td>0.198209</td>\n",
       "      <td>0.876880</td>\n",
       "      <td>0.437797</td>\n",
       "      <td>0.011360</td>\n",
       "      <td>4690559857</td>\n",
       "    </tr>\n",
       "    <tr>\n",
       "      <th>266202</th>\n",
       "      <td>0.209045</td>\n",
       "      <td>0.045913</td>\n",
       "      <td>0.976828</td>\n",
       "      <td>0.000369</td>\n",
       "      <td>561064589</td>\n",
       "    </tr>\n",
       "  </tbody>\n",
       "</table>\n",
       "<p>266203 rows × 5 columns</p>\n",
       "</div>"
      ],
      "text/plain": [
       "             vis  r_fri_follow   avg_fav  frequency             user_id\n",
       "0       0.059903      0.915813  0.397067   0.005987           578385417\n",
       "1       0.137039      0.103644  0.985103   0.007079  840286929757327360\n",
       "2       0.013439      0.990276  0.138446   0.002294           985244406\n",
       "3       0.423706      0.282105  0.860750   0.000134  880421242020536320\n",
       "4       0.101917      0.096089  0.990141   0.000840          3293454442\n",
       "...          ...           ...       ...        ...                 ...\n",
       "266198  0.380860      0.924630  0.000000   0.002286  979507946748104705\n",
       "266199  0.146435      0.983698  0.101751   0.023287           422026094\n",
       "266200  0.067663      0.948789  0.308565   0.003028          1361332098\n",
       "266201  0.198209      0.876880  0.437797   0.011360          4690559857\n",
       "266202  0.209045      0.045913  0.976828   0.000369           561064589\n",
       "\n",
       "[266203 rows x 5 columns]"
      ]
     },
     "execution_count": 14,
     "metadata": {},
     "output_type": "execute_result"
    }
   ],
   "source": [
    "# On normalise les données pour effectuer les classifications\n",
    "from sklearn import preprocessing\n",
    "\n",
    "features_normalized = preprocessing.normalize(features.iloc[:,[1,2,3,4]])\n",
    "features_normalized = pd.DataFrame(features_normalized)\n",
    "features_normalized.columns = ['vis','r_fri_follow','avg_fav','frequency']\n",
    "features_normalized[\"user_id\"] = features[\"user_id\"]\n",
    "features_normalized"
   ]
  },
  {
   "cell_type": "code",
   "execution_count": 24,
   "id": "fa5036dd",
   "metadata": {},
   "outputs": [
    {
     "name": "stdout",
     "output_type": "stream",
     "text": [
      "(array([0, 1]), array([156715, 109488], dtype=int64))\n"
     ]
    }
   ],
   "source": [
    "# on effectue le K-means sur les données normalisées\n",
    "\n",
    "from sklearn.cluster import KMeans\n",
    "\n",
    "kmeans = KMeans(n_clusters=2, random_state=0) # Selon le sujet, ici on ne choisit que de classer en 2 clusters.\n",
    "labels = kmeans.fit_predict(features_normalized.iloc[:,[0,1,2,3]])   \n",
    "\n",
    "print(np.unique(labels, return_counts=True)) # afficher le résultat de séparation"
   ]
  },
  {
   "cell_type": "code",
   "execution_count": 25,
   "id": "f7ed9ee4",
   "metadata": {},
   "outputs": [
    {
     "data": {
      "image/png": "[encoded data removed]",
      "text/plain": [
       "<Figure size 432x288 with 1 Axes>"
      ]
     },
     "metadata": {
      "needs_background": "light"
     },
     "output_type": "display_data"
    }
   ],
   "source": [
    "# On effectue l'ACP pour réduire les 4 dimensions en 2\n",
    "from sklearn.decomposition import PCA\n",
    "\n",
    "coord = PCA(n_components=2).fit_transform(features_normalized.iloc[:, [0,1,2,3]])\n",
    "\n",
    "# projeter dans le plan factoriel avec un code couleur différent selon le groupe\n",
    "# Pour être plus lisible, on trace avec 100 points pris par hasard de chaque groupe\n",
    "for couleur,k in zip(['red','blue'],[0,1]):\n",
    "    plt.scatter(np.random.choice(coord[kmeans.labels_==k,0],100),\n",
    "                np.random.choice(coord[kmeans.labels_==k,1],100),\n",
    "                c=couleur\n",
    "               )\n",
    "\n",
    "plt.show()"
   ]
  },
  {
   "cell_type": "code",
   "execution_count": 82,
   "id": "ae8a9db2",
   "metadata": {},
   "outputs": [
    {
     "data": {
      "text/html": [
       "<div>\n",
       "<style scoped>\n",
       "    .dataframe tbody tr th:only-of-type {\n",
       "        vertical-align: middle;\n",
       "    }\n",
       "\n",
       "    .dataframe tbody tr th {\n",
       "        vertical-align: top;\n",
       "    }\n",
       "\n",
       "    .dataframe thead th {\n",
       "        text-align: right;\n",
       "    }\n",
       "</style>\n",
       "<table border=\"1\" class=\"dataframe\">\n",
       "  <thead>\n",
       "    <tr style=\"text-align: right;\">\n",
       "      <th></th>\n",
       "      <th>user_id</th>\n",
       "      <th>vis</th>\n",
       "      <th>r_fri_follow</th>\n",
       "      <th>avg_fav</th>\n",
       "      <th>frequency</th>\n",
       "      <th>kmeans</th>\n",
       "    </tr>\n",
       "  </thead>\n",
       "  <tbody>\n",
       "    <tr>\n",
       "      <th>0</th>\n",
       "      <td>885970791157960704</td>\n",
       "      <td>0.412857</td>\n",
       "      <td>0.140940</td>\n",
       "      <td>0.054364</td>\n",
       "      <td>0.015833</td>\n",
       "      <td>1</td>\n",
       "    </tr>\n",
       "    <tr>\n",
       "      <th>1</th>\n",
       "      <td>213953342</td>\n",
       "      <td>0.123571</td>\n",
       "      <td>0.835249</td>\n",
       "      <td>0.593961</td>\n",
       "      <td>0.005762</td>\n",
       "      <td>0</td>\n",
       "    </tr>\n",
       "    <tr>\n",
       "      <th>2</th>\n",
       "      <td>992050332170534913</td>\n",
       "      <td>0.116000</td>\n",
       "      <td>0.971429</td>\n",
       "      <td>0.234043</td>\n",
       "      <td>0.000449</td>\n",
       "      <td>0</td>\n",
       "    </tr>\n",
       "    <tr>\n",
       "      <th>3</th>\n",
       "      <td>951464137804181504</td>\n",
       "      <td>0.081429</td>\n",
       "      <td>0.190000</td>\n",
       "      <td>1.261373</td>\n",
       "      <td>0.003949</td>\n",
       "      <td>0</td>\n",
       "    </tr>\n",
       "    <tr>\n",
       "      <th>4</th>\n",
       "      <td>3293454442</td>\n",
       "      <td>0.206429</td>\n",
       "      <td>0.116505</td>\n",
       "      <td>1.200516</td>\n",
       "      <td>0.001019</td>\n",
       "      <td>0</td>\n",
       "    </tr>\n",
       "    <tr>\n",
       "      <th>...</th>\n",
       "      <td>...</td>\n",
       "      <td>...</td>\n",
       "      <td>...</td>\n",
       "      <td>...</td>\n",
       "      <td>...</td>\n",
       "      <td>...</td>\n",
       "    </tr>\n",
       "    <tr>\n",
       "      <th>266198</th>\n",
       "      <td>422026094</td>\n",
       "      <td>0.330000</td>\n",
       "      <td>2.216828</td>\n",
       "      <td>0.229302</td>\n",
       "      <td>0.052478</td>\n",
       "      <td>1</td>\n",
       "    </tr>\n",
       "    <tr>\n",
       "      <th>266199</th>\n",
       "      <td>2423474228</td>\n",
       "      <td>0.247857</td>\n",
       "      <td>1.027875</td>\n",
       "      <td>0.760796</td>\n",
       "      <td>0.005099</td>\n",
       "      <td>0</td>\n",
       "    </tr>\n",
       "    <tr>\n",
       "      <th>266200</th>\n",
       "      <td>600814999</td>\n",
       "      <td>0.164286</td>\n",
       "      <td>2.065846</td>\n",
       "      <td>0.034804</td>\n",
       "      <td>0.056749</td>\n",
       "      <td>0</td>\n",
       "    </tr>\n",
       "    <tr>\n",
       "      <th>266201</th>\n",
       "      <td>884981748207161346</td>\n",
       "      <td>0.081429</td>\n",
       "      <td>0.123188</td>\n",
       "      <td>0.309875</td>\n",
       "      <td>0.001896</td>\n",
       "      <td>0</td>\n",
       "    </tr>\n",
       "    <tr>\n",
       "      <th>266202</th>\n",
       "      <td>100436288</td>\n",
       "      <td>0.330000</td>\n",
       "      <td>0.268817</td>\n",
       "      <td>0.129224</td>\n",
       "      <td>0.002364</td>\n",
       "      <td>0</td>\n",
       "    </tr>\n",
       "  </tbody>\n",
       "</table>\n",
       "<p>266203 rows × 6 columns</p>\n",
       "</div>"
      ],
      "text/plain": [
       "                   user_id       vis  r_fri_follow   avg_fav  frequency  \\\n",
       "0       885970791157960704  0.412857      0.140940  0.054364   0.015833   \n",
       "1                213953342  0.123571      0.835249  0.593961   0.005762   \n",
       "2       992050332170534913  0.116000      0.971429  0.234043   0.000449   \n",
       "3       951464137804181504  0.081429      0.190000  1.261373   0.003949   \n",
       "4               3293454442  0.206429      0.116505  1.200516   0.001019   \n",
       "...                    ...       ...           ...       ...        ...   \n",
       "266198           422026094  0.330000      2.216828  0.229302   0.052478   \n",
       "266199          2423474228  0.247857      1.027875  0.760796   0.005099   \n",
       "266200           600814999  0.164286      2.065846  0.034804   0.056749   \n",
       "266201  884981748207161346  0.081429      0.123188  0.309875   0.001896   \n",
       "266202           100436288  0.330000      0.268817  0.129224   0.002364   \n",
       "\n",
       "        kmeans  \n",
       "0            1  \n",
       "1            0  \n",
       "2            0  \n",
       "3            0  \n",
       "4            0  \n",
       "...        ...  \n",
       "266198       1  \n",
       "266199       0  \n",
       "266200       0  \n",
       "266201       0  \n",
       "266202       0  \n",
       "\n",
       "[266203 rows x 6 columns]"
      ]
     },
     "execution_count": 82,
     "metadata": {},
     "output_type": "execute_result"
    }
   ],
   "source": [
    "#add kmeans lebels to features\n",
    "features[\"kmeans\"] = labels\n",
    "features"
   ]
  },
  {
   "cell_type": "code",
   "execution_count": 15,
   "id": "48f0318d",
   "metadata": {},
   "outputs": [],
   "source": [
    "# Avant de passer à l'approche supervisée, il faut d'abord labeliser les données\n",
    "# Dans cette étape on va utiliser un échantillon de taille 50000 pour entraîner le modèle\n",
    "# Comme on a 4 indicateurs, on décide de les combiner en utilisant la méthode d'entropie"
   ]
  },
  {
   "cell_type": "code",
   "execution_count": 84,
   "id": "82985f23",
   "metadata": {},
   "outputs": [
    {
     "name": "stdout",
     "output_type": "stream",
     "text": [
      "#######Poids:#######\n",
      "                 Poids\n",
      "vis           0.528286\n",
      "r_fri_follow  0.009408\n",
      "avg_fav       0.030442\n",
      "frequency     0.431864\n"
     ]
    }
   ],
   "source": [
    "# Méthode d'entropie\n",
    "\n",
    "data = features.iloc[:,[1,2,3,4]]\n",
    "indicateur = data.columns.tolist()   ## nombre des indicateurs\n",
    "profil = data.index.tolist()    ## nombre des profils\n",
    "value = data.values\n",
    "\n",
    "# définir la fonction de normalisation, on rajoute une constante 0,01\n",
    "def std_data(value,flag):\n",
    "    for i in range(len(indicateur)):\n",
    "        if flag[i]=='+':\n",
    "            value[:,i]=(value[:,i]-np.min(value[:,i],axis=0))/(np.max(value[:,i],axis=0)-np.min(value[:,i],axis=0))+0.01\n",
    "        elif flag[i]=='-':\n",
    "            value[:,i]=(np.max(value[:,i],axis=0)-value[:,i])/(np.max(value[:,i],axis=0)-np.min(value[:,i],axis=0))+0.01\n",
    "    return value\n",
    "\n",
    "# définir la fonction d'entropie et calculer les poids et les entropies\n",
    "def cal_weight(indicateur,profil,value):\n",
    "    p= np.array([[0.0 for i in range(len(indicateur))] for i in range(len(profil))])                    \n",
    "    for i in range(len(indicateur)):\n",
    "        p[:,i]=value[:,i]/np.sum(value[:,i],axis=0)\n",
    "        \n",
    "    e=-1/np.log(len(profil))*sum(p*np.log(p))      #calcul d'entropie\n",
    "    g=1-e     \n",
    "    w=g/sum(g)     #calcul des poids\n",
    "    return w\n",
    "\n",
    "# normalisation des données\n",
    "flag=[\"+\",\"+\",\"+\",\"+\"]  ## '+' ou '-' désigne le sens positif ou négatif des indicateurs\n",
    "std_value=std_data(value,flag)\n",
    "std_value.round(3)\n",
    "\n",
    "# Résultat\n",
    "w=cal_weight(indicateur,profil,std_value)\n",
    "w=pd.DataFrame(w,index=data.columns,columns=['Poids'])\n",
    "print(\"#######Poids:#######\")\n",
    "print(w)\n",
    "score=np.dot(std_value,w).round(2)\n",
    "score=pd.DataFrame(score,index=data.index,columns=['Notes']).sort_values(by =['Notes'],ascending = False)\n",
    "\n",
    "# la note de chaque utilisateur représente la correspondance avec les profils qu'on va détecter\n",
    "# Si une note plus élevée, le profil correspondant est plus probablement censé un influnceur"
   ]
  },
  {
   "cell_type": "code",
   "execution_count": 87,
   "id": "63c878cb",
   "metadata": {},
   "outputs": [],
   "source": [
    "# A l'aide de résultat ci-dessus, on peut compter la fréquence de chaque note. Avec cela, on va ensuite calculer\n",
    "# le pourcentage de fréquence cumulée. En vertu de principe de Pareto (80/20), on peut alors découper les données en 2 classes:\n",
    "# les profils plus générals (la somme de fréquence représente environ 80% au total) et le reste plus critique (20%)"
   ]
  },
  {
   "cell_type": "code",
   "execution_count": 88,
   "id": "cb2fa61a",
   "metadata": {},
   "outputs": [
    {
     "name": "stdout",
     "output_type": "stream",
     "text": [
      "0.8131839235470675\n",
      "[0.05, 0.03, 0.07, 0.09, 0.01, 0.06, 0.04]\n"
     ]
    }
   ],
   "source": [
    "import collections\n",
    "data1 = []\n",
    "for i in range(266203):\n",
    "    data1.append(score.iloc[i,0])\n",
    "\n",
    "c = collections.Counter(data1) #créer un counter pour compter la fréquence de note\n",
    "\n",
    "freq = np.array(list(dict(c).items()),dtype = 'float')\n",
    "\n",
    "freq = freq[np.lexsort(-freq.T)] # ordonner par décroissant en fonction de fréquence\n",
    "\n",
    "somme = 0\n",
    "cumul = 0.00\n",
    "cluster = []\n",
    "\n",
    "for i in range(len(data)):\n",
    "    if cumul <= 0.81:          # 0.01 de tolérance \n",
    "        somme = somme + freq[i,1].astype(int)\n",
    "        cluster.append(freq[i,0])\n",
    "        cumul = somme/len(score)\n",
    "    else: break\n",
    "    \n",
    "print(cumul) # le pourcentage cumulé pour la classe 'générale'\n",
    "print(cluster) #les notes de cette classe"
   ]
  },
  {
   "cell_type": "code",
   "execution_count": 89,
   "id": "8c3b55a3",
   "metadata": {
    "scrolled": false
   },
   "outputs": [
    {
     "data": {
      "text/plain": [
       "141753    1\n",
       "85307     1\n",
       "228955    1\n",
       "90331     1\n",
       "227063    1\n",
       "         ..\n",
       "232660    0\n",
       "250419    0\n",
       "232664    0\n",
       "118062    0\n",
       "105247    0\n",
       "Length: 266203, dtype: int64"
      ]
     },
     "execution_count": 89,
     "metadata": {},
     "output_type": "execute_result"
    }
   ],
   "source": [
    "# On va maintenant labeliser les profils en fonction de classes divisées ci-dessus\n",
    "label = score.apply(lambda row: 0 if row[\"Notes\"] in cluster else 1, axis=1 )\n",
    "label"
   ]
  },
  {
   "cell_type": "code",
   "execution_count": 130,
   "id": "00177909",
   "metadata": {},
   "outputs": [],
   "source": [
    "# Application de la méthode SVM\n",
    "data = features_normalized\n",
    "data[\"label\"] = label\n",
    "data = data.sample(50000) # On prend un échantillon de taille 50000\n",
    "\n",
    "X = data.iloc[:,[0,1,2,3,4]]\n",
    "Y = data.iloc[:,[5]]\n",
    "# X = X.to_numpy()\n",
    "# Y = Y.to_numpy().ravel()"
   ]
  },
  {
   "cell_type": "code",
   "execution_count": 133,
   "id": "727f7982",
   "metadata": {},
   "outputs": [],
   "source": [
    "from sklearn import svm\n",
    "from sklearn.model_selection import train_test_split\n",
    "from sklearn.model_selection import GridSearchCV\n",
    "from sklearn.metrics import accuracy_score, classification_report\n",
    "# On sépare les jeux d'entrâinement et de test\n",
    "X_train, X_test, y_train, y_test = train_test_split(X, Y, test_size=0.3, random_state=42)          "
   ]
  },
  {
   "cell_type": "code",
   "execution_count": 138,
   "id": "907c6742",
   "metadata": {},
   "outputs": [
    {
     "name": "stderr",
     "output_type": "stream",
     "text": [
      "E:\\Work\\Anaconda3\\lib\\site-packages\\sklearn\\utils\\validation.py:63: DataConversionWarning: A column-vector y was passed when a 1d array was expected. Please change the shape of y to (n_samples, ), for example using ravel().\n",
      "  return f(*args, **kwargs)\n"
     ]
    },
    {
     "name": "stdout",
     "output_type": "stream",
     "text": [
      "Training time: 114.77715182304382s\n"
     ]
    }
   ],
   "source": [
    "start = time.time()\n",
    "svm_clf = svm.SVC(C=100, gamma=10, class_weight='balanced')\n",
    "svm_clf.fit(X_train.iloc[:,[0,1,2,3]], y_train)\n",
    "stop = time.time()\n",
    "print(f\"Training time: {stop - start}s\")\n",
    "\n",
    "# parameters = {'C':[1, 10, 100, 1000], 'kernel':['rbf'], 'gamma':[0.001,0.0001]}             \n",
    "# svm_clf = svm.SVC()\n",
    "# clf = GridSearchCV(svm_clf, parameters)\n",
    "# clf.fit(X_train, y_train)\n",
    "# a=pd.DataFrame(clf.cv_results_)\n",
    "# a.sort_values(['mean_test_score'],ascending=False)\n",
    "# print(clf.best_estimator_, clf.best_score_)"
   ]
  },
  {
   "cell_type": "code",
   "execution_count": 140,
   "id": "e3fe318b",
   "metadata": {},
   "outputs": [
    {
     "name": "stdout",
     "output_type": "stream",
     "text": [
      "0.7064 \n",
      "               precision    recall  f1-score   support\n",
      "\n",
      "           0       0.90      0.72      0.80     12183\n",
      "           1       0.35      0.66      0.46      2817\n",
      "\n",
      "    accuracy                           0.71     15000\n",
      "   macro avg       0.63      0.69      0.63     15000\n",
      "weighted avg       0.80      0.71      0.73     15000\n",
      "\n"
     ]
    }
   ],
   "source": [
    "y_pred = svm_clf.predict(X_test.iloc[:,[0,1,2,3]])\n",
    "print(accuracy_score(y_test,y_pred),'\\n',classification_report(y_test,y_pred))"
   ]
  },
  {
   "cell_type": "code",
   "execution_count": 142,
   "id": "e0808923",
   "metadata": {
    "scrolled": true
   },
   "outputs": [
    {
     "name": "stderr",
     "output_type": "stream",
     "text": [
      "C:\\Users\\Sun\\AppData\\Local\\Temp\\ipykernel_88204\\1048693752.py:1: SettingWithCopyWarning: \n",
      "A value is trying to be set on a copy of a slice from a DataFrame.\n",
      "Try using .loc[row_indexer,col_indexer] = value instead\n",
      "\n",
      "See the caveats in the documentation: https://pandas.pydata.org/pandas-docs/stable/user_guide/indexing.html#returning-a-view-versus-a-copy\n",
      "  X_test[\"pred\"] = y_pred\n"
     ]
    }
   ],
   "source": [
    "#add predict labels to X_test\n",
    "X_test[\"pred\"] = y_pred"
   ]
  },
  {
   "cell_type": "code",
   "execution_count": 146,
   "id": "ff548757",
   "metadata": {},
   "outputs": [],
   "source": [
    "joined = X_test.merge(features, left_on=\"user_id\", right_on=\"user_id\")"
   ]
  },
  {
   "cell_type": "code",
   "execution_count": 147,
   "id": "16817d32",
   "metadata": {},
   "outputs": [
    {
     "data": {
      "text/html": [
       "<div>\n",
       "<style scoped>\n",
       "    .dataframe tbody tr th:only-of-type {\n",
       "        vertical-align: middle;\n",
       "    }\n",
       "\n",
       "    .dataframe tbody tr th {\n",
       "        vertical-align: top;\n",
       "    }\n",
       "\n",
       "    .dataframe thead th {\n",
       "        text-align: right;\n",
       "    }\n",
       "</style>\n",
       "<table border=\"1\" class=\"dataframe\">\n",
       "  <thead>\n",
       "    <tr style=\"text-align: right;\">\n",
       "      <th></th>\n",
       "      <th>vis_x</th>\n",
       "      <th>r_fri_follow_x</th>\n",
       "      <th>avg_fav_x</th>\n",
       "      <th>frequency_x</th>\n",
       "      <th>user_id</th>\n",
       "      <th>pred</th>\n",
       "      <th>vis_y</th>\n",
       "      <th>r_fri_follow_y</th>\n",
       "      <th>avg_fav_y</th>\n",
       "      <th>frequency_y</th>\n",
       "      <th>kmeans</th>\n",
       "      <th>svm</th>\n",
       "    </tr>\n",
       "  </thead>\n",
       "  <tbody>\n",
       "    <tr>\n",
       "      <th>0</th>\n",
       "      <td>0.027060</td>\n",
       "      <td>0.999582</td>\n",
       "      <td>0.007092</td>\n",
       "      <td>0.007350</td>\n",
       "      <td>846591654</td>\n",
       "      <td>0</td>\n",
       "      <td>0.247143</td>\n",
       "      <td>9.129213</td>\n",
       "      <td>0.064770</td>\n",
       "      <td>0.067129</td>\n",
       "      <td>1</td>\n",
       "      <td>1</td>\n",
       "    </tr>\n",
       "    <tr>\n",
       "      <th>1</th>\n",
       "      <td>0.206579</td>\n",
       "      <td>0.978154</td>\n",
       "      <td>0.021207</td>\n",
       "      <td>0.009519</td>\n",
       "      <td>500543567</td>\n",
       "      <td>1</td>\n",
       "      <td>0.165714</td>\n",
       "      <td>0.784661</td>\n",
       "      <td>0.017012</td>\n",
       "      <td>0.007636</td>\n",
       "      <td>0</td>\n",
       "      <td>0</td>\n",
       "    </tr>\n",
       "    <tr>\n",
       "      <th>6</th>\n",
       "      <td>0.061490</td>\n",
       "      <td>0.995672</td>\n",
       "      <td>0.022366</td>\n",
       "      <td>0.066005</td>\n",
       "      <td>768185351764443136</td>\n",
       "      <td>1</td>\n",
       "      <td>0.081429</td>\n",
       "      <td>1.318519</td>\n",
       "      <td>0.029618</td>\n",
       "      <td>0.087407</td>\n",
       "      <td>0</td>\n",
       "      <td>0</td>\n",
       "    </tr>\n",
       "    <tr>\n",
       "      <th>10</th>\n",
       "      <td>0.491297</td>\n",
       "      <td>0.638217</td>\n",
       "      <td>0.592712</td>\n",
       "      <td>0.000167</td>\n",
       "      <td>831944239</td>\n",
       "      <td>1</td>\n",
       "      <td>0.164286</td>\n",
       "      <td>0.213415</td>\n",
       "      <td>0.198198</td>\n",
       "      <td>0.000056</td>\n",
       "      <td>0</td>\n",
       "      <td>0</td>\n",
       "    </tr>\n",
       "    <tr>\n",
       "      <th>12</th>\n",
       "      <td>0.284102</td>\n",
       "      <td>0.957954</td>\n",
       "      <td>0.040000</td>\n",
       "      <td>0.003265</td>\n",
       "      <td>184928650</td>\n",
       "      <td>1</td>\n",
       "      <td>0.247143</td>\n",
       "      <td>0.833333</td>\n",
       "      <td>0.034797</td>\n",
       "      <td>0.002840</td>\n",
       "      <td>0</td>\n",
       "      <td>0</td>\n",
       "    </tr>\n",
       "    <tr>\n",
       "      <th>...</th>\n",
       "      <td>...</td>\n",
       "      <td>...</td>\n",
       "      <td>...</td>\n",
       "      <td>...</td>\n",
       "      <td>...</td>\n",
       "      <td>...</td>\n",
       "      <td>...</td>\n",
       "      <td>...</td>\n",
       "      <td>...</td>\n",
       "      <td>...</td>\n",
       "      <td>...</td>\n",
       "      <td>...</td>\n",
       "    </tr>\n",
       "    <tr>\n",
       "      <th>14984</th>\n",
       "      <td>0.256386</td>\n",
       "      <td>0.929161</td>\n",
       "      <td>0.265775</td>\n",
       "      <td>0.017005</td>\n",
       "      <td>318010642</td>\n",
       "      <td>1</td>\n",
       "      <td>0.164286</td>\n",
       "      <td>0.595383</td>\n",
       "      <td>0.170302</td>\n",
       "      <td>0.010896</td>\n",
       "      <td>0</td>\n",
       "      <td>0</td>\n",
       "    </tr>\n",
       "    <tr>\n",
       "      <th>14989</th>\n",
       "      <td>0.057794</td>\n",
       "      <td>0.998210</td>\n",
       "      <td>0.005172</td>\n",
       "      <td>0.014470</td>\n",
       "      <td>289333169</td>\n",
       "      <td>1</td>\n",
       "      <td>0.081429</td>\n",
       "      <td>1.406417</td>\n",
       "      <td>0.007287</td>\n",
       "      <td>0.020387</td>\n",
       "      <td>0</td>\n",
       "      <td>0</td>\n",
       "    </tr>\n",
       "    <tr>\n",
       "      <th>14990</th>\n",
       "      <td>0.728904</td>\n",
       "      <td>0.552476</td>\n",
       "      <td>0.404277</td>\n",
       "      <td>0.005400</td>\n",
       "      <td>2496562249</td>\n",
       "      <td>1</td>\n",
       "      <td>0.248571</td>\n",
       "      <td>0.188406</td>\n",
       "      <td>0.137867</td>\n",
       "      <td>0.001841</td>\n",
       "      <td>0</td>\n",
       "      <td>0</td>\n",
       "    </tr>\n",
       "    <tr>\n",
       "      <th>14994</th>\n",
       "      <td>0.017393</td>\n",
       "      <td>0.999390</td>\n",
       "      <td>0.029660</td>\n",
       "      <td>0.006176</td>\n",
       "      <td>450896622</td>\n",
       "      <td>0</td>\n",
       "      <td>0.248571</td>\n",
       "      <td>14.282705</td>\n",
       "      <td>0.423890</td>\n",
       "      <td>0.088267</td>\n",
       "      <td>1</td>\n",
       "      <td>0</td>\n",
       "    </tr>\n",
       "    <tr>\n",
       "      <th>14998</th>\n",
       "      <td>0.016507</td>\n",
       "      <td>0.999831</td>\n",
       "      <td>0.000082</td>\n",
       "      <td>0.008131</td>\n",
       "      <td>563569510</td>\n",
       "      <td>0</td>\n",
       "      <td>0.164286</td>\n",
       "      <td>9.951049</td>\n",
       "      <td>0.000820</td>\n",
       "      <td>0.080930</td>\n",
       "      <td>1</td>\n",
       "      <td>0</td>\n",
       "    </tr>\n",
       "  </tbody>\n",
       "</table>\n",
       "<p>4311 rows × 12 columns</p>\n",
       "</div>"
      ],
      "text/plain": [
       "          vis_x  r_fri_follow_x  avg_fav_x  frequency_x             user_id  \\\n",
       "0      0.027060        0.999582   0.007092     0.007350           846591654   \n",
       "1      0.206579        0.978154   0.021207     0.009519           500543567   \n",
       "6      0.061490        0.995672   0.022366     0.066005  768185351764443136   \n",
       "10     0.491297        0.638217   0.592712     0.000167           831944239   \n",
       "12     0.284102        0.957954   0.040000     0.003265           184928650   \n",
       "...         ...             ...        ...          ...                 ...   \n",
       "14984  0.256386        0.929161   0.265775     0.017005           318010642   \n",
       "14989  0.057794        0.998210   0.005172     0.014470           289333169   \n",
       "14990  0.728904        0.552476   0.404277     0.005400          2496562249   \n",
       "14994  0.017393        0.999390   0.029660     0.006176           450896622   \n",
       "14998  0.016507        0.999831   0.000082     0.008131           563569510   \n",
       "\n",
       "       pred     vis_y  r_fri_follow_y  avg_fav_y  frequency_y  kmeans  svm  \n",
       "0         0  0.247143        9.129213   0.064770     0.067129       1    1  \n",
       "1         1  0.165714        0.784661   0.017012     0.007636       0    0  \n",
       "6         1  0.081429        1.318519   0.029618     0.087407       0    0  \n",
       "10        1  0.164286        0.213415   0.198198     0.000056       0    0  \n",
       "12        1  0.247143        0.833333   0.034797     0.002840       0    0  \n",
       "...     ...       ...             ...        ...          ...     ...  ...  \n",
       "14984     1  0.164286        0.595383   0.170302     0.010896       0    0  \n",
       "14989     1  0.081429        1.406417   0.007287     0.020387       0    0  \n",
       "14990     1  0.248571        0.188406   0.137867     0.001841       0    0  \n",
       "14994     0  0.248571       14.282705   0.423890     0.088267       1    0  \n",
       "14998     0  0.164286        9.951049   0.000820     0.080930       1    0  \n",
       "\n",
       "[4311 rows x 12 columns]"
      ]
     },
     "execution_count": 147,
     "metadata": {},
     "output_type": "execute_result"
    }
   ],
   "source": [
    "joined[joined[\"pred\"]!=joined[\"kmeans\"]]"
   ]
  },
  {
   "cell_type": "code",
   "execution_count": 41,
   "id": "348659a4",
   "metadata": {},
   "outputs": [
    {
     "data": {
      "image/png": "[encoded data removed]",
      "text/plain": [
       "<Figure size 720x480 with 2 Axes>"
      ]
     },
     "metadata": {
      "needs_background": "light"
     },
     "output_type": "display_data"
    }
   ],
   "source": [
    "#plot confusion matrix\n",
    "from sklearn.metrics import confusion_matrix\n",
    "\n",
    "cm = confusion_matrix(y_test, y_pred)\n",
    "np.set_printoptions(precision=2)\n",
    "cm_normalized = cm.astype('float') / cm.sum(axis=1)[:, np.newaxis]\n",
    "# print(cm_normalized)\n",
    "\n",
    "tick_marks = np.array(range(2)) + 0.5###\n",
    "\n",
    "labels=range(2)###\n",
    "def plot_confusion_matrix(cm, title='Confusion Matrix', cmap=plt.cm.binary):\n",
    "    plt.imshow(cm, interpolation='nearest', cmap=cmap)\n",
    "    plt.title(title)\n",
    "    plt.colorbar()\n",
    "    xlocations = np.array(range(2))###\n",
    "    plt.xticks(xlocations, labels, rotation=90)\n",
    "    plt.yticks(xlocations, labels)\n",
    "    plt.ylabel('True label')\n",
    "    plt.xlabel('Predicted label')\n",
    "\n",
    "\n",
    "plt.figure(figsize=(6, 4), dpi=120)\n",
    "\n",
    "ind_array = np.arange(2)###\n",
    "x, y = np.meshgrid(ind_array, ind_array)\n",
    "\n",
    "for x_val, y_val in zip(x.flatten(), y.flatten()):\n",
    "    c = cm_normalized[y_val][x_val]\n",
    "    if c > 0.01:\n",
    "        plt.text(x_val, y_val, \"%0.2f\" % (c,), color='red', fontsize=7, va='center', ha='center')\n",
    "# offset the tick\n",
    "plt.gca().set_xticks(tick_marks, minor=True)\n",
    "plt.gca().set_yticks(tick_marks, minor=True)\n",
    "plt.gca().xaxis.set_ticks_position('none')\n",
    "plt.gca().yaxis.set_ticks_position('none')\n",
    "plt.grid(True, which='minor', linestyle='-')\n",
    "plt.gcf().subplots_adjust(bottom=0.15)\n",
    "\n",
    "plot_confusion_matrix(cm_normalized, title='Normalized confusion matrix')\n",
    "# show confusion matrix\n",
    "# plt.savefig('filepath')\n",
    "plt.show()"
   ]
  },
  {
   "cell_type": "code",
   "execution_count": 30,
   "id": "9c76a5d6",
   "metadata": {},
   "outputs": [],
   "source": [
    "#ROC cureve\n",
    "from sklearn import metrics\n",
    "from sklearn.metrics import auc"
   ]
  },
  {
   "cell_type": "code",
   "execution_count": 51,
   "id": "bea8e437",
   "metadata": {},
   "outputs": [],
   "source": [
    "y_score = svm_clf.decision_function(X_test)"
   ]
  },
  {
   "cell_type": "code",
   "execution_count": 52,
   "id": "c6d04db1",
   "metadata": {},
   "outputs": [],
   "source": [
    "fpr, tpr, thresholds = metrics.roc_curve(y_test, y_score, pos_label=1)"
   ]
  },
  {
   "cell_type": "code",
   "execution_count": 62,
   "id": "75436233",
   "metadata": {},
   "outputs": [
    {
     "data": {
      "image/png": "[encoded data removed]",
      "text/plain": [
       "<Figure size 432x288 with 1 Axes>"
      ]
     },
     "metadata": {
      "needs_background": "light"
     },
     "output_type": "display_data"
    }
   ],
   "source": [
    "plt.plot(fpr,tpr)\n",
    "plt.xlabel(\"False positive rate\")\n",
    "plt.ylabel(\"True positive rate\")\n",
    "plt.show()"
   ]
  },
  {
   "cell_type": "code",
   "execution_count": 61,
   "id": "d4e851ff",
   "metadata": {},
   "outputs": [
    {
     "name": "stdout",
     "output_type": "stream",
     "text": [
      "AUC:  0.7399783441526975\n"
     ]
    }
   ],
   "source": [
    "AUC = auc(fpr, tpr)\n",
    "print(\"AUC: \",AUC)"
   ]
  },
  {
   "cell_type": "code",
   "execution_count": 55,
   "id": "d63b2ed3",
   "metadata": {},
   "outputs": [],
   "source": [
    "#learing curve\n",
    "from sklearn.model_selection import learning_curve\n",
    "\n",
    "train_sizes, train_scores, test_scores = learning_curve(\n",
    "    svm_clf, X_train, y_train, scoring='accuracy'\n",
    ")"
   ]
  },
  {
   "cell_type": "code",
   "execution_count": 58,
   "id": "cd9b9ae3",
   "metadata": {},
   "outputs": [],
   "source": [
    "train_scores_mean = np.mean(train_scores, axis=1)\n",
    "train_scores_std = np.std(train_scores, axis=1)\n",
    "test_scores_mean = np.mean(test_scores, axis=1)\n",
    "test_scores_std = np.std(test_scores, axis=1)"
   ]
  },
  {
   "cell_type": "code",
   "execution_count": 60,
   "id": "2005e7b3",
   "metadata": {},
   "outputs": [
    {
     "data": {
      "image/png": "[encoded data removed]",
      "text/plain": [
       "<Figure size 432x288 with 1 Axes>"
      ]
     },
     "metadata": {
      "needs_background": "light"
     },
     "output_type": "display_data"
    }
   ],
   "source": [
    "plt.plot(train_sizes, train_scores_mean, 'o-', color='r', label='training')\n",
    "plt.plot(train_sizes, test_scores_mean, 'o-', color='b', label='cross-validation')\n",
    "plt.xlabel(\"training examples\")\n",
    "plt.ylabel(\"loss\")\n",
    "plt.legend(loc=\"best\")\n",
    "plt.show()"
   ]
  }
 ],
 "metadata": {
  "kernelspec": {
   "display_name": "Python 3 (ipykernel)",
   "language": "python",
   "name": "python3"
  },
  "language_info": {
   "codemirror_mode": {
    "name": "ipython",
    "version": 3
   },
   "file_extension": ".py",
   "mimetype": "text/x-python",
   "name": "python",
   "nbconvert_exporter": "python",
   "pygments_lexer": "ipython3",
   "version": "3.8.8"
  }
 },
 "nbformat": 4,
 "nbformat_minor": 5
}
