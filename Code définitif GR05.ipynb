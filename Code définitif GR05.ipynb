{
 "cells": [
  {
   "cell_type": "markdown",
   "id": "80a83392",
   "metadata": {},
   "source": [
    "# Projet IF29 P22\n",
    "### Détection des influenceurs sur Twitter en appliquant les méthodes non supervisée et supervisée"
   ]
  },
  {
   "cell_type": "code",
   "execution_count": 1,
   "id": "02205b87",
   "metadata": {},
   "outputs": [],
   "source": [
    "# Créer la BD en utilisant le fichier 'Worldcup 200Tweets' sur moodle\n",
    "from pymongo import MongoClient"
   ]
  },
  {
   "cell_type": "code",
   "execution_count": 1,
   "id": "87989867",
   "metadata": {},
   "outputs": [
    {
     "ename": "NameError",
     "evalue": "name 'MongoClient' is not defined",
     "output_type": "error",
     "traceback": [
      "\u001b[1;31m---------------------------------------------------------------------------\u001b[0m",
      "\u001b[1;31mNameError\u001b[0m                                 Traceback (most recent call last)",
      "Input \u001b[1;32mIn [1]\u001b[0m, in \u001b[0;36m<cell line: 4>\u001b[1;34m()\u001b[0m\n\u001b[0;32m      1\u001b[0m \u001b[38;5;28;01mimport\u001b[39;00m \u001b[38;5;21;01mos\u001b[39;00m\n\u001b[0;32m      2\u001b[0m \u001b[38;5;28;01mimport\u001b[39;00m \u001b[38;5;21;01mjson\u001b[39;00m\n\u001b[1;32m----> 4\u001b[0m client \u001b[38;5;241m=\u001b[39m \u001b[43mMongoClient\u001b[49m(\u001b[38;5;124m'\u001b[39m\u001b[38;5;124mlocalhost\u001b[39m\u001b[38;5;124m'\u001b[39m, \u001b[38;5;241m27017\u001b[39m)\n\u001b[0;32m      5\u001b[0m db \u001b[38;5;241m=\u001b[39m client[\u001b[38;5;124m'\u001b[39m\u001b[38;5;124m______\u001b[39m\u001b[38;5;124m'\u001b[39m] \u001b[38;5;66;03m# nom de BD\u001b[39;00m\n\u001b[0;32m      6\u001b[0m collection \u001b[38;5;241m=\u001b[39m db[\u001b[38;5;124m'\u001b[39m\u001b[38;5;124m______\u001b[39m\u001b[38;5;124m'\u001b[39m] \u001b[38;5;66;03m#nom de collection\u001b[39;00m\n",
      "\u001b[1;31mNameError\u001b[0m: name 'MongoClient' is not defined"
     ]
    }
   ],
   "source": [
    "import os\n",
    "import json\n",
    "\n",
    "client = MongoClient('localhost', 27017)\n",
    "db = client['______'] # nom de BD\n",
    "collection = db['______'] #nom de collection\n",
    "parent_dir = (\"_____________________________________\") #adresse de fichier\n",
    "list_filename = os.listdir(parent_dir)\n",
    "\n",
    "for filename in list_filename:\n",
    "    filepath = parent_dir + filename\n",
    "    with open(filepath, encoding='utf-8') as f:\n",
    "        lines = f.readlines()\n",
    "        f.close()\n",
    "    for line in lines:\n",
    "        document = json.loads(line[:-1])\n",
    "        collection.insert_one(document)"
   ]
  },
  {
   "cell_type": "code",
   "execution_count": 2,
   "id": "87508bc7",
   "metadata": {},
   "outputs": [],
   "source": [
    "# Connecter à la BD\n",
    "client = MongoClient('localhost', 27017)\n",
    "db = client['if29']\n",
    "collection = db['Tweet Worldcup 200']"
   ]
  },
  {
   "cell_type": "code",
   "execution_count": 3,
   "id": "43b1d82d",
   "metadata": {},
   "outputs": [],
   "source": [
    "# Créer le dataframe en utilisant les attributs qui nous intéressent concernant les utilisateurs\n",
    "import numpy as np\n",
    "import pandas as pd\n",
    "\n",
    "cursor = collection.aggregate(\n",
    "    [\n",
    "        {\"$group\" : {\n",
    "            \"_id\" : \"$user.id\", \n",
    "            \"friends_count\" : {\"$last\" : \"$user.friends_count\"},\n",
    "            \"favourites_count\" : {\"$last\" : \"$user.favourites_count\"},\n",
    "            \"statuses_count\" : {\"$last\" : \"$user.statuses_count\"},\n",
    "            \"followers_count\" : {\"$last\" : \"$user.followers_count\"},\n",
    "             \"created_time\" : {\"$last\" : \"$user.created_at\"}\n",
    "        }\n",
    "        }\n",
    "    ]\n",
    ")\n",
    "df = pd.json_normalize(cursor)"
   ]
  },
  {
   "cell_type": "code",
   "execution_count": 4,
   "id": "b7b9ca2c",
   "metadata": {
    "scrolled": true
   },
   "outputs": [
    {
     "data": {
      "text/html": [
       "<div>\n",
       "<style scoped>\n",
       "    .dataframe tbody tr th:only-of-type {\n",
       "        vertical-align: middle;\n",
       "    }\n",
       "\n",
       "    .dataframe tbody tr th {\n",
       "        vertical-align: top;\n",
       "    }\n",
       "\n",
       "    .dataframe thead th {\n",
       "        text-align: right;\n",
       "    }\n",
       "</style>\n",
       "<table border=\"1\" class=\"dataframe\">\n",
       "  <thead>\n",
       "    <tr style=\"text-align: right;\">\n",
       "      <th></th>\n",
       "      <th>friends_count</th>\n",
       "      <th>favourites_count</th>\n",
       "      <th>statuses_count</th>\n",
       "      <th>followers_count</th>\n",
       "    </tr>\n",
       "  </thead>\n",
       "  <tbody>\n",
       "    <tr>\n",
       "      <th>count</th>\n",
       "      <td>267467</td>\n",
       "      <td>267467</td>\n",
       "      <td>267467</td>\n",
       "      <td>267467</td>\n",
       "    </tr>\n",
       "    <tr>\n",
       "      <th>mean</th>\n",
       "      <td>1101</td>\n",
       "      <td>9108</td>\n",
       "      <td>22204</td>\n",
       "      <td>7829</td>\n",
       "    </tr>\n",
       "    <tr>\n",
       "      <th>std</th>\n",
       "      <td>5539</td>\n",
       "      <td>25271</td>\n",
       "      <td>54745</td>\n",
       "      <td>181738</td>\n",
       "    </tr>\n",
       "    <tr>\n",
       "      <th>min</th>\n",
       "      <td>0</td>\n",
       "      <td>0</td>\n",
       "      <td>1</td>\n",
       "      <td>0</td>\n",
       "    </tr>\n",
       "    <tr>\n",
       "      <th>25%</th>\n",
       "      <td>186</td>\n",
       "      <td>380</td>\n",
       "      <td>1329</td>\n",
       "      <td>124</td>\n",
       "    </tr>\n",
       "    <tr>\n",
       "      <th>50%</th>\n",
       "      <td>408</td>\n",
       "      <td>1946</td>\n",
       "      <td>6275</td>\n",
       "      <td>363</td>\n",
       "    </tr>\n",
       "    <tr>\n",
       "      <th>75%</th>\n",
       "      <td>906</td>\n",
       "      <td>7547</td>\n",
       "      <td>21750</td>\n",
       "      <td>1019</td>\n",
       "    </tr>\n",
       "    <tr>\n",
       "      <th>max</th>\n",
       "      <td>544830</td>\n",
       "      <td>1718515</td>\n",
       "      <td>8898917</td>\n",
       "      <td>30755372</td>\n",
       "    </tr>\n",
       "  </tbody>\n",
       "</table>\n",
       "</div>"
      ],
      "text/plain": [
       "       friends_count  favourites_count  statuses_count  followers_count\n",
       "count         267467            267467          267467           267467\n",
       "mean            1101              9108           22204             7829\n",
       "std             5539             25271           54745           181738\n",
       "min                0                 0               1                0\n",
       "25%              186               380            1329              124\n",
       "50%              408              1946            6275              363\n",
       "75%              906              7547           21750             1019\n",
       "max           544830           1718515         8898917         30755372"
      ]
     },
     "execution_count": 4,
     "metadata": {},
     "output_type": "execute_result"
    }
   ],
   "source": [
    "# Première analyse sur le résumé des données quantitatives\n",
    "df.iloc[:,[1,2,3,4]].describe().astype(int)"
   ]
  },
  {
   "cell_type": "code",
   "execution_count": 6,
   "id": "de3e4437",
   "metadata": {},
   "outputs": [],
   "source": [
    "# Calculer les indicateurs (attributs dérivés) ci-dessous destinés à la description des 'influenceurs'\n",
    "# 1) Visibilité: Vis\n",
    "# 2) Nombre moyen de 'aimer' par tweet: avg_fav \n",
    "# 3) Ratio entre nombre de 'abonné' et nombre de 'abonnement': r_fri_follow\n",
    "# 4) la fréquence de publication de tweets depuis la création de compte jusqu'à t0 = 01/01/2019: frequency"
   ]
  },
  {
   "cell_type": "code",
   "execution_count": 5,
   "id": "04eb3859",
   "metadata": {},
   "outputs": [],
   "source": [
    "# 1) Visibilité: Vis\n",
    "\n",
    "# Regrouper les textes de tweet par chaque utilisateur\n",
    "cursor1 = collection.aggregate(\n",
    "    [        \n",
    "         {\"$group\" : {\n",
    "            \"_id\" : \"$user.id\", \n",
    "            \n",
    "            \"tweets\" : {\"$push\": \"$text\"}\n",
    "        }\n",
    "        }\n",
    "    ]\n",
    ")\n",
    "df1 = pd.json_normalize(cursor1)"
   ]
  },
  {
   "cell_type": "code",
   "execution_count": 6,
   "id": "2655a8f2",
   "metadata": {},
   "outputs": [],
   "source": [
    "def calcul_visibility(row):\n",
    "    s = 0\n",
    "    for tweet in row[\"tweets\"]:\n",
    "        s += tweet.count(\"@\")*11.4  # le coût moyen pour @ est 11,4\n",
    "        s += tweet.count(\"#\")*11.6  # le coût moyen pour # est 11,6 cf.fichier 'SPOT'\n",
    "    return s/(140*len(row[\"tweets\"]))\n",
    "\n",
    "visibilities = df1.apply(calcul_visibility,axis=1)"
   ]
  },
  {
   "cell_type": "code",
   "execution_count": 7,
   "id": "eb5d5638",
   "metadata": {},
   "outputs": [],
   "source": [
    "# 2) Nombre moyen de 'aimer' par tweet: avg_fav\n",
    "avg_fav = df.favourites_count/df.statuses_count"
   ]
  },
  {
   "cell_type": "code",
   "execution_count": 8,
   "id": "eab2df93",
   "metadata": {},
   "outputs": [],
   "source": [
    "# 3) Ratio entre nombre de 'abonné' et nombre de 'abonnement': r_fri_follow\n",
    "r_fri_follow = df.followers_count/df.friends_count"
   ]
  },
  {
   "cell_type": "code",
   "execution_count": 9,
   "id": "2d1f2c50",
   "metadata": {},
   "outputs": [],
   "source": [
    "# 4) la fréquence de publication de tweets depuis la création de compte jusqu'à t0 = 01/01/2019: frequency\n",
    "projection = { \n",
    "    'user.statuses_count': 1,\n",
    "    'user.created_at': 1,\n",
    "    '_id': 0}\n",
    "cursor3 = collection.find({},projection)\n",
    "\n",
    "import time\n",
    "def ratio(row):\n",
    "    time_array = time.strptime(row[\"created_time\"], \"%a %b %d %H:%M:%S +0000 %Y\")\n",
    "    time_stamp = time.mktime(time_array)\n",
    "    time_stamp_0 = time.mktime(time.strptime(\"Mon Jan 1 00:00:00 2019\", '%a %b %d %H:%M:%S %Y'))\n",
    "    # on multiplie une constante = 100 pour amplifier les résultats\n",
    "    return row[\"statuses_count\"]*100/(time_stamp_0 - time_stamp) \n",
    "\n",
    "frequency = df.apply(ratio, axis=1)  "
   ]
  },
  {
   "cell_type": "code",
   "execution_count": 10,
   "id": "3ec714e0",
   "metadata": {},
   "outputs": [],
   "source": [
    "# Générer un dataframe en regroupant les quatres indicateurs calculés\n",
    "features = pd.DataFrame()\n",
    "features[\"user_id\"] = df.iloc[:,0]\n",
    "features[\"vis\"] = visibilities\n",
    "features[\"r_fri_follow\"] = r_fri_follow\n",
    "features[\"avg_fav\"] = avg_fav\n",
    "features[\"frequency\"] = frequency"
   ]
  },
  {
   "cell_type": "code",
   "execution_count": 11,
   "id": "fc96eeee",
   "metadata": {
    "scrolled": false
   },
   "outputs": [],
   "source": [
    "# On supprime toutes les lignes qui contiennent 'Nan' ou 'inf'\n",
    "pd.options.mode.use_inf_as_na = True\n",
    "\n",
    "features.dropna(inplace=True)\n"
   ]
  },
  {
   "cell_type": "code",
   "execution_count": null,
   "id": "b38f731b",
   "metadata": {},
   "outputs": [],
   "source": [
    "# On normalise les données pour effectuer les classifications\n",
    "from sklearn import preprocessing\n",
    "\n",
    "features_normalized = preprocessing.normalize(features.iloc[:,[1,2,3,4]])\n"
   ]
  },
  {
   "cell_type": "code",
   "execution_count": 70,
   "id": "48f21f74",
   "metadata": {},
   "outputs": [
    {
     "name": "stdout",
     "output_type": "stream",
     "text": [
      "La moyenne :  [ 4.66758858e-16  2.20207044e-18 -1.42000179e-17  1.47818983e-16]\n",
      "L'écart type :  [1. 1. 1. 1.]\n",
      "[0.25783086 0.25011789 0.24966702 0.24238423]\n"
     ]
    },
    {
     "data": {
      "text/plain": [
       "array([[-0.34501209,  0.64133616, -0.46962123,  0.25197694],\n",
       "       [-0.28715949,  0.19552108, -0.2096016 ,  0.32911506],\n",
       "       [ 0.01003812,  0.64773478, -0.48908687, -0.08928311],\n",
       "       ...,\n",
       "       [-0.16972085, -1.05636548,  0.72231095,  0.33822203],\n",
       "       [-0.37682228,  0.67118831, -0.43800529,  0.21354284],\n",
       "       [ 1.31042685, -0.99925053,  0.68103465, -1.166492  ]])"
      ]
     },
     "execution_count": 70,
     "metadata": {},
     "output_type": "execute_result"
    }
   ],
   "source": [
    "# On effectue l'ACP pour réduire les 4 dimensions\n",
    "from sklearn.decomposition import PCA\n",
    "from sklearn.preprocessing import StandardScaler\n",
    "\n",
    "features_standardized = StandardScaler().fit_transform(features.iloc[:,[1,2,3,4]]) #il faut centrer et réduire les données d'abord\n",
    "# vérification\n",
    "print(\"La moyenne : \",np.mean(features_standardized,axis=0))\n",
    "print(\"L'écart type : \",np.std(features_standardized,axis=0))\n",
    "\n",
    "acp = PCA(svd_solver='auto')\n",
    "coord = acp.fit_transform(features_standardized) \n",
    "print(acp.explained_variance_ratio_) # les pourcentage de variance projectée sur chaque axe (composante principale)\n",
    "coord # les coordonées des individus dans les nouveaux repères"
   ]
  },
  {
   "cell_type": "code",
   "execution_count": 86,
   "id": "046dfdd0",
   "metadata": {},
   "outputs": [
    {
     "name": "stdout",
     "output_type": "stream",
     "text": [
      "(array([0, 1]), array([206056,  60147], dtype=int64))\n"
     ]
    }
   ],
   "source": [
    "# Basé sur le résultat d'ACP, on effectue le K-means dans le plan (1,2) qui se compose de deux composantes dont inerties les plus élevées \n",
    "from sklearn.cluster import KMeans\n",
    "import matplotlib.pyplot as plt\n",
    "%matplotlib inline\n",
    "\n",
    "kmeans = KMeans(n_clusters=2, random_state=0) # Selon le sujet, ici on ne choisit que de classer en 2 clusters.\n",
    "labels = kmeans.fit_predict(coord[:,[0,1]]) # on ne prend que les coordonées de l'axe 1 et 2\n",
    "\n",
    "print(np.unique(labels, return_counts=True)) # afficher la condition de séparation\n",
    "\n",
    "labels0 = coord[labels == 0]\n",
    "labels1 = coord[labels == 1]"
   ]
  },
  {
   "cell_type": "code",
   "execution_count": 73,
   "id": "f3a1c910",
   "metadata": {},
   "outputs": [
    {
     "data": {
      "text/plain": [
       "(array([0, 1]), array([205408,  60795], dtype=int64))"
      ]
     },
     "execution_count": 73,
     "metadata": {},
     "output_type": "execute_result"
    }
   ],
   "source": [
    "np.unique(labels, return_counts=True)"
   ]
  },
  {
   "cell_type": "code",
   "execution_count": 103,
   "id": "1cbc7197",
   "metadata": {},
   "outputs": [
    {
     "data": {
      "text/plain": [
       "<matplotlib.collections.PathCollection at 0x212030a7af0>"
      ]
     },
     "execution_count": 103,
     "metadata": {},
     "output_type": "execute_result"
    },
    {
     "data": {
      "image/png": "[encoded data removed]",
      "text/plain": [
       "<Figure size 432x288 with 1 Axes>"
      ]
     },
     "metadata": {
      "needs_background": "light"
     },
     "output_type": "display_data"
    }
   ],
   "source": [
    "plt.scatter(np.random.choice(labels0[:,0],100), np.random.choice(labels0[:,1],100), c='red') # Pour voir plus clairement, on prend aléatoirement 100 points pour tracer le graphique\n",
    "plt.scatter(np.random.choice(labels1[:,0],100), np.random.choice(labels1[:,1],100), c='blue') "
   ]
  },
  {
   "cell_type": "code",
   "execution_count": null,
   "id": "48f0318d",
   "metadata": {},
   "outputs": [],
   "source": [
    "# Avant de passer à l'approche supervisée, il faut d'abord labeliser les données\n",
    "# Dans cette étape on va utiliser un échantillon de taille 50000 pour entraîner le modèle\n",
    "# Comme on a 4 indicateurs, on décide de les combiner en utilisant la méthode d'entropie"
   ]
  },
  {
   "cell_type": "code",
   "execution_count": 104,
   "id": "82985f23",
   "metadata": {},
   "outputs": [
    {
     "name": "stdout",
     "output_type": "stream",
     "text": [
      "#######Poids:#######\n",
      "                 Poids\n",
      "vis           0.528159\n",
      "r_fri_follow  0.009410\n",
      "avg_fav       0.030450\n",
      "frequency     0.431980\n"
     ]
    }
   ],
   "source": [
    "# Méthode d'entropie\n",
    "\n",
    "data = features.iloc[:,[1,2,3,4]]\n",
    "indicateur = data.columns.tolist()   ## nombre des indicateurs\n",
    "profil = data.index.tolist()    ## nombre des profils\n",
    "value = data.values\n",
    "\n",
    "# définir la fonction de normalisation, on rajoute une constante 0,01\n",
    "def std_data(value,flag):\n",
    "    for i in range(len(indicateur)):\n",
    "        if flag[i]=='+':\n",
    "            value[:,i]=(value[:,i]-np.min(value[:,i],axis=0))/(np.max(value[:,i],axis=0)-np.min(value[:,i],axis=0))+0.01\n",
    "        elif flag[i]=='-':\n",
    "            value[:,i]=(np.max(value[:,i],axis=0)-value[:,i])/(np.max(value[:,i],axis=0)-np.min(value[:,i],axis=0))+0.01\n",
    "    return value\n",
    "\n",
    "# définir la fonction d'entropie et calculer les poids et les entropies\n",
    "def cal_weight(indicateur,profil,value):\n",
    "    p= np.array([[0.0 for i in range(len(indicateur))] for i in range(len(profil))])                    \n",
    "    for i in range(len(indicateur)):\n",
    "        p[:,i]=value[:,i]/np.sum(value[:,i],axis=0)\n",
    "        \n",
    "    e=-1/np.log(len(profil))*sum(p*np.log(p))      #calcul d'entropie\n",
    "    g=1-e     \n",
    "    w=g/sum(g)     #calcul des poids\n",
    "    return w\n",
    "\n",
    "# normalisation des données\n",
    "flag=[\"+\",\"+\",\"+\",\"+\"]  ## '+' ou '-' désigne le sens positif ou négatif des indicateurs\n",
    "std_value=std_data(value,flag)\n",
    "std_value.round(3)\n",
    "\n",
    "# Résultat\n",
    "w=cal_weight(indicateur,profil,std_value)\n",
    "w=pd.DataFrame(w,index=data.columns,columns=['Poids'])\n",
    "print(\"#######Poids:#######\")\n",
    "print(w)\n",
    "score=np.dot(std_value,w).round(2)\n",
    "score=pd.DataFrame(score,index=data.index,columns=['Notes']).sort_values(by =['Notes'],ascending = False)\n",
    "\n",
    "# la note de chaque utilisateur représente la correspondance avec les profils qu'on va détecter\n",
    "# Si une note plus élevée, le profil correspondant est plus probablement censé un influnceur"
   ]
  },
  {
   "cell_type": "code",
   "execution_count": null,
   "id": "63c878cb",
   "metadata": {},
   "outputs": [],
   "source": [
    "# A l'aide de résultat ci-dessus, on peut compter la fréquence de chaque note. Avec cela, on va ensuite calculer\n",
    "# le pourcentage de fréquence cumulée. En vertu de principe de Pareto (80/20), on peut alors découper les données en 2 classes:\n",
    "# les profils plus générals (la somme de fréquence représente environ 80% au total) et le reste plus critique (20%)"
   ]
  },
  {
   "cell_type": "code",
   "execution_count": 105,
   "id": "cb2fa61a",
   "metadata": {},
   "outputs": [
    {
     "name": "stdout",
     "output_type": "stream",
     "text": [
      "0.8129810708369177\n",
      "[0.05, 0.03, 0.07, 0.09, 0.01, 0.06, 0.04]\n"
     ]
    }
   ],
   "source": [
    "import collections\n",
    "data1 = []\n",
    "for i in range(266203):\n",
    "    data1.append(score.iloc[i,0])\n",
    "\n",
    "c = collections.Counter(data1) #créer un counter pour compter la fréquence de note\n",
    "\n",
    "freq = np.array(list(dict(c).items()),dtype = 'float')\n",
    "np.set_printoptions(suppress=True)\n",
    "freq = freq[np.lexsort(-freq.T)] # ordonner par décroissant en fonction de fréquence\n",
    "\n",
    "somme = 0\n",
    "cumul = 0.00\n",
    "cluster = []\n",
    "\n",
    "for i in range(len(data)):\n",
    "    if cumul <= 0.81:          # 0.01 de tolérance \n",
    "        somme = somme + freq[i,1].astype(int)\n",
    "        cluster.append(freq[i,0])\n",
    "        cumul = somme/len(score)\n",
    "    else: break\n",
    "    \n",
    "print(cumul) # le pourcentage cumulé pour la classe 'générale'\n",
    "print(cluster) #les notes de cette classe"
   ]
  },
  {
   "cell_type": "code",
   "execution_count": 106,
   "id": "8c3b55a3",
   "metadata": {},
   "outputs": [
    {
     "data": {
      "text/plain": [
       "94959     1\n",
       "162980    1\n",
       "178573    1\n",
       "50075     1\n",
       "52542     1\n",
       "         ..\n",
       "255905   -1\n",
       "255906   -1\n",
       "255907   -1\n",
       "241662   -1\n",
       "23462    -1\n",
       "Length: 266203, dtype: int64"
      ]
     },
     "execution_count": 106,
     "metadata": {},
     "output_type": "execute_result"
    }
   ],
   "source": [
    "# On va maintenant labeliser les profils en fonction de classes divisées ci-dessus\n",
    "label = score.apply(lambda row: -1 if row[\"Notes\"] in cluster else 1, axis=1 )\n",
    "label"
   ]
  },
  {
   "cell_type": "code",
   "execution_count": null,
   "id": "5bad6647",
   "metadata": {},
   "outputs": [],
   "source": [
    "# Application de la méthode SVM\n",
    "data = features.iloc[:,[1,2,3,4]]\n",
    "data[\"label\"] = label\n",
    "data = data.sample(50000) # On prend un échantillon de taille 50000\n",
    "\n",
    "X = data.iloc[:,[0,1,2,3]]\n",
    "Y = data.iloc[:,[4]]\n",
    "X = X.to_numpy()\n",
    "Y = Y.to_numpy().T[0]\n",
    "\n",
    "from sklearn import svm\n",
    "from sklearn.model_selection import train_test_split\n",
    "from sklearn.metrics import accuracy_score, classification_report\n",
    "# On sépare les jeux d'entrâinement et de test\n",
    "X_train, X_test, y_train, y_test = train_test_split(X, Y, random_state=42)# On sépare les jeux d'entrâinement et de test\n",
    "\n",
    "svm_clf = svm.SVC(kernel='poly')\n",
    "svm_clf.fit(X_train, y_train)\n",
    "\n",
    "y_pred = svm_clf.predict(X_test)\n",
    "print(accuracy_score(y_test,y_pred),'\\n',classification_report(y_test,y_pred))"
   ]
  }
 ],
 "metadata": {
  "kernelspec": {
   "display_name": "Python 3 (ipykernel)",
   "language": "python",
   "name": "python3"
  },
  "language_info": {
   "codemirror_mode": {
    "name": "ipython",
    "version": 3
   },
   "file_extension": ".py",
   "mimetype": "text/x-python",
   "name": "python",
   "nbconvert_exporter": "python",
   "pygments_lexer": "ipython3",
   "version": "3.8.8"
  }
 },
 "nbformat": 4,
 "nbformat_minor": 5
}
