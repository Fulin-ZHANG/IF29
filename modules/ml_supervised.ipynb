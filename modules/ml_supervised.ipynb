{
 "cells": [
  {
   "cell_type": "code",
   "execution_count": 97,
   "id": "36ee3b4b",
   "metadata": {},
   "outputs": [],
   "source": [
    "from sklearn import preprocessing\n",
    "import pandas as pd\n",
    "import numpy as np\n",
    "import matplotlib.pyplot as plt\n",
    "%matplotlib inline"
   ]
  },
  {
   "cell_type": "code",
   "execution_count": 98,
   "id": "142735f6",
   "metadata": {},
   "outputs": [],
   "source": [
    "from sklearn import svm\n",
    "from sklearn.model_selection import train_test_split\n",
    "from sklearn.metrics import accuracy_score, classification_report"
   ]
  },
  {
   "cell_type": "code",
   "execution_count": 99,
   "id": "9588c44c",
   "metadata": {},
   "outputs": [],
   "source": [
    "data = pd.read_csv(\"./features.csv\", index_col=0)\n",
    "label = pd.read_csv(\"./label.csv\", index_col=0)"
   ]
  },
  {
   "cell_type": "code",
   "execution_count": 100,
   "id": "0c6c44db",
   "metadata": {},
   "outputs": [],
   "source": [
    "data[\"label\"] = label"
   ]
  },
  {
   "cell_type": "code",
   "execution_count": 101,
   "id": "9ccfebc6",
   "metadata": {},
   "outputs": [],
   "source": [
    "data.dropna(inplace=True)"
   ]
  },
  {
   "cell_type": "code",
   "execution_count": 102,
   "id": "2f25d2ac",
   "metadata": {},
   "outputs": [
    {
     "data": {
      "text/html": [
       "<div>\n",
       "<style scoped>\n",
       "    .dataframe tbody tr th:only-of-type {\n",
       "        vertical-align: middle;\n",
       "    }\n",
       "\n",
       "    .dataframe tbody tr th {\n",
       "        vertical-align: top;\n",
       "    }\n",
       "\n",
       "    .dataframe thead th {\n",
       "        text-align: right;\n",
       "    }\n",
       "</style>\n",
       "<table border=\"1\" class=\"dataframe\">\n",
       "  <thead>\n",
       "    <tr style=\"text-align: right;\">\n",
       "      <th></th>\n",
       "      <th>vis</th>\n",
       "      <th>r_fri_follow</th>\n",
       "      <th>avg_fav</th>\n",
       "      <th>frequency</th>\n",
       "      <th>label</th>\n",
       "    </tr>\n",
       "  </thead>\n",
       "  <tbody>\n",
       "    <tr>\n",
       "      <th>0</th>\n",
       "      <td>0.164286</td>\n",
       "      <td>0.266114</td>\n",
       "      <td>0.925770</td>\n",
       "      <td>0.000306</td>\n",
       "      <td>1</td>\n",
       "    </tr>\n",
       "    <tr>\n",
       "      <th>1</th>\n",
       "      <td>0.578571</td>\n",
       "      <td>0.672932</td>\n",
       "      <td>3.685514</td>\n",
       "      <td>0.015026</td>\n",
       "      <td>0</td>\n",
       "    </tr>\n",
       "    <tr>\n",
       "      <th>2</th>\n",
       "      <td>0.164286</td>\n",
       "      <td>1.037681</td>\n",
       "      <td>0.037716</td>\n",
       "      <td>0.015753</td>\n",
       "      <td>1</td>\n",
       "    </tr>\n",
       "    <tr>\n",
       "      <th>3</th>\n",
       "      <td>0.245714</td>\n",
       "      <td>0.214371</td>\n",
       "      <td>2.944980</td>\n",
       "      <td>0.006128</td>\n",
       "      <td>0</td>\n",
       "    </tr>\n",
       "    <tr>\n",
       "      <th>4</th>\n",
       "      <td>0.164286</td>\n",
       "      <td>0.587054</td>\n",
       "      <td>0.110839</td>\n",
       "      <td>0.009781</td>\n",
       "      <td>1</td>\n",
       "    </tr>\n",
       "    <tr>\n",
       "      <th>...</th>\n",
       "      <td>...</td>\n",
       "      <td>...</td>\n",
       "      <td>...</td>\n",
       "      <td>...</td>\n",
       "      <td>...</td>\n",
       "    </tr>\n",
       "    <tr>\n",
       "      <th>267462</th>\n",
       "      <td>0.264286</td>\n",
       "      <td>0.248337</td>\n",
       "      <td>0.266802</td>\n",
       "      <td>0.001994</td>\n",
       "      <td>0</td>\n",
       "    </tr>\n",
       "    <tr>\n",
       "      <th>267463</th>\n",
       "      <td>0.081429</td>\n",
       "      <td>0.448549</td>\n",
       "      <td>5.806159</td>\n",
       "      <td>0.000793</td>\n",
       "      <td>1</td>\n",
       "    </tr>\n",
       "    <tr>\n",
       "      <th>267464</th>\n",
       "      <td>0.164286</td>\n",
       "      <td>0.552846</td>\n",
       "      <td>0.151943</td>\n",
       "      <td>0.009021</td>\n",
       "      <td>1</td>\n",
       "    </tr>\n",
       "    <tr>\n",
       "      <th>267465</th>\n",
       "      <td>0.330000</td>\n",
       "      <td>0.144140</td>\n",
       "      <td>1.883822</td>\n",
       "      <td>0.015576</td>\n",
       "      <td>0</td>\n",
       "    </tr>\n",
       "    <tr>\n",
       "      <th>267466</th>\n",
       "      <td>0.165714</td>\n",
       "      <td>0.445037</td>\n",
       "      <td>15.193548</td>\n",
       "      <td>0.000778</td>\n",
       "      <td>1</td>\n",
       "    </tr>\n",
       "  </tbody>\n",
       "</table>\n",
       "<p>266203 rows × 5 columns</p>\n",
       "</div>"
      ],
      "text/plain": [
       "             vis  r_fri_follow    avg_fav  frequency  label\n",
       "0       0.164286      0.266114   0.925770   0.000306      1\n",
       "1       0.578571      0.672932   3.685514   0.015026      0\n",
       "2       0.164286      1.037681   0.037716   0.015753      1\n",
       "3       0.245714      0.214371   2.944980   0.006128      0\n",
       "4       0.164286      0.587054   0.110839   0.009781      1\n",
       "...          ...           ...        ...        ...    ...\n",
       "267462  0.264286      0.248337   0.266802   0.001994      0\n",
       "267463  0.081429      0.448549   5.806159   0.000793      1\n",
       "267464  0.164286      0.552846   0.151943   0.009021      1\n",
       "267465  0.330000      0.144140   1.883822   0.015576      0\n",
       "267466  0.165714      0.445037  15.193548   0.000778      1\n",
       "\n",
       "[266203 rows x 5 columns]"
      ]
     },
     "execution_count": 102,
     "metadata": {},
     "output_type": "execute_result"
    }
   ],
   "source": [
    "data"
   ]
  },
  {
   "cell_type": "code",
   "execution_count": 103,
   "id": "3016e983",
   "metadata": {},
   "outputs": [],
   "source": [
    "data = data.sample(50000)"
   ]
  },
  {
   "cell_type": "code",
   "execution_count": 104,
   "id": "4cef11e2",
   "metadata": {},
   "outputs": [],
   "source": [
    "X = data.iloc[:,[0,2,3]]\n",
    "Y = data.iloc[:,[4]]"
   ]
  },
  {
   "cell_type": "code",
   "execution_count": 105,
   "id": "32f4d2f7",
   "metadata": {},
   "outputs": [],
   "source": [
    "X = X.to_numpy()\n",
    "Y = Y.to_numpy().T[0]"
   ]
  },
  {
   "cell_type": "code",
   "execution_count": 106,
   "id": "cd7a020a",
   "metadata": {},
   "outputs": [],
   "source": [
    "X_train, X_test, y_train, y_test = train_test_split(X, Y, \n",
    "                                    test_size=0.3, random_state=42)"
   ]
  },
  {
   "cell_type": "code",
   "execution_count": 107,
   "id": "6b764207",
   "metadata": {},
   "outputs": [
    {
     "data": {
      "text/plain": [
       "SVC()"
      ]
     },
     "execution_count": 107,
     "metadata": {},
     "output_type": "execute_result"
    }
   ],
   "source": [
    "svm_clf = svm.SVC()\n",
    "svm_clf.fit(X_train, y_train)"
   ]
  },
  {
   "cell_type": "code",
   "execution_count": 108,
   "id": "d6b255a0",
   "metadata": {},
   "outputs": [
    {
     "name": "stdout",
     "output_type": "stream",
     "text": [
      "0.8043333333333333 \n",
      "               precision    recall  f1-score   support\n",
      "\n",
      "           0       1.00      0.51      0.67      5934\n",
      "           1       0.76      1.00      0.86      9066\n",
      "\n",
      "    accuracy                           0.80     15000\n",
      "   macro avg       0.88      0.75      0.77     15000\n",
      "weighted avg       0.85      0.80      0.79     15000\n",
      "\n"
     ]
    }
   ],
   "source": [
    "prediction1 = svm_clf.predict(X_test)\n",
    "print(accuracy_score(y_test,prediction1),'\\n',classification_report(y_test,prediction1))"
   ]
  }
 ],
 "metadata": {
  "kernelspec": {
   "display_name": "Python 3",
   "language": "python",
   "name": "python3"
  },
  "language_info": {
   "codemirror_mode": {
    "name": "ipython",
    "version": 3
   },
   "file_extension": ".py",
   "mimetype": "text/x-python",
   "name": "python",
   "nbconvert_exporter": "python",
   "pygments_lexer": "ipython3",
   "version": "3.7.0"
  }
 },
 "nbformat": 4,
 "nbformat_minor": 5
}
