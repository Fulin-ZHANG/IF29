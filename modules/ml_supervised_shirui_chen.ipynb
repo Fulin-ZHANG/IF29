{
 "cells": [
  {
   "cell_type": "code",
   "execution_count": 1,
   "id": "36ee3b4b",
   "metadata": {},
   "outputs": [],
   "source": [
    "from sklearn import preprocessing\n",
    "import pandas as pd\n",
    "import numpy as np\n",
    "import matplotlib.pyplot as plt\n",
    "%matplotlib inline"
   ]
  },
  {
   "cell_type": "code",
   "execution_count": 2,
   "id": "142735f6",
   "metadata": {},
   "outputs": [],
   "source": [
    "from sklearn import svm\n",
    "from sklearn.model_selection import train_test_split\n",
    "from sklearn.metrics import accuracy_score, classification_report"
   ]
  },
  {
   "cell_type": "code",
   "execution_count": 3,
   "id": "9588c44c",
   "metadata": {},
   "outputs": [],
   "source": [
    "data = pd.read_csv(\"../data/features.csv\", index_col=0)\n",
    "label = pd.read_csv(\"../data/label.csv\", index_col=0)"
   ]
  },
  {
   "cell_type": "code",
   "execution_count": 4,
   "id": "68c38552",
   "metadata": {},
   "outputs": [
    {
     "data": {
      "text/html": [
       "<div>\n",
       "<style scoped>\n",
       "    .dataframe tbody tr th:only-of-type {\n",
       "        vertical-align: middle;\n",
       "    }\n",
       "\n",
       "    .dataframe tbody tr th {\n",
       "        vertical-align: top;\n",
       "    }\n",
       "\n",
       "    .dataframe thead th {\n",
       "        text-align: right;\n",
       "    }\n",
       "</style>\n",
       "<table border=\"1\" class=\"dataframe\">\n",
       "  <thead>\n",
       "    <tr style=\"text-align: right;\">\n",
       "      <th></th>\n",
       "      <th>vis</th>\n",
       "      <th>r_fri_follow</th>\n",
       "      <th>avg_fav</th>\n",
       "      <th>frequency</th>\n",
       "    </tr>\n",
       "  </thead>\n",
       "  <tbody>\n",
       "    <tr>\n",
       "      <th>0</th>\n",
       "      <td>0.082857</td>\n",
       "      <td>0.753376</td>\n",
       "      <td>0.849462</td>\n",
       "      <td>0.041217</td>\n",
       "    </tr>\n",
       "    <tr>\n",
       "      <th>1</th>\n",
       "      <td>0.165714</td>\n",
       "      <td>1.422460</td>\n",
       "      <td>0.000940</td>\n",
       "      <td>0.001264</td>\n",
       "    </tr>\n",
       "    <tr>\n",
       "      <th>2</th>\n",
       "      <td>0.164286</td>\n",
       "      <td>0.493827</td>\n",
       "      <td>0.279457</td>\n",
       "      <td>0.003857</td>\n",
       "    </tr>\n",
       "    <tr>\n",
       "      <th>3</th>\n",
       "      <td>0.412857</td>\n",
       "      <td>1.411765</td>\n",
       "      <td>1.619112</td>\n",
       "      <td>0.013863</td>\n",
       "    </tr>\n",
       "    <tr>\n",
       "      <th>4</th>\n",
       "      <td>0.082857</td>\n",
       "      <td>0.089286</td>\n",
       "      <td>7.115385</td>\n",
       "      <td>0.000060</td>\n",
       "    </tr>\n",
       "    <tr>\n",
       "      <th>...</th>\n",
       "      <td>...</td>\n",
       "      <td>...</td>\n",
       "      <td>...</td>\n",
       "      <td>...</td>\n",
       "    </tr>\n",
       "    <tr>\n",
       "      <th>267462</th>\n",
       "      <td>0.081429</td>\n",
       "      <td>2.606383</td>\n",
       "      <td>0.096381</td>\n",
       "      <td>0.004111</td>\n",
       "    </tr>\n",
       "    <tr>\n",
       "      <th>267463</th>\n",
       "      <td>0.040714</td>\n",
       "      <td>0.166667</td>\n",
       "      <td>0.155413</td>\n",
       "      <td>0.000639</td>\n",
       "    </tr>\n",
       "    <tr>\n",
       "      <th>267464</th>\n",
       "      <td>0.164286</td>\n",
       "      <td>0.215686</td>\n",
       "      <td>4.125000</td>\n",
       "      <td>0.000373</td>\n",
       "    </tr>\n",
       "    <tr>\n",
       "      <th>267465</th>\n",
       "      <td>0.248571</td>\n",
       "      <td>1.416260</td>\n",
       "      <td>0.291469</td>\n",
       "      <td>0.001722</td>\n",
       "    </tr>\n",
       "    <tr>\n",
       "      <th>267466</th>\n",
       "      <td>0.082857</td>\n",
       "      <td>3553.333333</td>\n",
       "      <td>0.009178</td>\n",
       "      <td>0.001687</td>\n",
       "    </tr>\n",
       "  </tbody>\n",
       "</table>\n",
       "<p>266203 rows × 4 columns</p>\n",
       "</div>"
      ],
      "text/plain": [
       "             vis  r_fri_follow   avg_fav  frequency\n",
       "0       0.082857      0.753376  0.849462   0.041217\n",
       "1       0.165714      1.422460  0.000940   0.001264\n",
       "2       0.164286      0.493827  0.279457   0.003857\n",
       "3       0.412857      1.411765  1.619112   0.013863\n",
       "4       0.082857      0.089286  7.115385   0.000060\n",
       "...          ...           ...       ...        ...\n",
       "267462  0.081429      2.606383  0.096381   0.004111\n",
       "267463  0.040714      0.166667  0.155413   0.000639\n",
       "267464  0.164286      0.215686  4.125000   0.000373\n",
       "267465  0.248571      1.416260  0.291469   0.001722\n",
       "267466  0.082857   3553.333333  0.009178   0.001687\n",
       "\n",
       "[266203 rows x 4 columns]"
      ]
     },
     "execution_count": 4,
     "metadata": {},
     "output_type": "execute_result"
    }
   ],
   "source": [
    "data"
   ]
  },
  {
   "cell_type": "code",
   "execution_count": 5,
   "id": "fe4ed72a",
   "metadata": {},
   "outputs": [
    {
     "data": {
      "text/html": [
       "<div>\n",
       "<style scoped>\n",
       "    .dataframe tbody tr th:only-of-type {\n",
       "        vertical-align: middle;\n",
       "    }\n",
       "\n",
       "    .dataframe tbody tr th {\n",
       "        vertical-align: top;\n",
       "    }\n",
       "\n",
       "    .dataframe thead th {\n",
       "        text-align: right;\n",
       "    }\n",
       "</style>\n",
       "<table border=\"1\" class=\"dataframe\">\n",
       "  <thead>\n",
       "    <tr style=\"text-align: right;\">\n",
       "      <th></th>\n",
       "      <th>0</th>\n",
       "    </tr>\n",
       "  </thead>\n",
       "  <tbody>\n",
       "    <tr>\n",
       "      <th>44058</th>\n",
       "      <td>0</td>\n",
       "    </tr>\n",
       "    <tr>\n",
       "      <th>140811</th>\n",
       "      <td>0</td>\n",
       "    </tr>\n",
       "    <tr>\n",
       "      <th>255943</th>\n",
       "      <td>0</td>\n",
       "    </tr>\n",
       "    <tr>\n",
       "      <th>135815</th>\n",
       "      <td>0</td>\n",
       "    </tr>\n",
       "    <tr>\n",
       "      <th>77321</th>\n",
       "      <td>0</td>\n",
       "    </tr>\n",
       "    <tr>\n",
       "      <th>...</th>\n",
       "      <td>...</td>\n",
       "    </tr>\n",
       "    <tr>\n",
       "      <th>168993</th>\n",
       "      <td>1</td>\n",
       "    </tr>\n",
       "    <tr>\n",
       "      <th>129424</th>\n",
       "      <td>1</td>\n",
       "    </tr>\n",
       "    <tr>\n",
       "      <th>239404</th>\n",
       "      <td>1</td>\n",
       "    </tr>\n",
       "    <tr>\n",
       "      <th>255849</th>\n",
       "      <td>1</td>\n",
       "    </tr>\n",
       "    <tr>\n",
       "      <th>209698</th>\n",
       "      <td>1</td>\n",
       "    </tr>\n",
       "  </tbody>\n",
       "</table>\n",
       "<p>266203 rows × 1 columns</p>\n",
       "</div>"
      ],
      "text/plain": [
       "        0\n",
       "44058   0\n",
       "140811  0\n",
       "255943  0\n",
       "135815  0\n",
       "77321   0\n",
       "...    ..\n",
       "168993  1\n",
       "129424  1\n",
       "239404  1\n",
       "255849  1\n",
       "209698  1\n",
       "\n",
       "[266203 rows x 1 columns]"
      ]
     },
     "execution_count": 5,
     "metadata": {},
     "output_type": "execute_result"
    }
   ],
   "source": [
    "label"
   ]
  },
  {
   "cell_type": "code",
   "execution_count": 6,
   "id": "0c6c44db",
   "metadata": {},
   "outputs": [],
   "source": [
    "data[\"label\"] = label"
   ]
  },
  {
   "cell_type": "code",
   "execution_count": 7,
   "id": "9ccfebc6",
   "metadata": {},
   "outputs": [],
   "source": [
    "data.dropna(inplace=True)"
   ]
  },
  {
   "cell_type": "code",
   "execution_count": 8,
   "id": "2f25d2ac",
   "metadata": {},
   "outputs": [
    {
     "data": {
      "text/html": [
       "<div>\n",
       "<style scoped>\n",
       "    .dataframe tbody tr th:only-of-type {\n",
       "        vertical-align: middle;\n",
       "    }\n",
       "\n",
       "    .dataframe tbody tr th {\n",
       "        vertical-align: top;\n",
       "    }\n",
       "\n",
       "    .dataframe thead th {\n",
       "        text-align: right;\n",
       "    }\n",
       "</style>\n",
       "<table border=\"1\" class=\"dataframe\">\n",
       "  <thead>\n",
       "    <tr style=\"text-align: right;\">\n",
       "      <th></th>\n",
       "      <th>vis</th>\n",
       "      <th>r_fri_follow</th>\n",
       "      <th>avg_fav</th>\n",
       "      <th>frequency</th>\n",
       "      <th>label</th>\n",
       "    </tr>\n",
       "  </thead>\n",
       "  <tbody>\n",
       "    <tr>\n",
       "      <th>0</th>\n",
       "      <td>0.082857</td>\n",
       "      <td>0.753376</td>\n",
       "      <td>0.849462</td>\n",
       "      <td>0.041217</td>\n",
       "      <td>1.0</td>\n",
       "    </tr>\n",
       "    <tr>\n",
       "      <th>1</th>\n",
       "      <td>0.165714</td>\n",
       "      <td>1.422460</td>\n",
       "      <td>0.000940</td>\n",
       "      <td>0.001264</td>\n",
       "      <td>0.0</td>\n",
       "    </tr>\n",
       "    <tr>\n",
       "      <th>2</th>\n",
       "      <td>0.164286</td>\n",
       "      <td>0.493827</td>\n",
       "      <td>0.279457</td>\n",
       "      <td>0.003857</td>\n",
       "      <td>1.0</td>\n",
       "    </tr>\n",
       "    <tr>\n",
       "      <th>3</th>\n",
       "      <td>0.412857</td>\n",
       "      <td>1.411765</td>\n",
       "      <td>1.619112</td>\n",
       "      <td>0.013863</td>\n",
       "      <td>0.0</td>\n",
       "    </tr>\n",
       "    <tr>\n",
       "      <th>4</th>\n",
       "      <td>0.082857</td>\n",
       "      <td>0.089286</td>\n",
       "      <td>7.115385</td>\n",
       "      <td>0.000060</td>\n",
       "      <td>1.0</td>\n",
       "    </tr>\n",
       "    <tr>\n",
       "      <th>...</th>\n",
       "      <td>...</td>\n",
       "      <td>...</td>\n",
       "      <td>...</td>\n",
       "      <td>...</td>\n",
       "      <td>...</td>\n",
       "    </tr>\n",
       "    <tr>\n",
       "      <th>267462</th>\n",
       "      <td>0.081429</td>\n",
       "      <td>2.606383</td>\n",
       "      <td>0.096381</td>\n",
       "      <td>0.004111</td>\n",
       "      <td>0.0</td>\n",
       "    </tr>\n",
       "    <tr>\n",
       "      <th>267463</th>\n",
       "      <td>0.040714</td>\n",
       "      <td>0.166667</td>\n",
       "      <td>0.155413</td>\n",
       "      <td>0.000639</td>\n",
       "      <td>1.0</td>\n",
       "    </tr>\n",
       "    <tr>\n",
       "      <th>267464</th>\n",
       "      <td>0.164286</td>\n",
       "      <td>0.215686</td>\n",
       "      <td>4.125000</td>\n",
       "      <td>0.000373</td>\n",
       "      <td>1.0</td>\n",
       "    </tr>\n",
       "    <tr>\n",
       "      <th>267465</th>\n",
       "      <td>0.248571</td>\n",
       "      <td>1.416260</td>\n",
       "      <td>0.291469</td>\n",
       "      <td>0.001722</td>\n",
       "      <td>0.0</td>\n",
       "    </tr>\n",
       "    <tr>\n",
       "      <th>267466</th>\n",
       "      <td>0.082857</td>\n",
       "      <td>3553.333333</td>\n",
       "      <td>0.009178</td>\n",
       "      <td>0.001687</td>\n",
       "      <td>1.0</td>\n",
       "    </tr>\n",
       "  </tbody>\n",
       "</table>\n",
       "<p>264940 rows × 5 columns</p>\n",
       "</div>"
      ],
      "text/plain": [
       "             vis  r_fri_follow   avg_fav  frequency  label\n",
       "0       0.082857      0.753376  0.849462   0.041217    1.0\n",
       "1       0.165714      1.422460  0.000940   0.001264    0.0\n",
       "2       0.164286      0.493827  0.279457   0.003857    1.0\n",
       "3       0.412857      1.411765  1.619112   0.013863    0.0\n",
       "4       0.082857      0.089286  7.115385   0.000060    1.0\n",
       "...          ...           ...       ...        ...    ...\n",
       "267462  0.081429      2.606383  0.096381   0.004111    0.0\n",
       "267463  0.040714      0.166667  0.155413   0.000639    1.0\n",
       "267464  0.164286      0.215686  4.125000   0.000373    1.0\n",
       "267465  0.248571      1.416260  0.291469   0.001722    0.0\n",
       "267466  0.082857   3553.333333  0.009178   0.001687    1.0\n",
       "\n",
       "[264940 rows x 5 columns]"
      ]
     },
     "execution_count": 8,
     "metadata": {},
     "output_type": "execute_result"
    }
   ],
   "source": [
    "data"
   ]
  },
  {
   "cell_type": "code",
   "execution_count": 9,
   "id": "3016e983",
   "metadata": {},
   "outputs": [],
   "source": [
    "data = data.sample(50000)"
   ]
  },
  {
   "cell_type": "code",
   "execution_count": 16,
   "id": "4cef11e2",
   "metadata": {},
   "outputs": [],
   "source": [
    "X = data.iloc[:,[0,1,2,3]]\n",
    "Y = data.iloc[:,[4]]"
   ]
  },
  {
   "cell_type": "code",
   "execution_count": 17,
   "id": "32f4d2f7",
   "metadata": {},
   "outputs": [],
   "source": [
    "X = X.to_numpy()\n",
    "Y = Y.to_numpy().T[0]"
   ]
  },
  {
   "cell_type": "code",
   "execution_count": 18,
   "id": "cd7a020a",
   "metadata": {},
   "outputs": [],
   "source": [
    "X_train, X_test, y_train, y_test = train_test_split(X, Y, \n",
    "                                    test_size=0.3, random_state=42)"
   ]
  },
  {
   "cell_type": "code",
   "execution_count": 19,
   "id": "6b764207",
   "metadata": {},
   "outputs": [
    {
     "data": {
      "text/plain": [
       "SVC()"
      ]
     },
     "execution_count": 19,
     "metadata": {},
     "output_type": "execute_result"
    }
   ],
   "source": [
    "svm_clf = svm.SVC()\n",
    "svm_clf.fit(X_train, y_train)"
   ]
  },
  {
   "cell_type": "code",
   "execution_count": 20,
   "id": "d6b255a0",
   "metadata": {},
   "outputs": [
    {
     "name": "stdout",
     "output_type": "stream",
     "text": [
      "0.5924 \n",
      "               precision    recall  f1-score   support\n",
      "\n",
      "         0.0       0.00      0.00      0.00      6110\n",
      "         1.0       0.59      1.00      0.74      8890\n",
      "\n",
      "    accuracy                           0.59     15000\n",
      "   macro avg       0.30      0.50      0.37     15000\n",
      "weighted avg       0.35      0.59      0.44     15000\n",
      "\n"
     ]
    }
   ],
   "source": [
    "prediction1 = svm_clf.predict(X_test)\n",
    "print(accuracy_score(y_test,prediction1),'\\n',classification_report(y_test,prediction1))"
   ]
  },
  {
   "cell_type": "code",
   "execution_count": null,
   "id": "7706adbc",
   "metadata": {},
   "outputs": [],
   "source": [
    "prediction2 = svm_clf.predict(X_train)\n",
    "print(accuracy_score(y_train,prediction2),'\\n',classification_report(y_train,prediction2))"
   ]
  }
 ],
 "metadata": {
  "kernelspec": {
   "display_name": "Python 3",
   "language": "python",
   "name": "python3"
  },
  "language_info": {
   "codemirror_mode": {
    "name": "ipython",
    "version": 3
   },
   "file_extension": ".py",
   "mimetype": "text/x-python",
   "name": "python",
   "nbconvert_exporter": "python",
   "pygments_lexer": "ipython3",
   "version": "3.7.0"
  }
 },
 "nbformat": 4,
 "nbformat_minor": 5
}
