{
 "cells": [
  {
   "cell_type": "code",
   "execution_count": 1,
   "id": "b8725d70",
   "metadata": {},
   "outputs": [
    {
     "data": {
      "text/plain": [
       "'\\nCreate database from Tweet Worldcup 200Twets on moodle\\nOnly modify the commented lines\\n'"
      ]
     },
     "execution_count": 1,
     "metadata": {},
     "output_type": "execute_result"
    }
   ],
   "source": [
    "from pymongo import MongoClient\n",
    "import os\n",
    "import json\n",
    "'''\n",
    "Create database from Tweet Worldcup 200Twets on moodle\n",
    "Only modify the commented lines\n",
    "'''"
   ]
  },
  {
   "cell_type": "code",
   "execution_count": 2,
   "id": "157d9ca3",
   "metadata": {},
   "outputs": [],
   "source": [
    "client = MongoClient('localhost', 27017)"
   ]
  },
  {
   "cell_type": "code",
   "execution_count": 3,
   "id": "6669ca32",
   "metadata": {},
   "outputs": [],
   "source": [
    "db = client['IF29_Tweets'] #database name"
   ]
  },
  {
   "cell_type": "code",
   "execution_count": 4,
   "id": "3b6d5b7c",
   "metadata": {},
   "outputs": [],
   "source": [
    "collection = db['200Tweets'] #collection name"
   ]
  },
  {
   "cell_type": "code",
   "execution_count": 7,
   "id": "4a97718b",
   "metadata": {},
   "outputs": [],
   "source": [
    "parent_dir = (\"C:/My disc/ISI_04_VDC/IF29/Projet_IF29/Tweet Worldcup 200Twets/\") #dir of the dataset\n",
    "list_filename = os.listdir(parent_dir)"
   ]
  },
  {
   "cell_type": "code",
   "execution_count": 8,
   "id": "e206e6f9",
   "metadata": {},
   "outputs": [],
   "source": [
    "for filename in list_filename:\n",
    "    filepath = parent_dir + filename\n",
    "    with open(filepath, encoding='utf-8') as f:\n",
    "        lines = f.readlines()\n",
    "        f.close()\n",
    "    for line in lines:\n",
    "        document = json.loads(line[:-1])\n",
    "        collection.insert_one(document)"
   ]
  },
  {
   "cell_type": "code",
   "execution_count": null,
   "id": "ccf9efbf",
   "metadata": {},
   "outputs": [],
   "source": []
  }
 ],
 "metadata": {
  "kernelspec": {
   "display_name": "Python 3 (ipykernel)",
   "language": "python",
   "name": "python3"
  },
  "language_info": {
   "codemirror_mode": {
    "name": "ipython",
    "version": 3
   },
   "file_extension": ".py",
   "mimetype": "text/x-python",
   "name": "python",
   "nbconvert_exporter": "python",
   "pygments_lexer": "ipython3",
   "version": "3.9.7"
  }
 },
 "nbformat": 4,
 "nbformat_minor": 5
}
