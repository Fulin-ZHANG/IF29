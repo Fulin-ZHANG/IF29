{
 "cells": [
  {
   "cell_type": "code",
   "execution_count": 45,
   "id": "18bb2c60",
   "metadata": {},
   "outputs": [],
   "source": [
    "from sklearn import preprocessing\n",
    "from sklearn.decomposition import PCA\n",
    "from sklearn.cluster import KMeans\n",
    "import pandas as pd\n",
    "import numpy as np\n",
    "import matplotlib.pyplot as plt\n",
    "%matplotlib inline"
   ]
  },
  {
   "cell_type": "code",
   "execution_count": 42,
   "id": "0d6f23a9",
   "metadata": {},
   "outputs": [],
   "source": [
    "feature = pd.read_csv(\"./features.csv\")\n",
    "feature = feature.drop('Unnamed: 0', 1)"
   ]
  },
  {
   "cell_type": "code",
   "execution_count": 15,
   "id": "853f4d41",
   "metadata": {},
   "outputs": [],
   "source": [
    "feature_raw = pd.read_csv(\"./feature_raw.csv\")\n",
    "feature_raw = feature_raw.drop('Unnamed: 0', 1)"
   ]
  },
  {
   "cell_type": "code",
   "execution_count": 108,
   "id": "b3091d30",
   "metadata": {},
   "outputs": [
    {
     "data": {
      "text/html": [
       "<div>\n",
       "<style scoped>\n",
       "    .dataframe tbody tr th:only-of-type {\n",
       "        vertical-align: middle;\n",
       "    }\n",
       "\n",
       "    .dataframe tbody tr th {\n",
       "        vertical-align: top;\n",
       "    }\n",
       "\n",
       "    .dataframe thead th {\n",
       "        text-align: right;\n",
       "    }\n",
       "</style>\n",
       "<table border=\"1\" class=\"dataframe\">\n",
       "  <thead>\n",
       "    <tr style=\"text-align: right;\">\n",
       "      <th></th>\n",
       "      <th>vis</th>\n",
       "      <th>r_fri_follow</th>\n",
       "      <th>avg_fav</th>\n",
       "      <th>frequency</th>\n",
       "      <th>label</th>\n",
       "    </tr>\n",
       "  </thead>\n",
       "  <tbody>\n",
       "    <tr>\n",
       "      <th>0</th>\n",
       "      <td>0.164286</td>\n",
       "      <td>0.266114</td>\n",
       "      <td>0.925770</td>\n",
       "      <td>0.000306</td>\n",
       "      <td>1</td>\n",
       "    </tr>\n",
       "    <tr>\n",
       "      <th>1</th>\n",
       "      <td>0.578571</td>\n",
       "      <td>0.672932</td>\n",
       "      <td>3.685514</td>\n",
       "      <td>0.015026</td>\n",
       "      <td>1</td>\n",
       "    </tr>\n",
       "    <tr>\n",
       "      <th>2</th>\n",
       "      <td>0.164286</td>\n",
       "      <td>1.037681</td>\n",
       "      <td>0.037716</td>\n",
       "      <td>0.015753</td>\n",
       "      <td>1</td>\n",
       "    </tr>\n",
       "    <tr>\n",
       "      <th>3</th>\n",
       "      <td>0.245714</td>\n",
       "      <td>0.214371</td>\n",
       "      <td>2.944980</td>\n",
       "      <td>0.006128</td>\n",
       "      <td>0</td>\n",
       "    </tr>\n",
       "    <tr>\n",
       "      <th>4</th>\n",
       "      <td>0.164286</td>\n",
       "      <td>0.587054</td>\n",
       "      <td>0.110839</td>\n",
       "      <td>0.009781</td>\n",
       "      <td>0</td>\n",
       "    </tr>\n",
       "    <tr>\n",
       "      <th>...</th>\n",
       "      <td>...</td>\n",
       "      <td>...</td>\n",
       "      <td>...</td>\n",
       "      <td>...</td>\n",
       "      <td>...</td>\n",
       "    </tr>\n",
       "    <tr>\n",
       "      <th>266198</th>\n",
       "      <td>0.264286</td>\n",
       "      <td>0.248337</td>\n",
       "      <td>0.266802</td>\n",
       "      <td>0.001994</td>\n",
       "      <td>1</td>\n",
       "    </tr>\n",
       "    <tr>\n",
       "      <th>266199</th>\n",
       "      <td>0.081429</td>\n",
       "      <td>0.448549</td>\n",
       "      <td>5.806159</td>\n",
       "      <td>0.000793</td>\n",
       "      <td>0</td>\n",
       "    </tr>\n",
       "    <tr>\n",
       "      <th>266200</th>\n",
       "      <td>0.164286</td>\n",
       "      <td>0.552846</td>\n",
       "      <td>0.151943</td>\n",
       "      <td>0.009021</td>\n",
       "      <td>0</td>\n",
       "    </tr>\n",
       "    <tr>\n",
       "      <th>266201</th>\n",
       "      <td>0.330000</td>\n",
       "      <td>0.144140</td>\n",
       "      <td>1.883822</td>\n",
       "      <td>0.015576</td>\n",
       "      <td>1</td>\n",
       "    </tr>\n",
       "    <tr>\n",
       "      <th>266202</th>\n",
       "      <td>0.165714</td>\n",
       "      <td>0.445037</td>\n",
       "      <td>15.193548</td>\n",
       "      <td>0.000778</td>\n",
       "      <td>1</td>\n",
       "    </tr>\n",
       "  </tbody>\n",
       "</table>\n",
       "<p>266203 rows × 5 columns</p>\n",
       "</div>"
      ],
      "text/plain": [
       "             vis  r_fri_follow    avg_fav  frequency  label\n",
       "0       0.164286      0.266114   0.925770   0.000306      1\n",
       "1       0.578571      0.672932   3.685514   0.015026      1\n",
       "2       0.164286      1.037681   0.037716   0.015753      1\n",
       "3       0.245714      0.214371   2.944980   0.006128      0\n",
       "4       0.164286      0.587054   0.110839   0.009781      0\n",
       "...          ...           ...        ...        ...    ...\n",
       "266198  0.264286      0.248337   0.266802   0.001994      1\n",
       "266199  0.081429      0.448549   5.806159   0.000793      0\n",
       "266200  0.164286      0.552846   0.151943   0.009021      0\n",
       "266201  0.330000      0.144140   1.883822   0.015576      1\n",
       "266202  0.165714      0.445037  15.193548   0.000778      1\n",
       "\n",
       "[266203 rows x 5 columns]"
      ]
     },
     "execution_count": 108,
     "metadata": {},
     "output_type": "execute_result"
    }
   ],
   "source": [
    "feature"
   ]
  },
  {
   "cell_type": "code",
   "execution_count": 40,
   "id": "c265c7b3",
   "metadata": {},
   "outputs": [
    {
     "data": {
      "text/html": [
       "<div>\n",
       "<style scoped>\n",
       "    .dataframe tbody tr th:only-of-type {\n",
       "        vertical-align: middle;\n",
       "    }\n",
       "\n",
       "    .dataframe tbody tr th {\n",
       "        vertical-align: top;\n",
       "    }\n",
       "\n",
       "    .dataframe thead th {\n",
       "        text-align: right;\n",
       "    }\n",
       "</style>\n",
       "<table border=\"1\" class=\"dataframe\">\n",
       "  <thead>\n",
       "    <tr style=\"text-align: right;\">\n",
       "      <th></th>\n",
       "      <th>_id</th>\n",
       "      <th>friends_count</th>\n",
       "      <th>listed_count</th>\n",
       "      <th>favourites_count</th>\n",
       "      <th>statuses_count</th>\n",
       "      <th>followers_count</th>\n",
       "    </tr>\n",
       "  </thead>\n",
       "  <tbody>\n",
       "    <tr>\n",
       "      <th>0</th>\n",
       "      <td>423108474</td>\n",
       "      <td>345</td>\n",
       "      <td>1</td>\n",
       "      <td>1330</td>\n",
       "      <td>35264</td>\n",
       "      <td>358</td>\n",
       "    </tr>\n",
       "    <tr>\n",
       "      <th>1</th>\n",
       "      <td>2598356918</td>\n",
       "      <td>4996</td>\n",
       "      <td>1</td>\n",
       "      <td>25639</td>\n",
       "      <td>8706</td>\n",
       "      <td>1071</td>\n",
       "    </tr>\n",
       "    <tr>\n",
       "      <th>2</th>\n",
       "      <td>356977475</td>\n",
       "      <td>4010</td>\n",
       "      <td>3</td>\n",
       "      <td>68281</td>\n",
       "      <td>36246</td>\n",
       "      <td>578</td>\n",
       "    </tr>\n",
       "    <tr>\n",
       "      <th>3</th>\n",
       "      <td>353576074</td>\n",
       "      <td>1086</td>\n",
       "      <td>0</td>\n",
       "      <td>661</td>\n",
       "      <td>714</td>\n",
       "      <td>289</td>\n",
       "    </tr>\n",
       "    <tr>\n",
       "      <th>4</th>\n",
       "      <td>2494785421</td>\n",
       "      <td>448</td>\n",
       "      <td>10</td>\n",
       "      <td>1585</td>\n",
       "      <td>14300</td>\n",
       "      <td>263</td>\n",
       "    </tr>\n",
       "    <tr>\n",
       "      <th>...</th>\n",
       "      <td>...</td>\n",
       "      <td>...</td>\n",
       "      <td>...</td>\n",
       "      <td>...</td>\n",
       "      <td>...</td>\n",
       "      <td>...</td>\n",
       "    </tr>\n",
       "    <tr>\n",
       "      <th>267462</th>\n",
       "      <td>3334130291</td>\n",
       "      <td>1874</td>\n",
       "      <td>0</td>\n",
       "      <td>13188</td>\n",
       "      <td>868</td>\n",
       "      <td>834</td>\n",
       "    </tr>\n",
       "    <tr>\n",
       "      <th>267463</th>\n",
       "      <td>833738070</td>\n",
       "      <td>238</td>\n",
       "      <td>0</td>\n",
       "      <td>6286</td>\n",
       "      <td>17738</td>\n",
       "      <td>378</td>\n",
       "    </tr>\n",
       "    <tr>\n",
       "      <th>267464</th>\n",
       "      <td>144278441</td>\n",
       "      <td>451</td>\n",
       "      <td>8</td>\n",
       "      <td>1449</td>\n",
       "      <td>5431</td>\n",
       "      <td>112</td>\n",
       "    </tr>\n",
       "    <tr>\n",
       "      <th>267465</th>\n",
       "      <td>788044945949069313</td>\n",
       "      <td>379</td>\n",
       "      <td>0</td>\n",
       "      <td>3205</td>\n",
       "      <td>552</td>\n",
       "      <td>170</td>\n",
       "    </tr>\n",
       "    <tr>\n",
       "      <th>267466</th>\n",
       "      <td>264143196</td>\n",
       "      <td>369</td>\n",
       "      <td>1</td>\n",
       "      <td>3378</td>\n",
       "      <td>22232</td>\n",
       "      <td>204</td>\n",
       "    </tr>\n",
       "  </tbody>\n",
       "</table>\n",
       "<p>267467 rows × 6 columns</p>\n",
       "</div>"
      ],
      "text/plain": [
       "                       _id  friends_count  listed_count  favourites_count  \\\n",
       "0                423108474            345             1              1330   \n",
       "1               2598356918           4996             1             25639   \n",
       "2                356977475           4010             3             68281   \n",
       "3                353576074           1086             0               661   \n",
       "4               2494785421            448            10              1585   \n",
       "...                    ...            ...           ...               ...   \n",
       "267462          3334130291           1874             0             13188   \n",
       "267463           833738070            238             0              6286   \n",
       "267464           144278441            451             8              1449   \n",
       "267465  788044945949069313            379             0              3205   \n",
       "267466           264143196            369             1              3378   \n",
       "\n",
       "        statuses_count  followers_count  \n",
       "0                35264              358  \n",
       "1                 8706             1071  \n",
       "2                36246              578  \n",
       "3                  714              289  \n",
       "4                14300              263  \n",
       "...                ...              ...  \n",
       "267462             868              834  \n",
       "267463           17738              378  \n",
       "267464            5431              112  \n",
       "267465             552              170  \n",
       "267466           22232              204  \n",
       "\n",
       "[267467 rows x 6 columns]"
      ]
     },
     "execution_count": 40,
     "metadata": {},
     "output_type": "execute_result"
    }
   ],
   "source": [
    "feature_raw"
   ]
  },
  {
   "cell_type": "code",
   "execution_count": 143,
   "id": "d11e5d41",
   "metadata": {
    "scrolled": true
   },
   "outputs": [
    {
     "data": {
      "text/html": [
       "<div>\n",
       "<style scoped>\n",
       "    .dataframe tbody tr th:only-of-type {\n",
       "        vertical-align: middle;\n",
       "    }\n",
       "\n",
       "    .dataframe tbody tr th {\n",
       "        vertical-align: top;\n",
       "    }\n",
       "\n",
       "    .dataframe thead th {\n",
       "        text-align: right;\n",
       "    }\n",
       "</style>\n",
       "<table border=\"1\" class=\"dataframe\">\n",
       "  <thead>\n",
       "    <tr style=\"text-align: right;\">\n",
       "      <th></th>\n",
       "      <th>vis</th>\n",
       "      <th>r_fri_follow</th>\n",
       "      <th>avg_fav</th>\n",
       "      <th>frequency</th>\n",
       "      <th>label</th>\n",
       "    </tr>\n",
       "  </thead>\n",
       "  <tbody>\n",
       "    <tr>\n",
       "      <th>0</th>\n",
       "      <td>0.164286</td>\n",
       "      <td>0.266114</td>\n",
       "      <td>0.925770</td>\n",
       "      <td>0.000306</td>\n",
       "      <td>1</td>\n",
       "    </tr>\n",
       "    <tr>\n",
       "      <th>1</th>\n",
       "      <td>0.578571</td>\n",
       "      <td>0.672932</td>\n",
       "      <td>3.685514</td>\n",
       "      <td>0.015026</td>\n",
       "      <td>1</td>\n",
       "    </tr>\n",
       "    <tr>\n",
       "      <th>2</th>\n",
       "      <td>0.164286</td>\n",
       "      <td>1.037681</td>\n",
       "      <td>0.037716</td>\n",
       "      <td>0.015753</td>\n",
       "      <td>1</td>\n",
       "    </tr>\n",
       "    <tr>\n",
       "      <th>3</th>\n",
       "      <td>0.245714</td>\n",
       "      <td>0.214371</td>\n",
       "      <td>2.944980</td>\n",
       "      <td>0.006128</td>\n",
       "      <td>0</td>\n",
       "    </tr>\n",
       "    <tr>\n",
       "      <th>4</th>\n",
       "      <td>0.164286</td>\n",
       "      <td>0.587054</td>\n",
       "      <td>0.110839</td>\n",
       "      <td>0.009781</td>\n",
       "      <td>0</td>\n",
       "    </tr>\n",
       "    <tr>\n",
       "      <th>...</th>\n",
       "      <td>...</td>\n",
       "      <td>...</td>\n",
       "      <td>...</td>\n",
       "      <td>...</td>\n",
       "      <td>...</td>\n",
       "    </tr>\n",
       "    <tr>\n",
       "      <th>266198</th>\n",
       "      <td>0.264286</td>\n",
       "      <td>0.248337</td>\n",
       "      <td>0.266802</td>\n",
       "      <td>0.001994</td>\n",
       "      <td>1</td>\n",
       "    </tr>\n",
       "    <tr>\n",
       "      <th>266199</th>\n",
       "      <td>0.081429</td>\n",
       "      <td>0.448549</td>\n",
       "      <td>5.806159</td>\n",
       "      <td>0.000793</td>\n",
       "      <td>0</td>\n",
       "    </tr>\n",
       "    <tr>\n",
       "      <th>266200</th>\n",
       "      <td>0.164286</td>\n",
       "      <td>0.552846</td>\n",
       "      <td>0.151943</td>\n",
       "      <td>0.009021</td>\n",
       "      <td>0</td>\n",
       "    </tr>\n",
       "    <tr>\n",
       "      <th>266201</th>\n",
       "      <td>0.330000</td>\n",
       "      <td>0.144140</td>\n",
       "      <td>1.883822</td>\n",
       "      <td>0.015576</td>\n",
       "      <td>1</td>\n",
       "    </tr>\n",
       "    <tr>\n",
       "      <th>266202</th>\n",
       "      <td>0.165714</td>\n",
       "      <td>0.445037</td>\n",
       "      <td>15.193548</td>\n",
       "      <td>0.000778</td>\n",
       "      <td>1</td>\n",
       "    </tr>\n",
       "  </tbody>\n",
       "</table>\n",
       "<p>266203 rows × 5 columns</p>\n",
       "</div>"
      ],
      "text/plain": [
       "             vis  r_fri_follow    avg_fav  frequency  label\n",
       "0       0.164286      0.266114   0.925770   0.000306      1\n",
       "1       0.578571      0.672932   3.685514   0.015026      1\n",
       "2       0.164286      1.037681   0.037716   0.015753      1\n",
       "3       0.245714      0.214371   2.944980   0.006128      0\n",
       "4       0.164286      0.587054   0.110839   0.009781      0\n",
       "...          ...           ...        ...        ...    ...\n",
       "266198  0.264286      0.248337   0.266802   0.001994      1\n",
       "266199  0.081429      0.448549   5.806159   0.000793      0\n",
       "266200  0.164286      0.552846   0.151943   0.009021      0\n",
       "266201  0.330000      0.144140   1.883822   0.015576      1\n",
       "266202  0.165714      0.445037  15.193548   0.000778      1\n",
       "\n",
       "[266203 rows x 5 columns]"
      ]
     },
     "execution_count": 143,
     "metadata": {},
     "output_type": "execute_result"
    }
   ],
   "source": [
    "feature"
   ]
  },
  {
   "cell_type": "markdown",
   "id": "a71159c7",
   "metadata": {},
   "source": [
    "## Normalization"
   ]
  },
  {
   "cell_type": "code",
   "execution_count": 144,
   "id": "fa986a90",
   "metadata": {},
   "outputs": [],
   "source": [
    "feature_normalized = preprocessing.normalize(feature.iloc[:,[0,1,2,3]])"
   ]
  },
  {
   "cell_type": "code",
   "execution_count": 94,
   "id": "b4af3d54",
   "metadata": {},
   "outputs": [],
   "source": [
    "feature_raw_normalized = preprocessing.normalize(feature_raw.iloc[:,[1,2,3,4,5]])"
   ]
  },
  {
   "cell_type": "code",
   "execution_count": 145,
   "id": "0d6d3c08",
   "metadata": {},
   "outputs": [
    {
     "data": {
      "text/plain": [
       "array([[1.68124328e-01, 2.72332065e-01, 9.47401371e-01, 3.13376153e-04],\n",
       "       [1.52621678e-01, 1.77513192e-01, 9.72203672e-01, 3.96371917e-03],\n",
       "       [1.56254200e-01, 9.86951544e-01, 3.58717007e-02, 1.49831622e-02],\n",
       "       ...,\n",
       "       [2.75422381e-01, 9.26836717e-01, 2.54730261e-01, 1.51230415e-02],\n",
       "       [1.72054716e-01, 7.51512325e-02, 9.82183036e-01, 8.12101734e-03],\n",
       "       [1.09015613e-02, 2.92769085e-02, 9.99511889e-01, 5.11616721e-05]])"
      ]
     },
     "execution_count": 145,
     "metadata": {},
     "output_type": "execute_result"
    }
   ],
   "source": [
    "feature_normalized"
   ]
  },
  {
   "cell_type": "code",
   "execution_count": 163,
   "id": "98930264",
   "metadata": {},
   "outputs": [],
   "source": [
    "from sklearn.decomposition import PCA\n",
    "acp = PCA(svd_solver='auto')\n",
    "coord = acp.fit_transform(feature_normalized)"
   ]
  },
  {
   "cell_type": "code",
   "execution_count": 164,
   "id": "e58c8e81",
   "metadata": {},
   "outputs": [
    {
     "data": {
      "text/plain": [
       "array([0.82159314, 0.14001428, 0.0358075 , 0.00258508])"
      ]
     },
     "execution_count": 164,
     "metadata": {},
     "output_type": "execute_result"
    }
   ],
   "source": [
    "acp.explained_variance_ratio_"
   ]
  },
  {
   "cell_type": "code",
   "execution_count": 166,
   "id": "becfa47e",
   "metadata": {},
   "outputs": [
    {
     "data": {
      "text/plain": [
       "array([[ 6.17186495e-01, -9.19795739e-03, -1.69452102e-02,\n",
       "        -4.50703413e-03],\n",
       "       [ 6.98656165e-01, -2.15717444e-03,  3.92294316e-02,\n",
       "        -3.88827853e-04],\n",
       "       [-5.38988668e-01, -7.88068108e-03,  5.48046788e-02,\n",
       "         1.20735035e-03],\n",
       "       ...,\n",
       "       [-3.36532014e-01,  6.76804294e-02, -8.30924531e-02,\n",
       "         1.58119145e-03],\n",
       "       [ 7.73577874e-01,  4.29979840e-02,  9.67208137e-02,\n",
       "         3.48091563e-03],\n",
       "       [ 8.18901540e-01, -9.75386872e-02,  1.78014753e-01,\n",
       "        -1.68721608e-03]])"
      ]
     },
     "execution_count": 166,
     "metadata": {},
     "output_type": "execute_result"
    }
   ],
   "source": [
    "coord"
   ]
  },
  {
   "cell_type": "markdown",
   "id": "19f341ab",
   "metadata": {},
   "source": [
    "## KMeans cluster (MiniBatchKMeans)"
   ]
  },
  {
   "cell_type": "code",
   "execution_count": 167,
   "id": "a60cd496",
   "metadata": {},
   "outputs": [],
   "source": [
    "kmeans = KMeans(n_clusters=2, random_state=0)\n",
    "labels = kmeans.fit_predict(coord[:,[0,1]])\n",
    "# np.unique(kmeans.labels_, return_counts=True)"
   ]
  },
  {
   "cell_type": "code",
   "execution_count": 168,
   "id": "26d7e8fd",
   "metadata": {
    "scrolled": true
   },
   "outputs": [
    {
     "data": {
      "text/plain": [
       "(array([0, 1]), array([109308, 156895], dtype=int64))"
      ]
     },
     "execution_count": 168,
     "metadata": {},
     "output_type": "execute_result"
    }
   ],
   "source": [
    "np.unique(labels, return_counts=True)"
   ]
  },
  {
   "cell_type": "code",
   "execution_count": 169,
   "id": "0d902cd3",
   "metadata": {},
   "outputs": [],
   "source": [
    "labels0 = coord[labels == 0]\n",
    "labels1 = coord[labels == 1]"
   ]
  },
  {
   "cell_type": "code",
   "execution_count": 175,
   "id": "0d598d5e",
   "metadata": {},
   "outputs": [
    {
     "data": {
      "text/plain": [
       "array([[ 6.17186495e-01, -9.19795739e-03, -1.69452102e-02,\n",
       "        -4.50703413e-03],\n",
       "       [ 6.98656165e-01, -2.15717444e-03,  3.92294316e-02,\n",
       "        -3.88827853e-04],\n",
       "       [-5.38988668e-01, -7.88068108e-03,  5.48046788e-02,\n",
       "         1.20735035e-03],\n",
       "       ...,\n",
       "       [-3.36532014e-01,  6.76804294e-02, -8.30924531e-02,\n",
       "         1.58119145e-03],\n",
       "       [ 7.73577874e-01,  4.29979840e-02,  9.67208137e-02,\n",
       "         3.48091563e-03],\n",
       "       [ 8.18901540e-01, -9.75386872e-02,  1.78014753e-01,\n",
       "        -1.68721608e-03]])"
      ]
     },
     "execution_count": 175,
     "metadata": {},
     "output_type": "execute_result"
    }
   ],
   "source": [
    "coord"
   ]
  },
  {
   "cell_type": "code",
   "execution_count": 130,
   "id": "e70a19a3",
   "metadata": {},
   "outputs": [],
   "source": [
    "labels0 = feature_normalized[labels == 0]\n",
    "labels1 = feature_normalized[labels == 1]"
   ]
  },
  {
   "cell_type": "code",
   "execution_count": 95,
   "id": "5012d960",
   "metadata": {},
   "outputs": [],
   "source": [
    "kmeans1 = KMeans(n_clusters=2, random_state=0)\n",
    "labels = kmeans1.fit_predict(feature_raw_normalized)"
   ]
  },
  {
   "cell_type": "code",
   "execution_count": 96,
   "id": "dc7fdf24",
   "metadata": {},
   "outputs": [
    {
     "data": {
      "text/plain": [
       "(array([0, 1]), array([151419, 116048], dtype=int64))"
      ]
     },
     "execution_count": 96,
     "metadata": {},
     "output_type": "execute_result"
    }
   ],
   "source": [
    "np.unique(labels, return_counts=True)"
   ]
  },
  {
   "cell_type": "code",
   "execution_count": 97,
   "id": "de11b21a",
   "metadata": {},
   "outputs": [],
   "source": [
    "labels0_raw = feature_raw[labels == 0]\n",
    "labels1_raw = feature_raw[labels == 1]"
   ]
  },
  {
   "cell_type": "code",
   "execution_count": 139,
   "id": "2e448c50",
   "metadata": {},
   "outputs": [
    {
     "data": {
      "text/plain": [
       "array([0.9846166 , 0.98789297, 0.99653523, 0.99999744, 0.9929264 ,\n",
       "       0.99905045, 0.99691786, 0.99888973, 0.9988861 , 0.9854889 ])"
      ]
     },
     "execution_count": 139,
     "metadata": {},
     "output_type": "execute_result"
    }
   ],
   "source": [
    "labels0[:,1][:10]"
   ]
  },
  {
   "cell_type": "code",
   "execution_count": 158,
   "id": "9e22e868",
   "metadata": {},
   "outputs": [
    {
     "data": {
      "text/plain": [
       "<mpl_toolkits.mplot3d.art3d.Path3DCollection at 0x256bf85ebb0>"
      ]
     },
     "execution_count": 158,
     "metadata": {},
     "output_type": "execute_result"
    },
    {
     "data": {
      "image/png": "[encoded data removed]",
      "text/plain": [
       "<Figure size 432x288 with 1 Axes>"
      ]
     },
     "metadata": {
      "needs_background": "light"
     },
     "output_type": "display_data"
    }
   ],
   "source": [
    "fig = plt.figure()\n",
    "ax = fig.add_subplot(projection='3d')\n",
    "ax.scatter(labels0[:,1][:100], labels0[:,2][:100], labels0[:,0][:100])\n",
    "ax.scatter(labels1[:,1][:100], labels1[:,2][:100], labels1[:,0][:100])"
   ]
  },
  {
   "cell_type": "code",
   "execution_count": 172,
   "id": "fcccd97e",
   "metadata": {},
   "outputs": [
    {
     "data": {
      "text/plain": [
       "array([[ 6.17186495e-01, -9.19795739e-03, -1.69452102e-02,\n",
       "        -4.50703413e-03],\n",
       "       [ 6.98656165e-01, -2.15717444e-03,  3.92294316e-02,\n",
       "        -3.88827853e-04],\n",
       "       [ 7.85346352e-01, -4.17619070e-02,  1.24715540e-01,\n",
       "        -9.30727284e-04],\n",
       "       ...,\n",
       "       [ 7.85353915e-01, -1.07795087e-01,  1.45386213e-01,\n",
       "        -1.65352647e-03],\n",
       "       [ 7.73577874e-01,  4.29979840e-02,  9.67208137e-02,\n",
       "         3.48091563e-03],\n",
       "       [ 8.18901540e-01, -9.75386872e-02,  1.78014753e-01,\n",
       "        -1.68721608e-03]])"
      ]
     },
     "execution_count": 172,
     "metadata": {},
     "output_type": "execute_result"
    }
   ],
   "source": [
    "labels0"
   ]
  },
  {
   "cell_type": "code",
   "execution_count": 192,
   "id": "14f66167",
   "metadata": {},
   "outputs": [
    {
     "data": {
      "text/plain": [
       "<matplotlib.collections.PathCollection at 0x256d07b88b0>"
      ]
     },
     "execution_count": 192,
     "metadata": {},
     "output_type": "execute_result"
    },
    {
     "data": {
      "image/png": "[encoded data removed]",
      "text/plain": [
       "<Figure size 432x288 with 1 Axes>"
      ]
     },
     "metadata": {
      "needs_background": "light"
     },
     "output_type": "display_data"
    }
   ],
   "source": [
    "plt.scatter(np.random.choice(labels0[:,0],100), np.random.choice(labels0[:,1],100), c='red')\n",
    "plt.scatter(np.random.choice(labels1[:,0],100), np.random.choice(labels1[:,1],100), c='blue')"
   ]
  },
  {
   "cell_type": "code",
   "execution_count": 179,
   "id": "7fc46b38",
   "metadata": {},
   "outputs": [],
   "source": [
    "a = np.random.choice(labels0[:,0],100)"
   ]
  },
  {
   "cell_type": "code",
   "execution_count": 180,
   "id": "3d6c7ff4",
   "metadata": {},
   "outputs": [
    {
     "data": {
      "text/plain": [
       "(100,)"
      ]
     },
     "execution_count": 180,
     "metadata": {},
     "output_type": "execute_result"
    }
   ],
   "source": [
    "a.shape"
   ]
  }
 ],
 "metadata": {
  "kernelspec": {
   "display_name": "Python 3 (ipykernel)",
   "language": "python",
   "name": "python3"
  },
  "language_info": {
   "codemirror_mode": {
    "name": "ipython",
    "version": 3
   },
   "file_extension": ".py",
   "mimetype": "text/x-python",
   "name": "python",
   "nbconvert_exporter": "python",
   "pygments_lexer": "ipython3",
   "version": "3.8.8"
  }
 },
 "nbformat": 4,
 "nbformat_minor": 5
}
