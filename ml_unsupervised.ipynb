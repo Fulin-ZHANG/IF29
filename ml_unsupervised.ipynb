{
 "cells": [
  {
   "cell_type": "code",
   "execution_count": 1,
   "id": "18bb2c60",
   "metadata": {},
   "outputs": [],
   "source": [
    "from sklearn import preprocessing\n",
    "from sklearn.decomposition import PCA\n",
    "from sklearn.cluster import KMeans\n",
    "import pandas as pd\n",
    "import numpy as np\n",
    "import matplotlib.pyplot as plt\n",
    "%matplotlib inline"
   ]
  },
  {
   "cell_type": "code",
   "execution_count": 2,
   "id": "0d6f23a9",
   "metadata": {},
   "outputs": [],
   "source": [
    "feature = pd.read_csv(\"./features.csv\")\n",
    "feature = feature.drop('Unnamed: 0', 1)"
   ]
  },
  {
   "cell_type": "code",
   "execution_count": 3,
   "id": "853f4d41",
   "metadata": {},
   "outputs": [],
   "source": [
    "feature_raw = pd.read_csv(\"./feature_raw.csv\")\n",
    "feature_raw = feature_raw.drop('Unnamed: 0', 1)"
   ]
  },
  {
   "cell_type": "code",
   "execution_count": 4,
   "id": "b3091d30",
   "metadata": {},
   "outputs": [
    {
     "data": {
      "text/html": [
       "<div>\n",
       "<style scoped>\n",
       "    .dataframe tbody tr th:only-of-type {\n",
       "        vertical-align: middle;\n",
       "    }\n",
       "\n",
       "    .dataframe tbody tr th {\n",
       "        vertical-align: top;\n",
       "    }\n",
       "\n",
       "    .dataframe thead th {\n",
       "        text-align: right;\n",
       "    }\n",
       "</style>\n",
       "<table border=\"1\" class=\"dataframe\">\n",
       "  <thead>\n",
       "    <tr style=\"text-align: right;\">\n",
       "      <th></th>\n",
       "      <th>vis</th>\n",
       "      <th>r_fri_follow</th>\n",
       "      <th>avg_fav</th>\n",
       "      <th>frequency</th>\n",
       "    </tr>\n",
       "  </thead>\n",
       "  <tbody>\n",
       "    <tr>\n",
       "      <th>0</th>\n",
       "      <td>0.164286</td>\n",
       "      <td>0.266114</td>\n",
       "      <td>0.925770</td>\n",
       "      <td>0.000306</td>\n",
       "    </tr>\n",
       "    <tr>\n",
       "      <th>1</th>\n",
       "      <td>0.578571</td>\n",
       "      <td>0.672932</td>\n",
       "      <td>3.685514</td>\n",
       "      <td>0.015026</td>\n",
       "    </tr>\n",
       "    <tr>\n",
       "      <th>2</th>\n",
       "      <td>0.164286</td>\n",
       "      <td>1.037681</td>\n",
       "      <td>0.037716</td>\n",
       "      <td>0.015753</td>\n",
       "    </tr>\n",
       "    <tr>\n",
       "      <th>3</th>\n",
       "      <td>0.245714</td>\n",
       "      <td>0.214371</td>\n",
       "      <td>2.944980</td>\n",
       "      <td>0.006128</td>\n",
       "    </tr>\n",
       "    <tr>\n",
       "      <th>4</th>\n",
       "      <td>0.164286</td>\n",
       "      <td>0.587054</td>\n",
       "      <td>0.110839</td>\n",
       "      <td>0.009781</td>\n",
       "    </tr>\n",
       "    <tr>\n",
       "      <th>...</th>\n",
       "      <td>...</td>\n",
       "      <td>...</td>\n",
       "      <td>...</td>\n",
       "      <td>...</td>\n",
       "    </tr>\n",
       "    <tr>\n",
       "      <th>266198</th>\n",
       "      <td>0.264286</td>\n",
       "      <td>0.248337</td>\n",
       "      <td>0.266802</td>\n",
       "      <td>0.001994</td>\n",
       "    </tr>\n",
       "    <tr>\n",
       "      <th>266199</th>\n",
       "      <td>0.081429</td>\n",
       "      <td>0.448549</td>\n",
       "      <td>5.806159</td>\n",
       "      <td>0.000793</td>\n",
       "    </tr>\n",
       "    <tr>\n",
       "      <th>266200</th>\n",
       "      <td>0.164286</td>\n",
       "      <td>0.552846</td>\n",
       "      <td>0.151943</td>\n",
       "      <td>0.009021</td>\n",
       "    </tr>\n",
       "    <tr>\n",
       "      <th>266201</th>\n",
       "      <td>0.330000</td>\n",
       "      <td>0.144140</td>\n",
       "      <td>1.883822</td>\n",
       "      <td>0.015576</td>\n",
       "    </tr>\n",
       "    <tr>\n",
       "      <th>266202</th>\n",
       "      <td>0.165714</td>\n",
       "      <td>0.445037</td>\n",
       "      <td>15.193548</td>\n",
       "      <td>0.000778</td>\n",
       "    </tr>\n",
       "  </tbody>\n",
       "</table>\n",
       "<p>266203 rows × 4 columns</p>\n",
       "</div>"
      ],
      "text/plain": [
       "             vis  r_fri_follow    avg_fav  frequency\n",
       "0       0.164286      0.266114   0.925770   0.000306\n",
       "1       0.578571      0.672932   3.685514   0.015026\n",
       "2       0.164286      1.037681   0.037716   0.015753\n",
       "3       0.245714      0.214371   2.944980   0.006128\n",
       "4       0.164286      0.587054   0.110839   0.009781\n",
       "...          ...           ...        ...        ...\n",
       "266198  0.264286      0.248337   0.266802   0.001994\n",
       "266199  0.081429      0.448549   5.806159   0.000793\n",
       "266200  0.164286      0.552846   0.151943   0.009021\n",
       "266201  0.330000      0.144140   1.883822   0.015576\n",
       "266202  0.165714      0.445037  15.193548   0.000778\n",
       "\n",
       "[266203 rows x 4 columns]"
      ]
     },
     "execution_count": 4,
     "metadata": {},
     "output_type": "execute_result"
    }
   ],
   "source": [
    "feature"
   ]
  },
  {
   "cell_type": "code",
   "execution_count": 5,
   "id": "c265c7b3",
   "metadata": {},
   "outputs": [
    {
     "data": {
      "text/html": [
       "<div>\n",
       "<style scoped>\n",
       "    .dataframe tbody tr th:only-of-type {\n",
       "        vertical-align: middle;\n",
       "    }\n",
       "\n",
       "    .dataframe tbody tr th {\n",
       "        vertical-align: top;\n",
       "    }\n",
       "\n",
       "    .dataframe thead th {\n",
       "        text-align: right;\n",
       "    }\n",
       "</style>\n",
       "<table border=\"1\" class=\"dataframe\">\n",
       "  <thead>\n",
       "    <tr style=\"text-align: right;\">\n",
       "      <th></th>\n",
       "      <th>_id</th>\n",
       "      <th>friends_count</th>\n",
       "      <th>listed_count</th>\n",
       "      <th>favourites_count</th>\n",
       "      <th>statuses_count</th>\n",
       "      <th>followers_count</th>\n",
       "    </tr>\n",
       "  </thead>\n",
       "  <tbody>\n",
       "    <tr>\n",
       "      <th>0</th>\n",
       "      <td>353576074</td>\n",
       "      <td>1086</td>\n",
       "      <td>0</td>\n",
       "      <td>661</td>\n",
       "      <td>714</td>\n",
       "      <td>289</td>\n",
       "    </tr>\n",
       "    <tr>\n",
       "      <th>1</th>\n",
       "      <td>837488007124963328</td>\n",
       "      <td>266</td>\n",
       "      <td>0</td>\n",
       "      <td>32005</td>\n",
       "      <td>8684</td>\n",
       "      <td>179</td>\n",
       "    </tr>\n",
       "    <tr>\n",
       "      <th>2</th>\n",
       "      <td>423108474</td>\n",
       "      <td>345</td>\n",
       "      <td>1</td>\n",
       "      <td>1330</td>\n",
       "      <td>35264</td>\n",
       "      <td>358</td>\n",
       "    </tr>\n",
       "    <tr>\n",
       "      <th>3</th>\n",
       "      <td>2598356918</td>\n",
       "      <td>4996</td>\n",
       "      <td>1</td>\n",
       "      <td>25639</td>\n",
       "      <td>8706</td>\n",
       "      <td>1071</td>\n",
       "    </tr>\n",
       "    <tr>\n",
       "      <th>4</th>\n",
       "      <td>2494785421</td>\n",
       "      <td>448</td>\n",
       "      <td>10</td>\n",
       "      <td>1585</td>\n",
       "      <td>14300</td>\n",
       "      <td>263</td>\n",
       "    </tr>\n",
       "    <tr>\n",
       "      <th>...</th>\n",
       "      <td>...</td>\n",
       "      <td>...</td>\n",
       "      <td>...</td>\n",
       "      <td>...</td>\n",
       "      <td>...</td>\n",
       "      <td>...</td>\n",
       "    </tr>\n",
       "    <tr>\n",
       "      <th>267462</th>\n",
       "      <td>144278441</td>\n",
       "      <td>451</td>\n",
       "      <td>8</td>\n",
       "      <td>1449</td>\n",
       "      <td>5431</td>\n",
       "      <td>112</td>\n",
       "    </tr>\n",
       "    <tr>\n",
       "      <th>267463</th>\n",
       "      <td>788044945949069313</td>\n",
       "      <td>379</td>\n",
       "      <td>0</td>\n",
       "      <td>3205</td>\n",
       "      <td>552</td>\n",
       "      <td>170</td>\n",
       "    </tr>\n",
       "    <tr>\n",
       "      <th>267464</th>\n",
       "      <td>264143196</td>\n",
       "      <td>369</td>\n",
       "      <td>1</td>\n",
       "      <td>3378</td>\n",
       "      <td>22232</td>\n",
       "      <td>204</td>\n",
       "    </tr>\n",
       "    <tr>\n",
       "      <th>267465</th>\n",
       "      <td>356977475</td>\n",
       "      <td>4010</td>\n",
       "      <td>3</td>\n",
       "      <td>68281</td>\n",
       "      <td>36246</td>\n",
       "      <td>578</td>\n",
       "    </tr>\n",
       "    <tr>\n",
       "      <th>267466</th>\n",
       "      <td>3334130291</td>\n",
       "      <td>1874</td>\n",
       "      <td>0</td>\n",
       "      <td>13188</td>\n",
       "      <td>868</td>\n",
       "      <td>834</td>\n",
       "    </tr>\n",
       "  </tbody>\n",
       "</table>\n",
       "<p>267467 rows × 6 columns</p>\n",
       "</div>"
      ],
      "text/plain": [
       "                       _id  friends_count  listed_count  favourites_count  \\\n",
       "0                353576074           1086             0               661   \n",
       "1       837488007124963328            266             0             32005   \n",
       "2                423108474            345             1              1330   \n",
       "3               2598356918           4996             1             25639   \n",
       "4               2494785421            448            10              1585   \n",
       "...                    ...            ...           ...               ...   \n",
       "267462           144278441            451             8              1449   \n",
       "267463  788044945949069313            379             0              3205   \n",
       "267464           264143196            369             1              3378   \n",
       "267465           356977475           4010             3             68281   \n",
       "267466          3334130291           1874             0             13188   \n",
       "\n",
       "        statuses_count  followers_count  \n",
       "0                  714              289  \n",
       "1                 8684              179  \n",
       "2                35264              358  \n",
       "3                 8706             1071  \n",
       "4                14300              263  \n",
       "...                ...              ...  \n",
       "267462            5431              112  \n",
       "267463             552              170  \n",
       "267464           22232              204  \n",
       "267465           36246              578  \n",
       "267466             868              834  \n",
       "\n",
       "[267467 rows x 6 columns]"
      ]
     },
     "execution_count": 5,
     "metadata": {},
     "output_type": "execute_result"
    }
   ],
   "source": [
    "feature_raw"
   ]
  },
  {
   "cell_type": "code",
   "execution_count": 6,
   "id": "d11e5d41",
   "metadata": {
    "scrolled": true
   },
   "outputs": [
    {
     "data": {
      "text/html": [
       "<div>\n",
       "<style scoped>\n",
       "    .dataframe tbody tr th:only-of-type {\n",
       "        vertical-align: middle;\n",
       "    }\n",
       "\n",
       "    .dataframe tbody tr th {\n",
       "        vertical-align: top;\n",
       "    }\n",
       "\n",
       "    .dataframe thead th {\n",
       "        text-align: right;\n",
       "    }\n",
       "</style>\n",
       "<table border=\"1\" class=\"dataframe\">\n",
       "  <thead>\n",
       "    <tr style=\"text-align: right;\">\n",
       "      <th></th>\n",
       "      <th>vis</th>\n",
       "      <th>r_fri_follow</th>\n",
       "      <th>avg_fav</th>\n",
       "      <th>frequency</th>\n",
       "    </tr>\n",
       "  </thead>\n",
       "  <tbody>\n",
       "    <tr>\n",
       "      <th>0</th>\n",
       "      <td>0.164286</td>\n",
       "      <td>0.266114</td>\n",
       "      <td>0.925770</td>\n",
       "      <td>0.000306</td>\n",
       "    </tr>\n",
       "    <tr>\n",
       "      <th>1</th>\n",
       "      <td>0.578571</td>\n",
       "      <td>0.672932</td>\n",
       "      <td>3.685514</td>\n",
       "      <td>0.015026</td>\n",
       "    </tr>\n",
       "    <tr>\n",
       "      <th>2</th>\n",
       "      <td>0.164286</td>\n",
       "      <td>1.037681</td>\n",
       "      <td>0.037716</td>\n",
       "      <td>0.015753</td>\n",
       "    </tr>\n",
       "    <tr>\n",
       "      <th>3</th>\n",
       "      <td>0.245714</td>\n",
       "      <td>0.214371</td>\n",
       "      <td>2.944980</td>\n",
       "      <td>0.006128</td>\n",
       "    </tr>\n",
       "    <tr>\n",
       "      <th>4</th>\n",
       "      <td>0.164286</td>\n",
       "      <td>0.587054</td>\n",
       "      <td>0.110839</td>\n",
       "      <td>0.009781</td>\n",
       "    </tr>\n",
       "    <tr>\n",
       "      <th>...</th>\n",
       "      <td>...</td>\n",
       "      <td>...</td>\n",
       "      <td>...</td>\n",
       "      <td>...</td>\n",
       "    </tr>\n",
       "    <tr>\n",
       "      <th>266198</th>\n",
       "      <td>0.264286</td>\n",
       "      <td>0.248337</td>\n",
       "      <td>0.266802</td>\n",
       "      <td>0.001994</td>\n",
       "    </tr>\n",
       "    <tr>\n",
       "      <th>266199</th>\n",
       "      <td>0.081429</td>\n",
       "      <td>0.448549</td>\n",
       "      <td>5.806159</td>\n",
       "      <td>0.000793</td>\n",
       "    </tr>\n",
       "    <tr>\n",
       "      <th>266200</th>\n",
       "      <td>0.164286</td>\n",
       "      <td>0.552846</td>\n",
       "      <td>0.151943</td>\n",
       "      <td>0.009021</td>\n",
       "    </tr>\n",
       "    <tr>\n",
       "      <th>266201</th>\n",
       "      <td>0.330000</td>\n",
       "      <td>0.144140</td>\n",
       "      <td>1.883822</td>\n",
       "      <td>0.015576</td>\n",
       "    </tr>\n",
       "    <tr>\n",
       "      <th>266202</th>\n",
       "      <td>0.165714</td>\n",
       "      <td>0.445037</td>\n",
       "      <td>15.193548</td>\n",
       "      <td>0.000778</td>\n",
       "    </tr>\n",
       "  </tbody>\n",
       "</table>\n",
       "<p>266203 rows × 4 columns</p>\n",
       "</div>"
      ],
      "text/plain": [
       "             vis  r_fri_follow    avg_fav  frequency\n",
       "0       0.164286      0.266114   0.925770   0.000306\n",
       "1       0.578571      0.672932   3.685514   0.015026\n",
       "2       0.164286      1.037681   0.037716   0.015753\n",
       "3       0.245714      0.214371   2.944980   0.006128\n",
       "4       0.164286      0.587054   0.110839   0.009781\n",
       "...          ...           ...        ...        ...\n",
       "266198  0.264286      0.248337   0.266802   0.001994\n",
       "266199  0.081429      0.448549   5.806159   0.000793\n",
       "266200  0.164286      0.552846   0.151943   0.009021\n",
       "266201  0.330000      0.144140   1.883822   0.015576\n",
       "266202  0.165714      0.445037  15.193548   0.000778\n",
       "\n",
       "[266203 rows x 4 columns]"
      ]
     },
     "execution_count": 6,
     "metadata": {},
     "output_type": "execute_result"
    }
   ],
   "source": [
    "feature"
   ]
  },
  {
   "cell_type": "markdown",
   "id": "a71159c7",
   "metadata": {},
   "source": [
    "## Normalization"
   ]
  },
  {
   "cell_type": "code",
   "execution_count": 7,
   "id": "fa986a90",
   "metadata": {},
   "outputs": [],
   "source": [
    "feature_normalized = preprocessing.normalize(feature.iloc[:,[0,1,2,3]])"
   ]
  },
  {
   "cell_type": "code",
   "execution_count": 8,
   "id": "b4af3d54",
   "metadata": {},
   "outputs": [],
   "source": [
    "feature_raw_normalized = preprocessing.normalize(feature_raw.iloc[:,[1,2,3,4,5]])"
   ]
  },
  {
   "cell_type": "code",
   "execution_count": 9,
   "id": "0d6d3c08",
   "metadata": {},
   "outputs": [
    {
     "data": {
      "text/plain": [
       "array([[1.68124328e-01, 2.72332065e-01, 9.47401371e-01, 3.13376153e-04],\n",
       "       [1.52621678e-01, 1.77513192e-01, 9.72203672e-01, 3.96371917e-03],\n",
       "       [1.56254200e-01, 9.86951544e-01, 3.58717007e-02, 1.49831622e-02],\n",
       "       ...,\n",
       "       [2.75422381e-01, 9.26836717e-01, 2.54730261e-01, 1.51230415e-02],\n",
       "       [1.72054716e-01, 7.51512325e-02, 9.82183036e-01, 8.12101734e-03],\n",
       "       [1.09015613e-02, 2.92769085e-02, 9.99511889e-01, 5.11616721e-05]])"
      ]
     },
     "execution_count": 9,
     "metadata": {},
     "output_type": "execute_result"
    }
   ],
   "source": [
    "feature_normalized"
   ]
  },
  {
   "cell_type": "markdown",
   "id": "f068fdc3",
   "metadata": {},
   "source": [
    "## PCA analyse"
   ]
  },
  {
   "cell_type": "code",
   "execution_count": 10,
   "id": "98930264",
   "metadata": {},
   "outputs": [],
   "source": [
    "from sklearn.decomposition import PCA\n",
    "acp = PCA(svd_solver='auto')\n",
    "coord = acp.fit_transform(feature_normalized)"
   ]
  },
  {
   "cell_type": "code",
   "execution_count": 11,
   "id": "e58c8e81",
   "metadata": {},
   "outputs": [
    {
     "data": {
      "text/plain": [
       "array([0.82159314, 0.14001428, 0.0358075 , 0.00258508])"
      ]
     },
     "execution_count": 11,
     "metadata": {},
     "output_type": "execute_result"
    }
   ],
   "source": [
    "acp.explained_variance_ratio_"
   ]
  },
  {
   "cell_type": "code",
   "execution_count": 12,
   "id": "becfa47e",
   "metadata": {},
   "outputs": [
    {
     "data": {
      "text/plain": [
       "array([[ 6.17186495e-01, -9.19795739e-03, -1.69452102e-02,\n",
       "        -4.50703413e-03],\n",
       "       [ 6.98656165e-01, -2.15717444e-03,  3.92294316e-02,\n",
       "        -3.88827853e-04],\n",
       "       [-5.38988668e-01, -7.88068108e-03,  5.48046788e-02,\n",
       "         1.20735035e-03],\n",
       "       ...,\n",
       "       [-3.36532014e-01,  6.76804294e-02, -8.30924531e-02,\n",
       "         1.58119145e-03],\n",
       "       [ 7.73577874e-01,  4.29979840e-02,  9.67208137e-02,\n",
       "         3.48091563e-03],\n",
       "       [ 8.18901540e-01, -9.75386872e-02,  1.78014753e-01,\n",
       "        -1.68721608e-03]])"
      ]
     },
     "execution_count": 12,
     "metadata": {},
     "output_type": "execute_result"
    }
   ],
   "source": [
    "coord"
   ]
  },
  {
   "cell_type": "markdown",
   "id": "19f341ab",
   "metadata": {},
   "source": [
    "## KMeans cluster \n",
    "### According to the results of PCA, select the first two feature to train the model"
   ]
  },
  {
   "cell_type": "code",
   "execution_count": 13,
   "id": "a60cd496",
   "metadata": {},
   "outputs": [],
   "source": [
    "kmeans = KMeans(n_clusters=2, random_state=0)\n",
    "labels = kmeans.fit_predict(coord[:,[0,1]])"
   ]
  },
  {
   "cell_type": "code",
   "execution_count": 14,
   "id": "26d7e8fd",
   "metadata": {
    "scrolled": true
   },
   "outputs": [
    {
     "data": {
      "text/plain": [
       "(array([0, 1]), array([109308, 156895], dtype=int64))"
      ]
     },
     "execution_count": 14,
     "metadata": {},
     "output_type": "execute_result"
    }
   ],
   "source": [
    "np.unique(labels, return_counts=True)"
   ]
  },
  {
   "cell_type": "code",
   "execution_count": 19,
   "id": "0d902cd3",
   "metadata": {},
   "outputs": [],
   "source": [
    "labels0 = coord[labels == 0]\n",
    "labels1 = coord[labels == 1]"
   ]
  },
  {
   "cell_type": "code",
   "execution_count": 20,
   "id": "14f66167",
   "metadata": {},
   "outputs": [
    {
     "data": {
      "text/plain": [
       "<matplotlib.collections.PathCollection at 0x16382fdba30>"
      ]
     },
     "execution_count": 20,
     "metadata": {},
     "output_type": "execute_result"
    },
    {
     "data": {
      "image/png": "[encoded data removed]",
      "text/plain": [
       "<Figure size 432x288 with 1 Axes>"
      ]
     },
     "metadata": {
      "needs_background": "light"
     },
     "output_type": "display_data"
    }
   ],
   "source": [
    "plt.scatter(np.random.choice(labels0[:,0],100), np.random.choice(labels0[:,1],100), c='red')\n",
    "plt.scatter(np.random.choice(labels1[:,0],100), np.random.choice(labels1[:,1],100), c='blue')"
   ]
  }
 ],
 "metadata": {
  "kernelspec": {
   "display_name": "Python 3 (ipykernel)",
   "language": "python",
   "name": "python3"
  },
  "language_info": {
   "codemirror_mode": {
    "name": "ipython",
    "version": 3
   },
   "file_extension": ".py",
   "mimetype": "text/x-python",
   "name": "python",
   "nbconvert_exporter": "python",
   "pygments_lexer": "ipython3",
   "version": "3.8.8"
  }
 },
 "nbformat": 4,
 "nbformat_minor": 5
}
