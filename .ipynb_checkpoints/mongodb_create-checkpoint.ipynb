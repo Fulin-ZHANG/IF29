{
 "cells": [
  {
   "cell_type": "code",
   "execution_count": 27,
   "id": "b8725d70",
   "metadata": {},
   "outputs": [],
   "source": [
    "from pymongo import MongoClient\n",
    "import os\n",
    "import json\n",
    "'''\n",
    "Create database from Tweet Worldcup 200Twets on moodle\n",
    "Only modify the commented lines\n",
    "'''"
   ]
  },
  {
   "cell_type": "code",
   "execution_count": 2,
   "id": "157d9ca3",
   "metadata": {},
   "outputs": [],
   "source": [
    "client = MongoClient('localhost', 27017)"
   ]
  },
  {
   "cell_type": "code",
   "execution_count": 9,
   "id": "6669ca32",
   "metadata": {},
   "outputs": [],
   "source": [
    "db = client['IF29_TweetsDB'] #database name"
   ]
  },
  {
   "cell_type": "code",
   "execution_count": 10,
   "id": "3b6d5b7c",
   "metadata": {},
   "outputs": [],
   "source": [
    "collection = db['data'] #collection name"
   ]
  },
  {
   "cell_type": "code",
   "execution_count": 23,
   "id": "4a97718b",
   "metadata": {},
   "outputs": [],
   "source": [
    "parent_dir = (\"E:/Work/Tweet Worldcup 200Twets/\") #dir of the dataset\n",
    "list_filename = os.listdir(parent_dir)"
   ]
  },
  {
   "cell_type": "code",
   "execution_count": 28,
   "id": "e206e6f9",
   "metadata": {},
   "outputs": [],
   "source": [
    "for filename in list_filename:\n",
    "    filepath = parent_dir + filename\n",
    "    with open(filepath, encoding='utf-8') as f:\n",
    "        lines = f.readlines()\n",
    "        f.close()\n",
    "    for line in lines:\n",
    "        document = json.loads(line[:-1])\n",
    "        collection.insert_one(document)"
   ]
  }
 ],
 "metadata": {
  "kernelspec": {
   "display_name": "Python 3 (ipykernel)",
   "language": "python",
   "name": "python3"
  },
  "language_info": {
   "codemirror_mode": {
    "name": "ipython",
    "version": 3
   },
   "file_extension": ".py",
   "mimetype": "text/x-python",
   "name": "python",
   "nbconvert_exporter": "python",
   "pygments_lexer": "ipython3",
   "version": "3.9.7"
  }
 },
 "nbformat": 4,
 "nbformat_minor": 5
}
