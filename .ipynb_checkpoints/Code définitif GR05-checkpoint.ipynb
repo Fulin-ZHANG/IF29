{
 "cells": [
  {
   "cell_type": "markdown",
   "id": "80a83392",
   "metadata": {},
   "source": [
    "# Projet IF29 P22\n",
    "### Détection des influenceurs sur Twitter en appliquant les méthodes non supervisée et supervisée"
   ]
  },
  {
   "cell_type": "code",
   "execution_count": 1,
   "id": "b16011e2",
   "metadata": {},
   "outputs": [],
   "source": [
    "# Créer la BD en utilisant le fichier 'Worldcup 200Tweets' sur moodle\n",
    "from pymongo import MongoClient"
   ]
  },
  {
   "cell_type": "code",
   "execution_count": null,
   "id": "87989867",
   "metadata": {},
   "outputs": [],
   "source": [
    "import os\n",
    "import json\n",
    "\n",
    "client = MongoClient('localhost', 27017)\n",
    "db = client['______'] # nom de BD\n",
    "collection = db['______'] #nom de collection\n",
    "parent_dir = (\"_____________________________________\") #adresse de fichier\n",
    "list_filename = os.listdir(parent_dir)\n",
    "\n",
    "for filename in list_filename:\n",
    "    filepath = parent_dir + filename\n",
    "    with open(filepath, encoding='utf-8') as f:\n",
    "        lines = f.readlines()\n",
    "        f.close()\n",
    "    for line in lines:\n",
    "        document = json.loads(line[:-1])\n",
    "        collection.insert_one(document)"
   ]
  },
  {
   "cell_type": "code",
   "execution_count": 5,
   "id": "87508bc7",
   "metadata": {},
   "outputs": [],
   "source": [
    "# Connecter à la BD\n",
    "from pymongo import MongoClient\n",
    "\n",
    "client = MongoClient('localhost', 27017)\n",
    "db = client['if29']\n",
    "collection = db['Tweet Worldcup 200']"
   ]
  },
  {
   "cell_type": "code",
   "execution_count": 6,
   "id": "43b1d82d",
   "metadata": {},
   "outputs": [],
   "source": [
    "# Créer le dataframe en utilisant les attributs qui nous intéressent concernant les utilisateurs\n",
    "import numpy as np\n",
    "import pandas as pd\n",
    "\n",
    "cursor = collection.aggregate(\n",
    "    [\n",
    "        {\"$group\" : {\n",
    "            \"_id\" : \"$user.id\", \n",
    "            \"friends_count\" : {\"$last\" : \"$user.friends_count\"},\n",
    "            \"favourites_count\" : {\"$last\" : \"$user.favourites_count\"},\n",
    "            \"statuses_count\" : {\"$last\" : \"$user.statuses_count\"},\n",
    "            \"followers_count\" : {\"$last\" : \"$user.followers_count\"},\n",
    "             \"created_time\" : {\"$last\" : \"$user.created_at\"}\n",
    "        }\n",
    "        }\n",
    "    ]\n",
    ")\n",
    "df = pd.json_normalize(cursor)"
   ]
  },
  {
   "cell_type": "code",
   "execution_count": 7,
   "id": "b7b9ca2c",
   "metadata": {
    "scrolled": true
   },
   "outputs": [
    {
     "data": {
      "text/html": [
       "<div>\n",
       "<style scoped>\n",
       "    .dataframe tbody tr th:only-of-type {\n",
       "        vertical-align: middle;\n",
       "    }\n",
       "\n",
       "    .dataframe tbody tr th {\n",
       "        vertical-align: top;\n",
       "    }\n",
       "\n",
       "    .dataframe thead th {\n",
       "        text-align: right;\n",
       "    }\n",
       "</style>\n",
       "<table border=\"1\" class=\"dataframe\">\n",
       "  <thead>\n",
       "    <tr style=\"text-align: right;\">\n",
       "      <th></th>\n",
       "      <th>friends_count</th>\n",
       "      <th>favourites_count</th>\n",
       "      <th>statuses_count</th>\n",
       "      <th>followers_count</th>\n",
       "    </tr>\n",
       "  </thead>\n",
       "  <tbody>\n",
       "    <tr>\n",
       "      <th>count</th>\n",
       "      <td>267467</td>\n",
       "      <td>267467</td>\n",
       "      <td>267467</td>\n",
       "      <td>267467</td>\n",
       "    </tr>\n",
       "    <tr>\n",
       "      <th>mean</th>\n",
       "      <td>1101</td>\n",
       "      <td>9108</td>\n",
       "      <td>22204</td>\n",
       "      <td>7829</td>\n",
       "    </tr>\n",
       "    <tr>\n",
       "      <th>std</th>\n",
       "      <td>5539</td>\n",
       "      <td>25271</td>\n",
       "      <td>54745</td>\n",
       "      <td>181738</td>\n",
       "    </tr>\n",
       "    <tr>\n",
       "      <th>min</th>\n",
       "      <td>0</td>\n",
       "      <td>0</td>\n",
       "      <td>1</td>\n",
       "      <td>0</td>\n",
       "    </tr>\n",
       "    <tr>\n",
       "      <th>25%</th>\n",
       "      <td>186</td>\n",
       "      <td>380</td>\n",
       "      <td>1329</td>\n",
       "      <td>124</td>\n",
       "    </tr>\n",
       "    <tr>\n",
       "      <th>50%</th>\n",
       "      <td>408</td>\n",
       "      <td>1946</td>\n",
       "      <td>6275</td>\n",
       "      <td>363</td>\n",
       "    </tr>\n",
       "    <tr>\n",
       "      <th>75%</th>\n",
       "      <td>906</td>\n",
       "      <td>7547</td>\n",
       "      <td>21751</td>\n",
       "      <td>1019</td>\n",
       "    </tr>\n",
       "    <tr>\n",
       "      <th>max</th>\n",
       "      <td>544830</td>\n",
       "      <td>1718515</td>\n",
       "      <td>8898917</td>\n",
       "      <td>30755372</td>\n",
       "    </tr>\n",
       "  </tbody>\n",
       "</table>\n",
       "</div>"
      ],
      "text/plain": [
       "       friends_count  favourites_count  statuses_count  followers_count\n",
       "count         267467            267467          267467           267467\n",
       "mean            1101              9108           22204             7829\n",
       "std             5539             25271           54745           181738\n",
       "min                0                 0               1                0\n",
       "25%              186               380            1329              124\n",
       "50%              408              1946            6275              363\n",
       "75%              906              7547           21751             1019\n",
       "max           544830           1718515         8898917         30755372"
      ]
     },
     "execution_count": 7,
     "metadata": {},
     "output_type": "execute_result"
    }
   ],
   "source": [
    "# Première analyse sur le résumé des données quantitatives\n",
    "df.iloc[:,[1,2,3,4]].describe().astype(int)"
   ]
  },
  {
   "cell_type": "code",
   "execution_count": 5,
   "id": "de3e4437",
   "metadata": {},
   "outputs": [],
   "source": [
    "# Calculer les indicateurs (attributs dérivés) ci-dessous destinés à la description des 'influenceurs'\n",
    "# 1) Visibilité: Vis\n",
    "# 2) Nombre moyen de 'aimer' par tweet: avg_fav \n",
    "# 3) Ratio entre nombre de 'abonné' et nombre de 'abonnement': r_fri_follow\n",
    "# 4) la fréquence de publication de tweets depuis la création de compte jusqu'à t0 = 01/01/2019: frequency"
   ]
  },
  {
   "cell_type": "code",
   "execution_count": 8,
   "id": "58553888",
   "metadata": {},
   "outputs": [],
   "source": [
    "# 1) Visibilité: Vis\n",
    "\n",
    "# Regrouper les textes de tweet par chaque utilisateur\n",
    "cursor1 = collection.aggregate(\n",
    "    [        \n",
    "         {\"$group\" : {\n",
    "            \"_id\" : \"$user.id\", \n",
    "            \n",
    "            \"tweets\" : {\"$push\": \"$text\"}\n",
    "        }\n",
    "        }\n",
    "    ]\n",
    ")\n",
    "df1 = pd.json_normalize(cursor1)"
   ]
  },
  {
   "cell_type": "code",
   "execution_count": 9,
   "id": "2655a8f2",
   "metadata": {},
   "outputs": [],
   "source": [
    "def calcul_visibility(row):\n",
    "    s = 0\n",
    "    for tweet in row[\"tweets\"]:\n",
    "        s += tweet.count(\"@\")*11.4  # le coût moyen pour @ est 11,4\n",
    "        s += tweet.count(\"#\")*11.6  # le coût moyen pour # est 11,6 cf.fichier 'SPOT'\n",
    "    return s/(140*len(row[\"tweets\"]))\n",
    "\n",
    "visibilities = df1.apply(calcul_visibility,axis=1)"
   ]
  },
  {
   "cell_type": "code",
   "execution_count": 10,
   "id": "eb5d5638",
   "metadata": {},
   "outputs": [],
   "source": [
    "# 2) Nombre moyen de 'aimer' par tweet: avg_fav\n",
    "avg_fav = df.favourites_count/df.statuses_count"
   ]
  },
  {
   "cell_type": "code",
   "execution_count": 11,
   "id": "eab2df93",
   "metadata": {},
   "outputs": [],
   "source": [
    "# 3) Ratio entre nombre de 'abonné' et nombre de 'abonnement': r_fri_follow\n",
    "r_fri_follow = df.followers_count/df.friends_count"
   ]
  },
  {
   "cell_type": "code",
   "execution_count": 16,
   "id": "6fba8c90",
   "metadata": {},
   "outputs": [],
   "source": [
    "# 4) la fréquence de publication de tweets depuis la création de compte jusqu'à t0 = 01/01/2019: frequency\n",
    "import time\n",
    "def ratio(row):\n",
    "    time_array = time.strptime(row[\"created_time\"], \"%a %b %d %H:%M:%S +0000 %Y\")\n",
    "    time_stamp = time.mktime(time_array)\n",
    "    time_stamp_0 = time.mktime(time.strptime(\"Mon Jan 1 00:00:00 2019\", '%a %b %d %H:%M:%S %Y'))\n",
    "    # on multiplie une constante = 100 pour amplifier les résultats\n",
    "    return row[\"statuses_count\"]*100/(time_stamp_0 - time_stamp) \n",
    "\n",
    "frequency = df.apply(ratio, axis=1)  "
   ]
  },
  {
   "cell_type": "code",
   "execution_count": 17,
   "id": "3ec714e0",
   "metadata": {},
   "outputs": [],
   "source": [
    "# Générer un dataframe en regroupant les quatres indicateurs calculés\n",
    "features = pd.DataFrame()\n",
    "features[\"user_id\"] = df.iloc[:,0]\n",
    "features[\"vis\"] = visibilities\n",
    "features[\"r_fri_follow\"] = r_fri_follow\n",
    "features[\"avg_fav\"] = avg_fav\n",
    "features[\"frequency\"] = frequency"
   ]
  },
  {
   "cell_type": "code",
   "execution_count": 18,
   "id": "fc96eeee",
   "metadata": {
    "scrolled": true
   },
   "outputs": [],
   "source": [
    "# On supprime toutes les lignes qui contiennent 'Nan' ou 'inf'\n",
    "\n",
    "pd.options.mode.use_inf_as_na = True\n",
    "features.dropna(inplace=True)\n",
    "features = features.reset_index(drop=True)"
   ]
  },
  {
   "cell_type": "code",
   "execution_count": 20,
   "id": "b38f731b",
   "metadata": {},
   "outputs": [
    {
     "data": {
      "text/html": [
       "<div>\n",
       "<style scoped>\n",
       "    .dataframe tbody tr th:only-of-type {\n",
       "        vertical-align: middle;\n",
       "    }\n",
       "\n",
       "    .dataframe tbody tr th {\n",
       "        vertical-align: top;\n",
       "    }\n",
       "\n",
       "    .dataframe thead th {\n",
       "        text-align: right;\n",
       "    }\n",
       "</style>\n",
       "<table border=\"1\" class=\"dataframe\">\n",
       "  <thead>\n",
       "    <tr style=\"text-align: right;\">\n",
       "      <th></th>\n",
       "      <th>vis</th>\n",
       "      <th>r_fri_follow</th>\n",
       "      <th>avg_fav</th>\n",
       "      <th>frequency</th>\n",
       "    </tr>\n",
       "  </thead>\n",
       "  <tbody>\n",
       "    <tr>\n",
       "      <th>0</th>\n",
       "      <td>0.204774</td>\n",
       "      <td>0.161765</td>\n",
       "      <td>0.965349</td>\n",
       "      <td>0.000500</td>\n",
       "    </tr>\n",
       "    <tr>\n",
       "      <th>1</th>\n",
       "      <td>0.699713</td>\n",
       "      <td>0.297353</td>\n",
       "      <td>0.649601</td>\n",
       "      <td>0.000626</td>\n",
       "    </tr>\n",
       "    <tr>\n",
       "      <th>2</th>\n",
       "      <td>0.215262</td>\n",
       "      <td>0.578364</td>\n",
       "      <td>0.786822</td>\n",
       "      <td>0.008312</td>\n",
       "    </tr>\n",
       "    <tr>\n",
       "      <th>3</th>\n",
       "      <td>0.320337</td>\n",
       "      <td>0.945604</td>\n",
       "      <td>0.052348</td>\n",
       "      <td>0.021818</td>\n",
       "    </tr>\n",
       "    <tr>\n",
       "      <th>4</th>\n",
       "      <td>0.016773</td>\n",
       "      <td>0.997070</td>\n",
       "      <td>0.074618</td>\n",
       "      <td>0.001208</td>\n",
       "    </tr>\n",
       "    <tr>\n",
       "      <th>...</th>\n",
       "      <td>...</td>\n",
       "      <td>...</td>\n",
       "      <td>...</td>\n",
       "      <td>...</td>\n",
       "    </tr>\n",
       "    <tr>\n",
       "      <th>266198</th>\n",
       "      <td>0.006131</td>\n",
       "      <td>0.998732</td>\n",
       "      <td>0.049978</td>\n",
       "      <td>0.000019</td>\n",
       "    </tr>\n",
       "    <tr>\n",
       "      <th>266199</th>\n",
       "      <td>0.116905</td>\n",
       "      <td>0.746822</td>\n",
       "      <td>0.654667</td>\n",
       "      <td>0.000083</td>\n",
       "    </tr>\n",
       "    <tr>\n",
       "      <th>266200</th>\n",
       "      <td>0.314639</td>\n",
       "      <td>0.685818</td>\n",
       "      <td>0.656243</td>\n",
       "      <td>0.000672</td>\n",
       "    </tr>\n",
       "    <tr>\n",
       "      <th>266201</th>\n",
       "      <td>0.114956</td>\n",
       "      <td>0.131033</td>\n",
       "      <td>0.984690</td>\n",
       "      <td>0.000324</td>\n",
       "    </tr>\n",
       "    <tr>\n",
       "      <th>266202</th>\n",
       "      <td>0.059256</td>\n",
       "      <td>0.730919</td>\n",
       "      <td>0.678243</td>\n",
       "      <td>0.047253</td>\n",
       "    </tr>\n",
       "  </tbody>\n",
       "</table>\n",
       "<p>266203 rows × 4 columns</p>\n",
       "</div>"
      ],
      "text/plain": [
       "             vis  r_fri_follow   avg_fav  frequency\n",
       "0       0.204774      0.161765  0.965349   0.000500\n",
       "1       0.699713      0.297353  0.649601   0.000626\n",
       "2       0.215262      0.578364  0.786822   0.008312\n",
       "3       0.320337      0.945604  0.052348   0.021818\n",
       "4       0.016773      0.997070  0.074618   0.001208\n",
       "...          ...           ...       ...        ...\n",
       "266198  0.006131      0.998732  0.049978   0.000019\n",
       "266199  0.116905      0.746822  0.654667   0.000083\n",
       "266200  0.314639      0.685818  0.656243   0.000672\n",
       "266201  0.114956      0.131033  0.984690   0.000324\n",
       "266202  0.059256      0.730919  0.678243   0.047253\n",
       "\n",
       "[266203 rows x 4 columns]"
      ]
     },
     "execution_count": 20,
     "metadata": {},
     "output_type": "execute_result"
    }
   ],
   "source": [
    "# On normalise les données pour effectuer les classifications\n",
    "from sklearn import preprocessing\n",
    "\n",
    "features_normalized = preprocessing.normalize(features.iloc[:,[1,2,3,4]])\n",
    "features_normalized = pd.DataFrame(features_normalized)\n",
    "features_normalized.columns = ['vis','r_fri_follow','avg_fav','frequency']\n",
    "features_normalized"
   ]
  },
  {
   "cell_type": "code",
   "execution_count": 21,
   "id": "48f21f74",
   "metadata": {},
   "outputs": [
    {
     "name": "stdout",
     "output_type": "stream",
     "text": [
      "La moyenne :  [-8.96843233e-18  1.94849869e-18 -1.46804696e-17  1.47471990e-16]\n",
      "L'écart type :  [1. 1. 1. 1.]\n",
      "[0.2577915  0.25003697 0.24981226 0.24235927]\n"
     ]
    },
    {
     "data": {
      "text/plain": [
       "array([[-0.31352175,  1.21744075, -0.26157019,  0.35538141],\n",
       "       [-0.24758702, -0.82936949,  0.12010981,  0.28483131],\n",
       "       [ 0.04139224,  1.26151802, -0.28429274,  0.01649098],\n",
       "       ...,\n",
       "       [-0.29253798,  1.20658911, -0.28935366,  0.38172055],\n",
       "       [-0.34472242,  1.22808199, -0.21974234,  0.31716154],\n",
       "       [ 1.23553302, -0.70636539,  0.11105592, -1.25094448]])"
      ]
     },
     "execution_count": 21,
     "metadata": {},
     "output_type": "execute_result"
    }
   ],
   "source": [
    "# On effectue l'ACP pour réduire les 4 dimensions\n",
    "from sklearn.decomposition import PCA\n",
    "from sklearn.preprocessing import StandardScaler\n",
    "\n",
    "features_standardized = StandardScaler().fit_transform(features.iloc[:,[1,2,3,4]]) #il faut centrer et réduire les données d'abord\n",
    "# vérification\n",
    "print(\"La moyenne : \",np.mean(features_standardized,axis=0))\n",
    "print(\"L'écart type : \",np.std(features_standardized,axis=0))\n",
    "\n",
    "acp = PCA(svd_solver='auto')\n",
    "coord = acp.fit_transform(features_standardized) \n",
    "print(acp.explained_variance_ratio_) # les pourcentage de variance projectée sur chaque axe (composante principale)\n",
    "coord # les coordonées des individus dans les nouveaux repères"
   ]
  },
  {
   "cell_type": "code",
   "execution_count": 24,
   "id": "3e9ff509",
   "metadata": {},
   "outputs": [
    {
     "name": "stdout",
     "output_type": "stream",
     "text": [
      "(array([0, 1]), array([ 56927, 209276], dtype=int64))\n"
     ]
    }
   ],
   "source": [
    "# Basé sur le résultat d'ACP, on effectue le K-means dans le plan (1,2) qui se compose de deux composantes dont inerties les plus élevées \n",
    "from sklearn.cluster import KMeans\n",
    "import matplotlib.pyplot as plt\n",
    "%matplotlib inline\n",
    "\n",
    "kmeans = KMeans(n_clusters=2, random_state=0) # Selon le sujet, ici on ne choisit que de classer en 2 clusters.\n",
    "labels = kmeans.fit_predict(coord[:,[0,1]]) # on ne prend que les coordonées de l'axe 1 et 2\n",
    "\n",
    "print(np.unique(labels, return_counts=True)) # afficher la condition de séparation\n",
    "\n",
    "labels0 = coord[labels == 0]\n",
    "labels1 = coord[labels == 1]"
   ]
  },
  {
   "cell_type": "code",
   "execution_count": 41,
   "id": "1cbc7197",
   "metadata": {},
   "outputs": [
    {
     "data": {
      "text/plain": [
       "<matplotlib.collections.PathCollection at 0x1fc8226c550>"
      ]
     },
     "execution_count": 41,
     "metadata": {},
     "output_type": "execute_result"
    },
    {
     "data": {
      "image/png": "[encoded data removed]",
      "text/plain": [
       "<Figure size 432x288 with 1 Axes>"
      ]
     },
     "metadata": {
      "needs_background": "light"
     },
     "output_type": "display_data"
    }
   ],
   "source": [
    "plt.scatter(np.random.choice(labels0[:,0],10000), np.random.choice(labels0[:,1],10000), c='red') # Pour voir plus clairement, on prend aléatoirement 100 points pour tracer le graphique\n",
    "plt.scatter(np.random.choice(labels1[:,0],10000), np.random.choice(labels1[:,1],10000), c='blue') "
   ]
  },
  {
   "cell_type": "code",
   "execution_count": 15,
   "id": "48f0318d",
   "metadata": {},
   "outputs": [],
   "source": [
    "# Avant de passer à l'approche supervisée, il faut d'abord labeliser les données\n",
    "# Dans cette étape on va utiliser un échantillon de taille 50000 pour entraîner le modèle\n",
    "# Comme on a 4 indicateurs, on décide de les combiner en utilisant la méthode d'entropie"
   ]
  },
  {
   "cell_type": "code",
   "execution_count": 42,
   "id": "82985f23",
   "metadata": {},
   "outputs": [
    {
     "name": "stdout",
     "output_type": "stream",
     "text": [
      "#######Poids:#######\n",
      "                 Poids\n",
      "vis           0.528173\n",
      "r_fri_follow  0.009410\n",
      "avg_fav       0.030449\n",
      "frequency     0.431967\n"
     ]
    }
   ],
   "source": [
    "# Méthode d'entropie\n",
    "\n",
    "data = features.iloc[:,[1,2,3,4]]\n",
    "indicateur = data.columns.tolist()   ## nombre des indicateurs\n",
    "profil = data.index.tolist()    ## nombre des profils\n",
    "value = data.values\n",
    "\n",
    "# définir la fonction de normalisation, on rajoute une constante 0,01\n",
    "def std_data(value,flag):\n",
    "    for i in range(len(indicateur)):\n",
    "        if flag[i]=='+':\n",
    "            value[:,i]=(value[:,i]-np.min(value[:,i],axis=0))/(np.max(value[:,i],axis=0)-np.min(value[:,i],axis=0))+0.01\n",
    "        elif flag[i]=='-':\n",
    "            value[:,i]=(np.max(value[:,i],axis=0)-value[:,i])/(np.max(value[:,i],axis=0)-np.min(value[:,i],axis=0))+0.01\n",
    "    return value\n",
    "\n",
    "# définir la fonction d'entropie et calculer les poids et les entropies\n",
    "def cal_weight(indicateur,profil,value):\n",
    "    p= np.array([[0.0 for i in range(len(indicateur))] for i in range(len(profil))])                    \n",
    "    for i in range(len(indicateur)):\n",
    "        p[:,i]=value[:,i]/np.sum(value[:,i],axis=0)\n",
    "        \n",
    "    e=-1/np.log(len(profil))*sum(p*np.log(p))      #calcul d'entropie\n",
    "    g=1-e     \n",
    "    w=g/sum(g)     #calcul des poids\n",
    "    return w\n",
    "\n",
    "# normalisation des données\n",
    "flag=[\"+\",\"+\",\"+\",\"+\"]  ## '+' ou '-' désigne le sens positif ou négatif des indicateurs\n",
    "std_value=std_data(value,flag)\n",
    "std_value.round(3)\n",
    "\n",
    "# Résultat\n",
    "w=cal_weight(indicateur,profil,std_value)\n",
    "w=pd.DataFrame(w,index=data.columns,columns=['Poids'])\n",
    "print(\"#######Poids:#######\")\n",
    "print(w)\n",
    "score=np.dot(std_value,w).round(2)\n",
    "score=pd.DataFrame(score,index=data.index,columns=['Notes']).sort_values(by =['Notes'],ascending = False)\n",
    "\n",
    "# la note de chaque utilisateur représente la correspondance avec les profils qu'on va détecter\n",
    "# Si une note plus élevée, le profil correspondant est plus probablement censé un influnceur"
   ]
  },
  {
   "cell_type": "code",
   "execution_count": 17,
   "id": "63c878cb",
   "metadata": {},
   "outputs": [],
   "source": [
    "# A l'aide de résultat ci-dessus, on peut compter la fréquence de chaque note. Avec cela, on va ensuite calculer\n",
    "# le pourcentage de fréquence cumulée. En vertu de principe de Pareto (80/20), on peut alors découper les données en 2 classes:\n",
    "# les profils plus générals (la somme de fréquence représente environ 80% au total) et le reste plus critique (20%)"
   ]
  },
  {
   "cell_type": "code",
   "execution_count": 43,
   "id": "cb2fa61a",
   "metadata": {},
   "outputs": [
    {
     "name": "stdout",
     "output_type": "stream",
     "text": [
      "0.8128007573167846\n",
      "[0.05, 0.03, 0.07, 0.09, 0.01, 0.06, 0.04]\n"
     ]
    }
   ],
   "source": [
    "import collections\n",
    "data1 = []\n",
    "for i in range(266203):\n",
    "    data1.append(score.iloc[i,0])\n",
    "\n",
    "c = collections.Counter(data1) #créer un counter pour compter la fréquence de note\n",
    "\n",
    "freq = np.array(list(dict(c).items()),dtype = 'float')\n",
    "np.set_printoptions(suppress=True)\n",
    "freq = freq[np.lexsort(-freq.T)] # ordonner par décroissant en fonction de fréquence\n",
    "\n",
    "somme = 0\n",
    "cumul = 0.00\n",
    "cluster = []\n",
    "\n",
    "for i in range(len(data)):\n",
    "    if cumul <= 0.81:          # 0.01 de tolérance \n",
    "        somme = somme + freq[i,1].astype(int)\n",
    "        cluster.append(freq[i,0])\n",
    "        cumul = somme/len(score)\n",
    "    else: break\n",
    "    \n",
    "print(cumul) # le pourcentage cumulé pour la classe 'générale'\n",
    "print(cluster) #les notes de cette classe"
   ]
  },
  {
   "cell_type": "code",
   "execution_count": 44,
   "id": "8c3b55a3",
   "metadata": {
    "scrolled": true
   },
   "outputs": [
    {
     "data": {
      "text/plain": [
       "162174    1\n",
       "49844     1\n",
       "94488     1\n",
       "177706    1\n",
       "129218    1\n",
       "         ..\n",
       "136032   -1\n",
       "214658   -1\n",
       "68114    -1\n",
       "254689   -1\n",
       "193075   -1\n",
       "Length: 266203, dtype: int64"
      ]
     },
     "execution_count": 44,
     "metadata": {},
     "output_type": "execute_result"
    }
   ],
   "source": [
    "# On va maintenant labeliser les profils en fonction de classes divisées ci-dessus\n",
    "label = score.apply(lambda row: -1 if row[\"Notes\"] in cluster else 1, axis=1 )\n",
    "label"
   ]
  },
  {
   "cell_type": "code",
   "execution_count": 50,
   "id": "26d51210",
   "metadata": {},
   "outputs": [],
   "source": [
    "# Application de la méthode SVM\n",
    "data = features_normalized\n",
    "data[\"label\"] = label\n",
    "data = data.sample(50000) # On prend un échantillon de taille 50000\n",
    "\n",
    "X = data.iloc[:,[0,1,2,3]]\n",
    "Y = data.iloc[:,[4]]\n",
    "X = X.to_numpy()\n",
    "Y = Y.to_numpy().ravel()"
   ]
  },
  {
   "cell_type": "code",
   "execution_count": 55,
   "id": "f5d1b1bb",
   "metadata": {},
   "outputs": [
    {
     "data": {
      "text/plain": [
       "SVC()"
      ]
     },
     "execution_count": 55,
     "metadata": {},
     "output_type": "execute_result"
    }
   ],
   "source": [
    "from sklearn import svm\n",
    "from sklearn.model_selection import train_test_split\n",
    "from sklearn.model_selection import GridSearchCV\n",
    "from sklearn.metrics import accuracy_score, classification_report\n",
    "\n",
    "X_train, X_test, y_train, y_test = train_test_split(X, Y, \n",
    "                                    test_size=0.3, random_state=42) # On sépare les jeux d'entrâinement et de test         \n",
    "\n",
    "\n",
    "parameters = {'C':[1, 10, 100, 1000], 'kernel':['rbf'], 'gamma':[0.001,0.0001]}\n",
    "              \n",
    "             \n",
    "# svm_clf = svm.SVC()\n",
    "svm_clf = svm.SVC()\n",
    "svm_clf.fit(X_train, y_train)\n",
    "\n",
    "# clf = GridSearchCV(svm_clf, parameters)\n",
    "# clf.fit(X_train, y_train)\n",
    "\n",
    "# a=pd.DataFrame(clf.cv_results_)\n",
    "# a.sort_values(['mean_test_score'],ascending=False)\n",
    "\n",
    "\n",
    "# print(clf.best_estimator_, clf.best_score_)"
   ]
  },
  {
   "cell_type": "code",
   "execution_count": 56,
   "id": "5bad6647",
   "metadata": {},
   "outputs": [
    {
     "name": "stdout",
     "output_type": "stream",
     "text": [
      "0.8181333333333334 \n",
      "               precision    recall  f1-score   support\n",
      "\n",
      "          -1       0.82      0.99      0.90     12232\n",
      "           1       0.60      0.04      0.08      2768\n",
      "\n",
      "    accuracy                           0.82     15000\n",
      "   macro avg       0.71      0.52      0.49     15000\n",
      "weighted avg       0.78      0.82      0.75     15000\n",
      "\n"
     ]
    }
   ],
   "source": [
    "y_pred = svm_clf.predict(X_test)\n",
    "print(accuracy_score(y_test,y_pred),'\\n',classification_report(y_test,y_pred))"
   ]
  },
  {
   "cell_type": "code",
   "execution_count": 59,
   "id": "55b87fd6",
   "metadata": {},
   "outputs": [
    {
     "data": {
      "image/png": "[encoded data removed]",
      "text/plain": [
       "<Figure size 720x480 with 2 Axes>"
      ]
     },
     "metadata": {
      "needs_background": "light"
     },
     "output_type": "display_data"
    }
   ],
   "source": [
    "#plot confusion matrix\n",
    "from sklearn.metrics import confusion_matrix\n",
    "\n",
    "cm = confusion_matrix(y_test, y_pred)\n",
    "np.set_printoptions(precision=2)\n",
    "cm_normalized = cm.astype('float') / cm.sum(axis=1)[:, np.newaxis]\n",
    "# print(cm_normalized)\n",
    "\n",
    "tick_marks = np.array(range(2)) + 0.5###\n",
    "\n",
    "labels=range(2)###\n",
    "def plot_confusion_matrix(cm, title='Confusion Matrix', cmap=plt.cm.binary):\n",
    "    plt.imshow(cm, interpolation='nearest', cmap=cmap)\n",
    "    plt.title(title)\n",
    "    plt.colorbar()\n",
    "    xlocations = np.array(range(2))###\n",
    "    plt.xticks(xlocations, labels, rotation=90)\n",
    "    plt.yticks(xlocations, labels)\n",
    "    plt.ylabel('True label')\n",
    "    plt.xlabel('Predicted label')\n",
    "\n",
    "\n",
    "plt.figure(figsize=(6, 4), dpi=120)\n",
    "\n",
    "ind_array = np.arange(2)###\n",
    "x, y = np.meshgrid(ind_array, ind_array)\n",
    "\n",
    "for x_val, y_val in zip(x.flatten(), y.flatten()):\n",
    "    c = cm_normalized[y_val][x_val]\n",
    "    if c > 0.01:\n",
    "        plt.text(x_val, y_val, \"%0.2f\" % (c,), color='red', fontsize=7, va='center', ha='center')\n",
    "# offset the tick\n",
    "plt.gca().set_xticks(tick_marks, minor=True)\n",
    "plt.gca().set_yticks(tick_marks, minor=True)\n",
    "plt.gca().xaxis.set_ticks_position('none')\n",
    "plt.gca().yaxis.set_ticks_position('none')\n",
    "plt.grid(True, which='minor', linestyle='-')\n",
    "plt.gcf().subplots_adjust(bottom=0.15)\n",
    "\n",
    "plot_confusion_matrix(cm_normalized, title='Normalized confusion matrix')\n",
    "# show confusion matrix\n",
    "# plt.savefig('C:/Users/Sun/Desktop/curves/3_class/dnn/cm.png')\n",
    "plt.show()"
   ]
  }
 ],
 "metadata": {
  "kernelspec": {
   "display_name": "Python 3 (ipykernel)",
   "language": "python",
   "name": "python3"
  },
  "language_info": {
   "codemirror_mode": {
    "name": "ipython",
    "version": 3
   },
   "file_extension": ".py",
   "mimetype": "text/x-python",
   "name": "python",
   "nbconvert_exporter": "python",
   "pygments_lexer": "ipython3",
   "version": "3.9.7"
  }
 },
 "nbformat": 4,
 "nbformat_minor": 5
}
