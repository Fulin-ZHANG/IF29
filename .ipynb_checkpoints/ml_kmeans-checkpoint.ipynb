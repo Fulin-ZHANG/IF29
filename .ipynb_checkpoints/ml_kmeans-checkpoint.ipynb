{
 "cells": [
  {
   "cell_type": "code",
   "execution_count": 1,
   "id": "cc03257a",
   "metadata": {},
   "outputs": [],
   "source": [
    "import numpy as np\n",
    "import pandas as pd\n",
    "from pymongo import MongoClient\n",
    "client = MongoClient('localhost', 27017)\n",
    "db = client['if29']\n",
    "collection = db['Tweet Worldcup 200']"
   ]
  },
  {
   "cell_type": "code",
   "execution_count": 54,
   "id": "214adfed",
   "metadata": {},
   "outputs": [],
   "source": [
    "cursor = collection.aggregate(\n",
    "    [\n",
    "        {\"$group\" : {\n",
    "            \"_id\" : \"$user.id\", \n",
    "            \"friends_count\" : {\"$last\" : \"$user.friends_count\"},\n",
    "            \"listed_count\" : {\"$last\" : \"$user.listed_count\"},\n",
    "            \"favourites_count\" : {\"$last\" : \"$user.favourites_count\"},\n",
    "            \"statuses_count\" : {\"$last\" : \"$user.statuses_count\"},\n",
    "            \"followers_count\" : {\"$last\" : \"$user.followers_count\"},\n",
    "            \"created_time\" : {\"$last\" : \"$user.created_at\"}\n",
    "        }\n",
    "        }\n",
    "    ]\n",
    ")\n",
    "df = pd.json_normalize(cursor)"
   ]
  },
  {
   "cell_type": "code",
   "execution_count": 55,
   "id": "8a510c39",
   "metadata": {},
   "outputs": [
    {
     "data": {
      "text/html": [
       "<div>\n",
       "<style scoped>\n",
       "    .dataframe tbody tr th:only-of-type {\n",
       "        vertical-align: middle;\n",
       "    }\n",
       "\n",
       "    .dataframe tbody tr th {\n",
       "        vertical-align: top;\n",
       "    }\n",
       "\n",
       "    .dataframe thead th {\n",
       "        text-align: right;\n",
       "    }\n",
       "</style>\n",
       "<table border=\"1\" class=\"dataframe\">\n",
       "  <thead>\n",
       "    <tr style=\"text-align: right;\">\n",
       "      <th></th>\n",
       "      <th>_id</th>\n",
       "      <th>friends_count</th>\n",
       "      <th>listed_count</th>\n",
       "      <th>favourites_count</th>\n",
       "      <th>statuses_count</th>\n",
       "      <th>followers_count</th>\n",
       "      <th>created_time</th>\n",
       "    </tr>\n",
       "  </thead>\n",
       "  <tbody>\n",
       "    <tr>\n",
       "      <th>0</th>\n",
       "      <td>2494785421</td>\n",
       "      <td>448</td>\n",
       "      <td>10</td>\n",
       "      <td>1585</td>\n",
       "      <td>14300</td>\n",
       "      <td>263</td>\n",
       "      <td>Wed May 14 19:53:07 +0000 2014</td>\n",
       "    </tr>\n",
       "    <tr>\n",
       "      <th>1</th>\n",
       "      <td>353576074</td>\n",
       "      <td>1086</td>\n",
       "      <td>0</td>\n",
       "      <td>661</td>\n",
       "      <td>714</td>\n",
       "      <td>289</td>\n",
       "      <td>Fri Aug 12 08:59:38 +0000 2011</td>\n",
       "    </tr>\n",
       "    <tr>\n",
       "      <th>2</th>\n",
       "      <td>1140595902</td>\n",
       "      <td>2566</td>\n",
       "      <td>0</td>\n",
       "      <td>7625</td>\n",
       "      <td>5672</td>\n",
       "      <td>2838</td>\n",
       "      <td>Fri Feb 01 20:03:57 +0000 2013</td>\n",
       "    </tr>\n",
       "    <tr>\n",
       "      <th>3</th>\n",
       "      <td>899575572732551168</td>\n",
       "      <td>533</td>\n",
       "      <td>0</td>\n",
       "      <td>15472</td>\n",
       "      <td>8576</td>\n",
       "      <td>176</td>\n",
       "      <td>Mon Aug 21 10:15:04 +0000 2017</td>\n",
       "    </tr>\n",
       "    <tr>\n",
       "      <th>4</th>\n",
       "      <td>423108474</td>\n",
       "      <td>345</td>\n",
       "      <td>1</td>\n",
       "      <td>1330</td>\n",
       "      <td>35264</td>\n",
       "      <td>358</td>\n",
       "      <td>Mon Nov 28 03:01:49 +0000 2011</td>\n",
       "    </tr>\n",
       "    <tr>\n",
       "      <th>...</th>\n",
       "      <td>...</td>\n",
       "      <td>...</td>\n",
       "      <td>...</td>\n",
       "      <td>...</td>\n",
       "      <td>...</td>\n",
       "      <td>...</td>\n",
       "      <td>...</td>\n",
       "    </tr>\n",
       "    <tr>\n",
       "      <th>267462</th>\n",
       "      <td>2406883352</td>\n",
       "      <td>1070</td>\n",
       "      <td>14</td>\n",
       "      <td>266</td>\n",
       "      <td>27934</td>\n",
       "      <td>2304</td>\n",
       "      <td>Sun Mar 23 12:20:44 +0000 2014</td>\n",
       "    </tr>\n",
       "    <tr>\n",
       "      <th>267463</th>\n",
       "      <td>2376538666</td>\n",
       "      <td>190</td>\n",
       "      <td>0</td>\n",
       "      <td>128</td>\n",
       "      <td>23052</td>\n",
       "      <td>535</td>\n",
       "      <td>Sun Mar 02 17:21:26 +0000 2014</td>\n",
       "    </tr>\n",
       "    <tr>\n",
       "      <th>267464</th>\n",
       "      <td>14877969</td>\n",
       "      <td>297</td>\n",
       "      <td>4</td>\n",
       "      <td>1</td>\n",
       "      <td>6017</td>\n",
       "      <td>161</td>\n",
       "      <td>Fri May 23 05:26:32 +0000 2008</td>\n",
       "    </tr>\n",
       "    <tr>\n",
       "      <th>267465</th>\n",
       "      <td>3951606867</td>\n",
       "      <td>559</td>\n",
       "      <td>0</td>\n",
       "      <td>39</td>\n",
       "      <td>668</td>\n",
       "      <td>39</td>\n",
       "      <td>Wed Oct 14 01:52:09 +0000 2015</td>\n",
       "    </tr>\n",
       "    <tr>\n",
       "      <th>267466</th>\n",
       "      <td>235208639</td>\n",
       "      <td>1758</td>\n",
       "      <td>18</td>\n",
       "      <td>2205</td>\n",
       "      <td>4170</td>\n",
       "      <td>688</td>\n",
       "      <td>Fri Jan 07 16:38:01 +0000 2011</td>\n",
       "    </tr>\n",
       "  </tbody>\n",
       "</table>\n",
       "<p>267467 rows × 7 columns</p>\n",
       "</div>"
      ],
      "text/plain": [
       "                       _id  friends_count  listed_count  favourites_count  \\\n",
       "0               2494785421            448            10              1585   \n",
       "1                353576074           1086             0               661   \n",
       "2               1140595902           2566             0              7625   \n",
       "3       899575572732551168            533             0             15472   \n",
       "4                423108474            345             1              1330   \n",
       "...                    ...            ...           ...               ...   \n",
       "267462          2406883352           1070            14               266   \n",
       "267463          2376538666            190             0               128   \n",
       "267464            14877969            297             4                 1   \n",
       "267465          3951606867            559             0                39   \n",
       "267466           235208639           1758            18              2205   \n",
       "\n",
       "        statuses_count  followers_count                    created_time  \n",
       "0                14300              263  Wed May 14 19:53:07 +0000 2014  \n",
       "1                  714              289  Fri Aug 12 08:59:38 +0000 2011  \n",
       "2                 5672             2838  Fri Feb 01 20:03:57 +0000 2013  \n",
       "3                 8576              176  Mon Aug 21 10:15:04 +0000 2017  \n",
       "4                35264              358  Mon Nov 28 03:01:49 +0000 2011  \n",
       "...                ...              ...                             ...  \n",
       "267462           27934             2304  Sun Mar 23 12:20:44 +0000 2014  \n",
       "267463           23052              535  Sun Mar 02 17:21:26 +0000 2014  \n",
       "267464            6017              161  Fri May 23 05:26:32 +0000 2008  \n",
       "267465             668               39  Wed Oct 14 01:52:09 +0000 2015  \n",
       "267466            4170              688  Fri Jan 07 16:38:01 +0000 2011  \n",
       "\n",
       "[267467 rows x 7 columns]"
      ]
     },
     "execution_count": 55,
     "metadata": {},
     "output_type": "execute_result"
    }
   ],
   "source": [
    "df"
   ]
  },
  {
   "cell_type": "code",
   "execution_count": 3,
   "id": "978569a8",
   "metadata": {},
   "outputs": [],
   "source": [
    "from sklearn import preprocessing\n",
    "from sklearn.decomposition import PCA"
   ]
  },
  {
   "cell_type": "code",
   "execution_count": 8,
   "id": "f1654ed3",
   "metadata": {},
   "outputs": [],
   "source": [
    "np.set_printoptions(suppress=True)"
   ]
  },
  {
   "cell_type": "code",
   "execution_count": 4,
   "id": "76831e36",
   "metadata": {},
   "outputs": [],
   "source": [
    "features = df.iloc[:,[1,2,3,4,5]]\n",
    "\n",
    "features_scaled = preprocessing.normalize(features)"
   ]
  },
  {
   "cell_type": "markdown",
   "id": "72bc0aa1",
   "metadata": {},
   "source": [
    "## Features constuct (vis, r_fri_follow, avg_fav, frequency)"
   ]
  },
  {
   "cell_type": "markdown",
   "id": "584125e9",
   "metadata": {},
   "source": [
    "### Visibility\n",
    "#### Group tweet texts by each user"
   ]
  },
  {
   "cell_type": "code",
   "execution_count": 4,
   "id": "ac56f0f2",
   "metadata": {},
   "outputs": [],
   "source": [
    "cursor1 = collection.aggregate(\n",
    "    [\n",
    "        {\"$group\" : {\n",
    "            \"_id\" : \"$user.id\", \n",
    "            \n",
    "            \"tweets\" : {\"$push\": \"$text\"}\n",
    "        }\n",
    "        }\n",
    "    ]\n",
    ")\n",
    "df1 = pd.json_normalize(cursor1)"
   ]
  },
  {
   "cell_type": "code",
   "execution_count": 5,
   "id": "31f4bc47",
   "metadata": {
    "scrolled": true
   },
   "outputs": [
    {
     "data": {
      "text/html": [
       "<div>\n",
       "<style scoped>\n",
       "    .dataframe tbody tr th:only-of-type {\n",
       "        vertical-align: middle;\n",
       "    }\n",
       "\n",
       "    .dataframe tbody tr th {\n",
       "        vertical-align: top;\n",
       "    }\n",
       "\n",
       "    .dataframe thead th {\n",
       "        text-align: right;\n",
       "    }\n",
       "</style>\n",
       "<table border=\"1\" class=\"dataframe\">\n",
       "  <thead>\n",
       "    <tr style=\"text-align: right;\">\n",
       "      <th></th>\n",
       "      <th>_id</th>\n",
       "      <th>tweets</th>\n",
       "    </tr>\n",
       "  </thead>\n",
       "  <tbody>\n",
       "    <tr>\n",
       "      <th>0</th>\n",
       "      <td>32218443</td>\n",
       "      <td>[Primera dia en Copa Mundial! gooooooooooollll...</td>\n",
       "    </tr>\n",
       "    <tr>\n",
       "      <th>1</th>\n",
       "      <td>757470042</td>\n",
       "      <td>[The 2018 World Cup begins today, and there's ...</td>\n",
       "    </tr>\n",
       "    <tr>\n",
       "      <th>2</th>\n",
       "      <td>466348695</td>\n",
       "      <td>[Uruguay \\nVecino\\nUruguay https://t.co/pQZwgJ...</td>\n",
       "    </tr>\n",
       "    <tr>\n",
       "      <th>3</th>\n",
       "      <td>814458502781501440</td>\n",
       "      <td>[RT @iambolar: I expect Senegal, Nigeria and E...</td>\n",
       "    </tr>\n",
       "    <tr>\n",
       "      <th>4</th>\n",
       "      <td>865578724112158720</td>\n",
       "      <td>[RT @BleacherReport: One more sleep til #World...</td>\n",
       "    </tr>\n",
       "    <tr>\n",
       "      <th>...</th>\n",
       "      <td>...</td>\n",
       "      <td>...</td>\n",
       "    </tr>\n",
       "    <tr>\n",
       "      <th>267462</th>\n",
       "      <td>722519839382859776</td>\n",
       "      <td>[Its a World Cup Time!!!! 🙌🏻🍺🍺🙌🏻 ⚽️⚽️ Lets go ...</td>\n",
       "    </tr>\n",
       "    <tr>\n",
       "      <th>267463</th>\n",
       "      <td>3221677187</td>\n",
       "      <td>[#worldcup  The world cup opens today and we a...</td>\n",
       "    </tr>\n",
       "    <tr>\n",
       "      <th>267464</th>\n",
       "      <td>956847210007732224</td>\n",
       "      <td>[QB will cheer for all the teams and players w...</td>\n",
       "    </tr>\n",
       "    <tr>\n",
       "      <th>267465</th>\n",
       "      <td>923923725241679872</td>\n",
       "      <td>[RT @MesutOzil1088: Back with the team 😃🇩🇪 Jus...</td>\n",
       "    </tr>\n",
       "    <tr>\n",
       "      <th>267466</th>\n",
       "      <td>763336421713346560</td>\n",
       "      <td>[RT IYC \"After four long years, everyone’s fav...</td>\n",
       "    </tr>\n",
       "  </tbody>\n",
       "</table>\n",
       "<p>267467 rows × 2 columns</p>\n",
       "</div>"
      ],
      "text/plain": [
       "                       _id                                             tweets\n",
       "0                 32218443  [Primera dia en Copa Mundial! gooooooooooollll...\n",
       "1                757470042  [The 2018 World Cup begins today, and there's ...\n",
       "2                466348695  [Uruguay \\nVecino\\nUruguay https://t.co/pQZwgJ...\n",
       "3       814458502781501440  [RT @iambolar: I expect Senegal, Nigeria and E...\n",
       "4       865578724112158720  [RT @BleacherReport: One more sleep til #World...\n",
       "...                    ...                                                ...\n",
       "267462  722519839382859776  [Its a World Cup Time!!!! 🙌🏻🍺🍺🙌🏻 ⚽️⚽️ Lets go ...\n",
       "267463          3221677187  [#worldcup  The world cup opens today and we a...\n",
       "267464  956847210007732224  [QB will cheer for all the teams and players w...\n",
       "267465  923923725241679872  [RT @MesutOzil1088: Back with the team 😃🇩🇪 Jus...\n",
       "267466  763336421713346560  [RT IYC \"After four long years, everyone’s fav...\n",
       "\n",
       "[267467 rows x 2 columns]"
      ]
     },
     "execution_count": 5,
     "metadata": {},
     "output_type": "execute_result"
    }
   ],
   "source": [
    "df1"
   ]
  },
  {
   "cell_type": "code",
   "execution_count": 3,
   "id": "e1a206bc",
   "metadata": {},
   "outputs": [],
   "source": [
    "def calcul_visibility(tweets):\n",
    "    s = 0\n",
    "    for tweet in tweets:\n",
    "        s += tweet.count(\"@\")*11.4 \n",
    "        s += tweet.count(\"#\")*11.6\n",
    "    return s/(140*len(tweets))"
   ]
  },
  {
   "cell_type": "code",
   "execution_count": 6,
   "id": "45292b2f",
   "metadata": {},
   "outputs": [],
   "source": [
    "visibilities = []\n",
    "for texts in df1.iloc[:,1]:\n",
    "    visibilities.append(calcul_visibility(texts))"
   ]
  },
  {
   "cell_type": "markdown",
   "id": "9ef966c1",
   "metadata": {},
   "source": [
    "### favorites_count / statues_count"
   ]
  },
  {
   "cell_type": "code",
   "execution_count": 18,
   "id": "c346e3d2",
   "metadata": {},
   "outputs": [],
   "source": [
    "avg_fav = df.favourites_count/df.statuses_count"
   ]
  },
  {
   "cell_type": "markdown",
   "id": "893a68bd",
   "metadata": {},
   "source": [
    "### followers_count / friends_count"
   ]
  },
  {
   "cell_type": "code",
   "execution_count": 19,
   "id": "9230d5df",
   "metadata": {},
   "outputs": [],
   "source": [
    "r_fri_follow = df.followers_count/df.friends_count"
   ]
  },
  {
   "cell_type": "markdown",
   "id": "e6552119",
   "metadata": {},
   "source": [
    "### Frequency of tweets published since the creation of the account with t0=01/01/2019\n",
    "$ I_1 = \\frac{N_t}{t_0-t} $"
   ]
  },
  {
   "cell_type": "code",
   "execution_count": 28,
   "id": "46379956",
   "metadata": {},
   "outputs": [],
   "source": [
    "projection = { \n",
    "    'user.statuses_count': 1,\n",
    "    'user.created_at': 1,\n",
    "    '_id': 0}\n",
    "cursor3 = collection.find({},projection)"
   ]
  },
  {
   "cell_type": "code",
   "execution_count": 15,
   "id": "b4f27905",
   "metadata": {},
   "outputs": [],
   "source": [
    "import time\n",
    "def ratio(n_tweets, date):\n",
    "    time_array = time.strptime(date, \"%a %b %d %H:%M:%S +0000 %Y\")\n",
    "    time_stamp = time.mktime(time_array)\n",
    "    time_stamp_0 = time.mktime(time.strptime(\"Mon Jan 1 00:00:00 2019\", '%a %b %d %H:%M:%S %Y'))\n",
    "    return n_tweets/(time_stamp_0 - time_stamp)"
   ]
  },
  {
   "cell_type": "code",
   "execution_count": 76,
   "id": "a638fffa",
   "metadata": {},
   "outputs": [],
   "source": [
    "frequency = []\n",
    "for index, row in df.iterrows():\n",
    "    n_tweet = row[\"statuses_count\"]\n",
    "    created_date = row[\"created_time\"]\n",
    "    frequency.append(ratio(n_tweet, created_date)*100)"
   ]
  },
  {
   "cell_type": "markdown",
   "id": "e85fb742",
   "metadata": {},
   "source": [
    "### Generate a dataframe with 4 features"
   ]
  },
  {
   "cell_type": "code",
   "execution_count": 77,
   "id": "35a65e05",
   "metadata": {},
   "outputs": [],
   "source": [
    "features = pd.DataFrame()\n",
    "features[\"vis\"] = visibilities\n",
    "features[\"r_fri_follow\"] = r_fri_follow\n",
    "features[\"avg_fav\"] = avg_fav\n",
    "features[\"frequency\"] = frequency"
   ]
  },
  {
   "cell_type": "code",
   "execution_count": 78,
   "id": "e3215b03",
   "metadata": {},
   "outputs": [
    {
     "data": {
      "text/html": [
       "<div>\n",
       "<style scoped>\n",
       "    .dataframe tbody tr th:only-of-type {\n",
       "        vertical-align: middle;\n",
       "    }\n",
       "\n",
       "    .dataframe tbody tr th {\n",
       "        vertical-align: top;\n",
       "    }\n",
       "\n",
       "    .dataframe thead th {\n",
       "        text-align: right;\n",
       "    }\n",
       "</style>\n",
       "<table border=\"1\" class=\"dataframe\">\n",
       "  <thead>\n",
       "    <tr style=\"text-align: right;\">\n",
       "      <th></th>\n",
       "      <th>vis</th>\n",
       "      <th>r_fri_follow</th>\n",
       "      <th>avg_fav</th>\n",
       "      <th>frequency</th>\n",
       "    </tr>\n",
       "  </thead>\n",
       "  <tbody>\n",
       "    <tr>\n",
       "      <th>0</th>\n",
       "      <td>0.082857</td>\n",
       "      <td>2.437204</td>\n",
       "      <td>0.064328</td>\n",
       "      <td>0.009781</td>\n",
       "    </tr>\n",
       "    <tr>\n",
       "      <th>1</th>\n",
       "      <td>0.082857</td>\n",
       "      <td>0.290210</td>\n",
       "      <td>0.008942</td>\n",
       "      <td>0.000306</td>\n",
       "    </tr>\n",
       "    <tr>\n",
       "      <th>2</th>\n",
       "      <td>0.000000</td>\n",
       "      <td>1.005658</td>\n",
       "      <td>0.175127</td>\n",
       "      <td>0.003040</td>\n",
       "    </tr>\n",
       "    <tr>\n",
       "      <th>3</th>\n",
       "      <td>0.122857</td>\n",
       "      <td>1.053957</td>\n",
       "      <td>0.058894</td>\n",
       "      <td>0.019947</td>\n",
       "    </tr>\n",
       "    <tr>\n",
       "      <th>4</th>\n",
       "      <td>0.164286</td>\n",
       "      <td>3.666667</td>\n",
       "      <td>1.400000</td>\n",
       "      <td>0.015753</td>\n",
       "    </tr>\n",
       "    <tr>\n",
       "      <th>...</th>\n",
       "      <td>...</td>\n",
       "      <td>...</td>\n",
       "      <td>...</td>\n",
       "      <td>...</td>\n",
       "    </tr>\n",
       "    <tr>\n",
       "      <th>267462</th>\n",
       "      <td>0.165714</td>\n",
       "      <td>0.377778</td>\n",
       "      <td>0.009201</td>\n",
       "      <td>0.018533</td>\n",
       "    </tr>\n",
       "    <tr>\n",
       "      <th>267463</th>\n",
       "      <td>0.082857</td>\n",
       "      <td>1.935252</td>\n",
       "      <td>1.062810</td>\n",
       "      <td>0.015114</td>\n",
       "    </tr>\n",
       "    <tr>\n",
       "      <th>267464</th>\n",
       "      <td>0.055238</td>\n",
       "      <td>0.369650</td>\n",
       "      <td>0.794212</td>\n",
       "      <td>0.001797</td>\n",
       "    </tr>\n",
       "    <tr>\n",
       "      <th>267465</th>\n",
       "      <td>0.411429</td>\n",
       "      <td>0.554404</td>\n",
       "      <td>3.989836</td>\n",
       "      <td>0.000658</td>\n",
       "    </tr>\n",
       "    <tr>\n",
       "      <th>267466</th>\n",
       "      <td>0.000000</td>\n",
       "      <td>0.109123</td>\n",
       "      <td>1.031543</td>\n",
       "      <td>0.001656</td>\n",
       "    </tr>\n",
       "  </tbody>\n",
       "</table>\n",
       "<p>267467 rows × 4 columns</p>\n",
       "</div>"
      ],
      "text/plain": [
       "             vis  r_fri_follow   avg_fav  frequency\n",
       "0       0.082857      2.437204  0.064328   0.009781\n",
       "1       0.082857      0.290210  0.008942   0.000306\n",
       "2       0.000000      1.005658  0.175127   0.003040\n",
       "3       0.122857      1.053957  0.058894   0.019947\n",
       "4       0.164286      3.666667  1.400000   0.015753\n",
       "...          ...           ...       ...        ...\n",
       "267462  0.165714      0.377778  0.009201   0.018533\n",
       "267463  0.082857      1.935252  1.062810   0.015114\n",
       "267464  0.055238      0.369650  0.794212   0.001797\n",
       "267465  0.411429      0.554404  3.989836   0.000658\n",
       "267466  0.000000      0.109123  1.031543   0.001656\n",
       "\n",
       "[267467 rows x 4 columns]"
      ]
     },
     "execution_count": 78,
     "metadata": {},
     "output_type": "execute_result"
    }
   ],
   "source": [
    "features.to"
   ]
  },
  {
   "cell_type": "markdown",
   "id": "42d8fa34",
   "metadata": {},
   "source": [
    "## PCA analyse"
   ]
  },
  {
   "cell_type": "code",
   "execution_count": 5,
   "id": "dd4b6c1e",
   "metadata": {},
   "outputs": [
    {
     "data": {
      "text/plain": [
       "PCA(n_components='mle')"
      ]
     },
     "execution_count": 5,
     "metadata": {},
     "output_type": "execute_result"
    }
   ],
   "source": [
    "pca = PCA(n_components='mle')\n",
    "pca.fit(features)"
   ]
  },
  {
   "cell_type": "code",
   "execution_count": 11,
   "id": "67fd9a82",
   "metadata": {},
   "outputs": [
    {
     "data": {
      "text/plain": [
       "4"
      ]
     },
     "execution_count": 11,
     "metadata": {},
     "output_type": "execute_result"
    }
   ],
   "source": [
    "pca.n_components_"
   ]
  },
  {
   "cell_type": "code",
   "execution_count": 9,
   "id": "9fa24616",
   "metadata": {},
   "outputs": [
    {
     "data": {
      "text/plain": [
       "array([[ 0.00245349,  0.00236398,  0.00003716,  0.02813996,  0.99959819],\n",
       "       [ 0.01771169,  0.00086559,  0.18122699,  0.98289054, -0.02772187],\n",
       "       [-0.00695963,  0.00023663, -0.98338988,  0.18130181, -0.00505079],\n",
       "       [ 0.99981191,  0.00280804, -0.01005555, -0.01622154, -0.00200363]])"
      ]
     },
     "execution_count": 9,
     "metadata": {},
     "output_type": "execute_result"
    }
   ],
   "source": [
    "pca.components_"
   ]
  },
  {
   "cell_type": "code",
   "execution_count": 10,
   "id": "acbe8444",
   "metadata": {},
   "outputs": [
    {
     "name": "stdout",
     "output_type": "stream",
     "text": [
      "[0.900734   0.08328725 0.01516849 0.00080419]\n",
      "[94024482.2375293  28591170.62323371 12201515.7587858   2809460.07852549]\n"
     ]
    }
   ],
   "source": [
    "print(pca.explained_variance_ratio_)\n",
    "\n",
    "print(pca.singular_values_)"
   ]
  },
  {
   "cell_type": "markdown",
   "id": "34f8e7e5",
   "metadata": {},
   "source": [
    "## KMeans"
   ]
  },
  {
   "cell_type": "code",
   "execution_count": 7,
   "id": "a765224d",
   "metadata": {},
   "outputs": [],
   "source": [
    "from sklearn.cluster import KMeans"
   ]
  },
  {
   "cell_type": "code",
   "execution_count": 8,
   "id": "c64348ea",
   "metadata": {},
   "outputs": [],
   "source": [
    "kmeans = KMeans(n_clusters=2, random_state=0).fit(features_scaled)"
   ]
  },
  {
   "cell_type": "code",
   "execution_count": 26,
   "id": "b1a82f12",
   "metadata": {},
   "outputs": [
    {
     "data": {
      "text/plain": [
       "(array([0, 1]), array([151499, 115968], dtype=int64))"
      ]
     },
     "execution_count": 26,
     "metadata": {},
     "output_type": "execute_result"
    }
   ],
   "source": [
    "np.unique(kmeans.labels_, return_counts=True)"
   ]
  },
  {
   "cell_type": "code",
   "execution_count": 9,
   "id": "ab1dd950",
   "metadata": {},
   "outputs": [
    {
     "data": {
      "text/plain": [
       "array([[0.21890709, 0.00112238, 0.70084102, 0.43919502, 0.13412476],\n",
       "       [0.10003199, 0.00174393, 0.18922492, 0.92186614, 0.1052733 ]])"
      ]
     },
     "execution_count": 9,
     "metadata": {},
     "output_type": "execute_result"
    }
   ],
   "source": [
    "kmeans.cluster_centers_"
   ]
  },
  {
   "cell_type": "code",
   "execution_count": 14,
   "id": "fa62a15b",
   "metadata": {},
   "outputs": [],
   "source": [
    "kmeans1 = KMeans(n_clusters=2).fit(features)\n",
    "# np.unique(kmeans1.labels_, return_counts=True)"
   ]
  },
  {
   "cell_type": "code",
   "execution_count": 15,
   "id": "d9cbfcd7",
   "metadata": {},
   "outputs": [
    {
     "data": {
      "text/plain": [
       "array([[1.09921808e+03, 4.14603220e+01, 9.11012590e+03, 2.21766168e+04,\n",
       "        5.82618084e+03],\n",
       "       [1.52953846e+04, 2.30896154e+04, 1.75617308e+03, 1.64511654e+05,\n",
       "        1.03118794e+07]])"
      ]
     },
     "execution_count": 15,
     "metadata": {},
     "output_type": "execute_result"
    }
   ],
   "source": [
    "kmeans1.cluster_centers_"
   ]
  },
  {
   "cell_type": "code",
   "execution_count": 16,
   "id": "84989cf4",
   "metadata": {},
   "outputs": [
    {
     "data": {
      "text/html": [
       "<div>\n",
       "<style scoped>\n",
       "    .dataframe tbody tr th:only-of-type {\n",
       "        vertical-align: middle;\n",
       "    }\n",
       "\n",
       "    .dataframe tbody tr th {\n",
       "        vertical-align: top;\n",
       "    }\n",
       "\n",
       "    .dataframe thead th {\n",
       "        text-align: right;\n",
       "    }\n",
       "</style>\n",
       "<table border=\"1\" class=\"dataframe\">\n",
       "  <thead>\n",
       "    <tr style=\"text-align: right;\">\n",
       "      <th></th>\n",
       "      <th>friends_count</th>\n",
       "      <th>listed_count</th>\n",
       "      <th>favourites_count</th>\n",
       "      <th>statuses_count</th>\n",
       "      <th>followers_count</th>\n",
       "    </tr>\n",
       "  </thead>\n",
       "  <tbody>\n",
       "    <tr>\n",
       "      <th>count</th>\n",
       "      <td>267467.000000</td>\n",
       "      <td>267467.000000</td>\n",
       "      <td>2.674670e+05</td>\n",
       "      <td>2.674670e+05</td>\n",
       "      <td>2.674670e+05</td>\n",
       "    </tr>\n",
       "    <tr>\n",
       "      <th>mean</th>\n",
       "      <td>1101.978053</td>\n",
       "      <td>45.941264</td>\n",
       "      <td>9.108696e+03</td>\n",
       "      <td>2.220429e+04</td>\n",
       "      <td>7.829848e+03</td>\n",
       "    </tr>\n",
       "    <tr>\n",
       "      <th>std</th>\n",
       "      <td>5539.322982</td>\n",
       "      <td>640.463954</td>\n",
       "      <td>2.527181e+04</td>\n",
       "      <td>5.474563e+04</td>\n",
       "      <td>1.817388e+05</td>\n",
       "    </tr>\n",
       "    <tr>\n",
       "      <th>min</th>\n",
       "      <td>0.000000</td>\n",
       "      <td>0.000000</td>\n",
       "      <td>0.000000e+00</td>\n",
       "      <td>1.000000e+00</td>\n",
       "      <td>0.000000e+00</td>\n",
       "    </tr>\n",
       "    <tr>\n",
       "      <th>25%</th>\n",
       "      <td>186.000000</td>\n",
       "      <td>0.000000</td>\n",
       "      <td>3.800000e+02</td>\n",
       "      <td>1.329000e+03</td>\n",
       "      <td>1.240000e+02</td>\n",
       "    </tr>\n",
       "    <tr>\n",
       "      <th>50%</th>\n",
       "      <td>408.000000</td>\n",
       "      <td>3.000000</td>\n",
       "      <td>1.946000e+03</td>\n",
       "      <td>6.275000e+03</td>\n",
       "      <td>3.630000e+02</td>\n",
       "    </tr>\n",
       "    <tr>\n",
       "      <th>75%</th>\n",
       "      <td>906.000000</td>\n",
       "      <td>14.000000</td>\n",
       "      <td>7.547000e+03</td>\n",
       "      <td>2.175050e+04</td>\n",
       "      <td>1.019000e+03</td>\n",
       "    </tr>\n",
       "    <tr>\n",
       "      <th>max</th>\n",
       "      <td>544830.000000</td>\n",
       "      <td>114627.000000</td>\n",
       "      <td>1.718515e+06</td>\n",
       "      <td>8.898917e+06</td>\n",
       "      <td>3.075537e+07</td>\n",
       "    </tr>\n",
       "  </tbody>\n",
       "</table>\n",
       "</div>"
      ],
      "text/plain": [
       "       friends_count   listed_count  favourites_count  statuses_count  \\\n",
       "count  267467.000000  267467.000000      2.674670e+05    2.674670e+05   \n",
       "mean     1101.978053      45.941264      9.108696e+03    2.220429e+04   \n",
       "std      5539.322982     640.463954      2.527181e+04    5.474563e+04   \n",
       "min         0.000000       0.000000      0.000000e+00    1.000000e+00   \n",
       "25%       186.000000       0.000000      3.800000e+02    1.329000e+03   \n",
       "50%       408.000000       3.000000      1.946000e+03    6.275000e+03   \n",
       "75%       906.000000      14.000000      7.547000e+03    2.175050e+04   \n",
       "max    544830.000000  114627.000000      1.718515e+06    8.898917e+06   \n",
       "\n",
       "       followers_count  \n",
       "count     2.674670e+05  \n",
       "mean      7.829848e+03  \n",
       "std       1.817388e+05  \n",
       "min       0.000000e+00  \n",
       "25%       1.240000e+02  \n",
       "50%       3.630000e+02  \n",
       "75%       1.019000e+03  \n",
       "max       3.075537e+07  "
      ]
     },
     "execution_count": 16,
     "metadata": {},
     "output_type": "execute_result"
    }
   ],
   "source": [
    "pd.DataFrame(features).describe()"
   ]
  }
 ],
 "metadata": {
  "kernelspec": {
   "display_name": "Python 3 (ipykernel)",
   "language": "python",
   "name": "python3"
  },
  "language_info": {
   "codemirror_mode": {
    "name": "ipython",
    "version": 3
   },
   "file_extension": ".py",
   "mimetype": "text/x-python",
   "name": "python",
   "nbconvert_exporter": "python",
   "pygments_lexer": "ipython3",
   "version": "3.9.7"
  }
 },
 "nbformat": 4,
 "nbformat_minor": 5
}
