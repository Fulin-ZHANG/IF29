{
 "cells": [
  {
   "cell_type": "code",
   "execution_count": 1,
   "id": "19a0b261",
   "metadata": {},
   "outputs": [],
   "source": [
    "from pymongo import MongoClient\n",
    "client = MongoClient('localhost', 27017)\n",
    "db = client['Logging']\n",
    "collection = db['data']"
   ]
  },
  {
   "cell_type": "code",
   "execution_count": 47,
   "id": "857d028f",
   "metadata": {},
   "outputs": [],
   "source": [
    "projection = {\n",
    "    \n",
    "    'user.friends_count': 1, \n",
    "    'user.listed_count': 1,\n",
    "    'user.favourites_count': 1, \n",
    "    'user.statuses_count': 1,\n",
    "    'user.followers_count': 1,\n",
    "    '_id': 0}\n",
    "cursor = collection.find({},projection, limit=50)"
   ]
  },
  {
   "cell_type": "code",
   "execution_count": 48,
   "id": "21704bce",
   "metadata": {},
   "outputs": [],
   "source": [
    "user_list = list(cursor)"
   ]
  },
  {
   "cell_type": "code",
   "execution_count": 44,
   "id": "2a790f00",
   "metadata": {
    "scrolled": true
   },
   "outputs": [
    {
     "name": "stdout",
     "output_type": "stream",
     "text": [
      "{'user': {'friends_count': 826, 'listed_count': 24, 'favourites_count': 17414, 'statuses_count': 32153, 'followers_count': 556}}\n",
      "{'user': {'friends_count': 686, 'listed_count': 5, 'favourites_count': 15412, 'statuses_count': 28445, 'followers_count': 918}}\n",
      "{'user': {'friends_count': 44, 'listed_count': 0, 'favourites_count': 2131, 'statuses_count': 4219, 'followers_count': 34}}\n",
      "{'user': {'friends_count': 3189, 'listed_count': 5, 'favourites_count': 144, 'statuses_count': 5162, 'followers_count': 2805}}\n",
      "{'user': {'friends_count': 407, 'listed_count': 1, 'favourites_count': 1124, 'statuses_count': 487, 'followers_count': 48}}\n",
      "{'user': {'friends_count': 65, 'listed_count': 0, 'favourites_count': 347, 'statuses_count': 3421, 'followers_count': 27}}\n",
      "{'user': {'friends_count': 787, 'listed_count': 158, 'favourites_count': 4854, 'statuses_count': 16515, 'followers_count': 4777}}\n",
      "{'user': {'friends_count': 424, 'listed_count': 0, 'favourites_count': 1223, 'statuses_count': 8152, 'followers_count': 453}}\n",
      "{'user': {'friends_count': 494, 'listed_count': 6, 'favourites_count': 707, 'statuses_count': 1810, 'followers_count': 96}}\n",
      "{'user': {'friends_count': 1016, 'listed_count': 8, 'favourites_count': 1837, 'statuses_count': 3479, 'followers_count': 604}}\n",
      "{'user': {'friends_count': 1052, 'listed_count': 9, 'favourites_count': 18949, 'statuses_count': 8848, 'followers_count': 252}}\n",
      "{'user': {'friends_count': 380, 'listed_count': 1, 'favourites_count': 802, 'statuses_count': 1057, 'followers_count': 114}}\n",
      "{'user': {'friends_count': 3109, 'listed_count': 1, 'favourites_count': 4853, 'statuses_count': 5239, 'followers_count': 695}}\n",
      "{'user': {'friends_count': 728, 'listed_count': 2, 'favourites_count': 34494, 'statuses_count': 19335, 'followers_count': 1058}}\n",
      "{'user': {'friends_count': 50, 'listed_count': 0, 'favourites_count': 24, 'statuses_count': 17, 'followers_count': 9}}\n",
      "{'user': {'friends_count': 255, 'listed_count': 0, 'favourites_count': 5177, 'statuses_count': 9000, 'followers_count': 275}}\n",
      "{'user': {'friends_count': 72, 'listed_count': 0, 'favourites_count': 3355, 'statuses_count': 1491, 'followers_count': 26}}\n",
      "{'user': {'friends_count': 109, 'listed_count': 0, 'favourites_count': 2246, 'statuses_count': 738, 'followers_count': 27}}\n",
      "{'user': {'friends_count': 280, 'listed_count': 6, 'favourites_count': 5339, 'statuses_count': 2855, 'followers_count': 422}}\n",
      "{'user': {'friends_count': 5877, 'listed_count': 61, 'favourites_count': 5497, 'statuses_count': 87841, 'followers_count': 29900}}\n",
      "{'user': {'friends_count': 57, 'listed_count': 10, 'favourites_count': 3691, 'statuses_count': 29037, 'followers_count': 129}}\n",
      "{'user': {'friends_count': 528, 'listed_count': 0, 'favourites_count': 560, 'statuses_count': 7079, 'followers_count': 1315}}\n",
      "{'user': {'friends_count': 82, 'listed_count': 1, 'favourites_count': 738, 'statuses_count': 421, 'followers_count': 235}}\n",
      "{'user': {'friends_count': 126, 'listed_count': 5, 'favourites_count': 217, 'statuses_count': 4344, 'followers_count': 92}}\n",
      "{'user': {'friends_count': 266, 'listed_count': 0, 'favourites_count': 310, 'statuses_count': 372, 'followers_count': 29}}\n",
      "{'user': {'friends_count': 787, 'listed_count': 0, 'favourites_count': 220, 'statuses_count': 345, 'followers_count': 792}}\n",
      "{'user': {'friends_count': 307, 'listed_count': 10, 'favourites_count': 423, 'statuses_count': 5247, 'followers_count': 327}}\n",
      "{'user': {'friends_count': 13158, 'listed_count': 93, 'favourites_count': 0, 'statuses_count': 47841, 'followers_count': 25458}}\n",
      "{'user': {'friends_count': 86, 'listed_count': 4, 'favourites_count': 1443, 'statuses_count': 11580, 'followers_count': 90}}\n",
      "{'user': {'friends_count': 911, 'listed_count': 6, 'favourites_count': 15, 'statuses_count': 3799, 'followers_count': 1468}}\n",
      "{'user': {'friends_count': 305, 'listed_count': 2, 'favourites_count': 49254, 'statuses_count': 7483, 'followers_count': 337}}\n",
      "{'user': {'friends_count': 289, 'listed_count': 33, 'favourites_count': 220, 'statuses_count': 129523, 'followers_count': 3096}}\n",
      "{'user': {'friends_count': 789, 'listed_count': 5, 'favourites_count': 362, 'statuses_count': 23711, 'followers_count': 760}}\n",
      "{'user': {'friends_count': 5862, 'listed_count': 48, 'favourites_count': 826, 'statuses_count': 5061, 'followers_count': 5724}}\n",
      "{'user': {'friends_count': 1365, 'listed_count': 53, 'favourites_count': 2067, 'statuses_count': 3744, 'followers_count': 1148}}\n",
      "{'user': {'friends_count': 357, 'listed_count': 0, 'favourites_count': 91, 'statuses_count': 714, 'followers_count': 64}}\n",
      "{'user': {'friends_count': 254, 'listed_count': 2, 'favourites_count': 1234, 'statuses_count': 4747, 'followers_count': 217}}\n",
      "{'user': {'friends_count': 138, 'listed_count': 0, 'favourites_count': 19, 'statuses_count': 27098, 'followers_count': 193}}\n",
      "{'user': {'friends_count': 140, 'listed_count': 7, 'favourites_count': 1938, 'statuses_count': 18272, 'followers_count': 203}}\n",
      "{'user': {'friends_count': 350, 'listed_count': 10, 'favourites_count': 973, 'statuses_count': 1230, 'followers_count': 194}}\n",
      "{'user': {'friends_count': 118, 'listed_count': 6, 'favourites_count': 3580, 'statuses_count': 31222, 'followers_count': 763}}\n",
      "{'user': {'friends_count': 3117, 'listed_count': 5, 'favourites_count': 2177, 'statuses_count': 32469, 'followers_count': 931}}\n",
      "{'user': {'friends_count': 170, 'listed_count': 4, 'favourites_count': 394, 'statuses_count': 111486, 'followers_count': 528}}\n",
      "{'user': {'friends_count': 18, 'listed_count': 0, 'favourites_count': 166, 'statuses_count': 2767, 'followers_count': 136}}\n",
      "{'user': {'friends_count': 740, 'listed_count': 2, 'favourites_count': 149, 'statuses_count': 23977, 'followers_count': 3338}}\n",
      "{'user': {'friends_count': 395, 'listed_count': 17, 'favourites_count': 4718, 'statuses_count': 22736, 'followers_count': 469}}\n",
      "{'user': {'friends_count': 141, 'listed_count': 2, 'favourites_count': 182, 'statuses_count': 1672, 'followers_count': 45}}\n",
      "{'user': {'friends_count': 3116, 'listed_count': 78, 'favourites_count': 3795, 'statuses_count': 28188, 'followers_count': 4588}}\n",
      "{'user': {'friends_count': 246, 'listed_count': 0, 'favourites_count': 584, 'statuses_count': 2590, 'followers_count': 136}}\n",
      "{'user': {'friends_count': 561, 'listed_count': 1, 'favourites_count': 412, 'statuses_count': 1497, 'followers_count': 204}}\n"
     ]
    }
   ],
   "source": [
    "for doc in cursor:\n",
    "    print(doc)\n",
    "#     print(doc['user']['listed_count'])"
   ]
  },
  {
   "cell_type": "code",
   "execution_count": 54,
   "id": "e8df08aa",
   "metadata": {},
   "outputs": [
    {
     "data": {
      "text/plain": [
       "dict_values([826, 24, 17414, 32153, 556])"
      ]
     },
     "execution_count": 54,
     "metadata": {},
     "output_type": "execute_result"
    }
   ],
   "source": [
    "user_list[0]['user'].values()"
   ]
  },
  {
   "cell_type": "code",
   "execution_count": 17,
   "id": "420d09d9",
   "metadata": {},
   "outputs": [],
   "source": [
    "lang_tag = collection.distinct('lang')"
   ]
  },
  {
   "cell_type": "code",
   "execution_count": 32,
   "id": "8991bbeb",
   "metadata": {},
   "outputs": [],
   "source": [
    "lang_count = {}\n",
    "for lang in lang_tag:\n",
    "    lang_count[lang] = collection.count_documents({'lang':lang})\n"
   ]
  },
  {
   "cell_type": "code",
   "execution_count": 33,
   "id": "8b3d23e2",
   "metadata": {
    "scrolled": true
   },
   "outputs": [
    {
     "data": {
      "text/plain": [
       "{'am': 4,\n",
       " 'ar': 31219,\n",
       " 'bg': 45,\n",
       " 'bn': 80,\n",
       " 'ca': 1051,\n",
       " 'ckb': 1,\n",
       " 'cs': 231,\n",
       " 'cy': 80,\n",
       " 'da': 132,\n",
       " 'de': 3269,\n",
       " 'dv': 1,\n",
       " 'el': 328,\n",
       " 'en': 255185,\n",
       " 'es': 19844,\n",
       " 'et': 275,\n",
       " 'eu': 207,\n",
       " 'fa': 751,\n",
       " 'fi': 264,\n",
       " 'fr': 11582,\n",
       " 'gu': 8,\n",
       " 'hi': 459,\n",
       " 'ht': 438,\n",
       " 'hu': 81,\n",
       " 'hy': 12,\n",
       " 'in': 7380,\n",
       " 'is': 60,\n",
       " 'it': 4464,\n",
       " 'iw': 79,\n",
       " 'ja': 11819,\n",
       " 'ka': 2,\n",
       " 'kn': 8,\n",
       " 'ko': 108,\n",
       " 'lt': 43,\n",
       " 'lv': 88,\n",
       " 'ml': 119,\n",
       " 'mr': 14,\n",
       " 'my': 2,\n",
       " 'ne': 384,\n",
       " 'nl': 1104,\n",
       " 'no': 87,\n",
       " 'or': 1,\n",
       " 'pa': 4,\n",
       " 'pl': 1849,\n",
       " 'pt': 13413,\n",
       " 'ro': 303,\n",
       " 'ru': 3905,\n",
       " 'si': 2,\n",
       " 'sl': 127,\n",
       " 'sr': 70,\n",
       " 'sv': 284,\n",
       " 'ta': 63,\n",
       " 'te': 12,\n",
       " 'th': 6597,\n",
       " 'tl': 866,\n",
       " 'tr': 6181,\n",
       " 'uk': 217,\n",
       " 'und': 22522,\n",
       " 'ur': 39,\n",
       " 'vi': 59,\n",
       " 'zh': 175}"
      ]
     },
     "execution_count": 33,
     "metadata": {},
     "output_type": "execute_result"
    }
   ],
   "source": [
    "lang_count"
   ]
  },
  {
   "cell_type": "code",
   "execution_count": 37,
   "id": "f374878c",
   "metadata": {},
   "outputs": [],
   "source": [
    "import matplotlib.pyplot as plt"
   ]
  },
  {
   "cell_type": "code",
   "execution_count": 35,
   "id": "eea7a48b",
   "metadata": {},
   "outputs": [],
   "source": [
    "import numpy as np\n",
    "import pandas as pd"
   ]
  },
  {
   "cell_type": "code",
   "execution_count": 39,
   "id": "3d3354da",
   "metadata": {},
   "outputs": [
    {
     "data": {
      "text/plain": [
       "<BarContainer object of 60 artists>"
      ]
     },
     "execution_count": 39,
     "metadata": {},
     "output_type": "execute_result"
    },
    {
     "data": {
      "image/png": "[encoded data removed]",
      "text/plain": [
       "<Figure size 432x288 with 1 Axes>"
      ]
     },
     "metadata": {
      "needs_background": "light"
     },
     "output_type": "display_data"
    }
   ],
   "source": [
    "plt.bar(lang_tag, lang_count.values())"
   ]
  },
  {
   "cell_type": "code",
   "execution_count": null,
   "id": "e60e2604",
   "metadata": {},
   "outputs": [],
   "source": []
  }
 ],
 "metadata": {
  "kernelspec": {
   "display_name": "Python 3 (ipykernel)",
   "language": "python",
   "name": "python3"
  },
  "language_info": {
   "codemirror_mode": {
    "name": "ipython",
    "version": 3
   },
   "file_extension": ".py",
   "mimetype": "text/x-python",
   "name": "python",
   "nbconvert_exporter": "python",
   "pygments_lexer": "ipython3",
   "version": "3.8.8"
  }
 },
 "nbformat": 4,
 "nbformat_minor": 5
}
