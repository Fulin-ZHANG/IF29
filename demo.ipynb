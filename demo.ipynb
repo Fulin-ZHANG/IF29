{
 "cells": [
  {
   "cell_type": "code",
   "execution_count": 2,
   "id": "19a0b261",
   "metadata": {},
   "outputs": [],
   "source": [
    "from pymongo import MongoClient\n",
    "client = MongoClient('localhost', 27017)\n",
    "db = client['Logging']\n",
    "collection = db['data']"
   ]
  },
  {
   "cell_type": "code",
   "execution_count": 44,
   "id": "857d028f",
   "metadata": {},
   "outputs": [],
   "source": [
    "projection = {\n",
    "    'user.friends_count': 1, \n",
    "    'user.listed_count': 1,\n",
    "    'user.favourites_count': 1, \n",
    "    'user.statuses_count': 1,\n",
    "    'user.followers_count': 1,\n",
    "    '_id': 0}\n",
    "cursor = collection.find({},projection, limit=50)"
   ]
  },
  {
   "cell_type": "code",
   "execution_count": 45,
   "id": "2a790f00",
   "metadata": {
    "scrolled": true
   },
   "outputs": [
    {
     "name": "stdout",
     "output_type": "stream",
     "text": [
      "24\n",
      "5\n",
      "0\n",
      "5\n",
      "1\n",
      "0\n",
      "158\n",
      "0\n",
      "6\n",
      "8\n",
      "9\n",
      "1\n",
      "1\n",
      "2\n",
      "0\n",
      "0\n",
      "0\n",
      "0\n",
      "6\n",
      "61\n",
      "10\n",
      "0\n",
      "1\n",
      "5\n",
      "0\n",
      "0\n",
      "10\n",
      "93\n",
      "4\n",
      "6\n",
      "2\n",
      "33\n",
      "5\n",
      "48\n",
      "53\n",
      "0\n",
      "2\n",
      "0\n",
      "7\n",
      "10\n",
      "6\n",
      "5\n",
      "4\n",
      "0\n",
      "2\n",
      "17\n",
      "2\n",
      "78\n",
      "0\n",
      "1\n"
     ]
    }
   ],
   "source": [
    "for doc in cursor:\n",
    "#     print(doc)\n",
    "    print(doc['user']['listed_count'])"
   ]
  }
 ],
 "metadata": {
  "kernelspec": {
   "display_name": "Python 3 (ipykernel)",
   "language": "python",
   "name": "python3"
  },
  "language_info": {
   "codemirror_mode": {
    "name": "ipython",
    "version": 3
   },
   "file_extension": ".py",
   "mimetype": "text/x-python",
   "name": "python",
   "nbconvert_exporter": "python",
   "pygments_lexer": "ipython3",
   "version": "3.8.8"
  }
 },
 "nbformat": 4,
 "nbformat_minor": 5
}
