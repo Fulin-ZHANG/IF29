{
 "cells": [
  {
   "cell_type": "markdown",
   "id": "9b58578b",
   "metadata": {},
   "source": [
    "# Extract 4 features from dataset\n",
    "1. Visibility\n",
    "2. favorites_count / statues_count\n",
    "3. followers_count / friends_count\n",
    "4. Frequency of tweets published since the creation of the account"
   ]
  },
  {
   "cell_type": "code",
   "execution_count": 1,
   "id": "cc03257a",
   "metadata": {},
   "outputs": [],
   "source": [
    "import numpy as np\n",
    "import pandas as pd\n",
    "from pymongo import MongoClient\n",
    "np.set_printoptions(suppress=True)\n",
    "#consider inf and -inf to be “NA” in computations\n",
    "pd.options.mode.use_inf_as_na = True\n",
    "\n",
    "client = MongoClient('localhost', 27017)\n",
    "db = client['if29']\n",
    "collection = db['Tweet Worldcup 200']"
   ]
  },
  {
   "cell_type": "code",
   "execution_count": 2,
   "id": "214adfed",
   "metadata": {},
   "outputs": [],
   "source": [
    "cursor = collection.aggregate(\n",
    "    [\n",
    "        {\"$group\" : {\n",
    "            \"_id\" : \"$user.id\", \n",
    "            \"friends_count\" : {\"$last\" : \"$user.friends_count\"},\n",
    "            \"listed_count\" : {\"$last\" : \"$user.listed_count\"},\n",
    "            \"favourites_count\" : {\"$last\" : \"$user.favourites_count\"},\n",
    "            \"statuses_count\" : {\"$last\" : \"$user.statuses_count\"},\n",
    "            \"followers_count\" : {\"$last\" : \"$user.followers_count\"},\n",
    "            \"created_time\" : {\"$last\" : \"$user.created_at\"}\n",
    "        }\n",
    "        }\n",
    "    ]\n",
    ")\n",
    "df = pd.json_normalize(cursor)"
   ]
  },
  {
   "cell_type": "code",
   "execution_count": 3,
   "id": "1818158b",
   "metadata": {},
   "outputs": [
    {
     "data": {
      "text/html": [
       "<div>\n",
       "<style scoped>\n",
       "    .dataframe tbody tr th:only-of-type {\n",
       "        vertical-align: middle;\n",
       "    }\n",
       "\n",
       "    .dataframe tbody tr th {\n",
       "        vertical-align: top;\n",
       "    }\n",
       "\n",
       "    .dataframe thead th {\n",
       "        text-align: right;\n",
       "    }\n",
       "</style>\n",
       "<table border=\"1\" class=\"dataframe\">\n",
       "  <thead>\n",
       "    <tr style=\"text-align: right;\">\n",
       "      <th></th>\n",
       "      <th>_id</th>\n",
       "      <th>friends_count</th>\n",
       "      <th>listed_count</th>\n",
       "      <th>favourites_count</th>\n",
       "      <th>statuses_count</th>\n",
       "      <th>followers_count</th>\n",
       "      <th>created_time</th>\n",
       "    </tr>\n",
       "  </thead>\n",
       "  <tbody>\n",
       "    <tr>\n",
       "      <th>0</th>\n",
       "      <td>2907244978</td>\n",
       "      <td>1703</td>\n",
       "      <td>287</td>\n",
       "      <td>44979</td>\n",
       "      <td>52950</td>\n",
       "      <td>1283</td>\n",
       "      <td>Sat Dec 06 03:08:09 +0000 2014</td>\n",
       "    </tr>\n",
       "    <tr>\n",
       "      <th>1</th>\n",
       "      <td>232747052</td>\n",
       "      <td>187</td>\n",
       "      <td>3</td>\n",
       "      <td>3</td>\n",
       "      <td>3190</td>\n",
       "      <td>266</td>\n",
       "      <td>Sat Jan 01 05:01:13 +0000 2011</td>\n",
       "    </tr>\n",
       "    <tr>\n",
       "      <th>2</th>\n",
       "      <td>903630554582708231</td>\n",
       "      <td>81</td>\n",
       "      <td>0</td>\n",
       "      <td>453</td>\n",
       "      <td>1621</td>\n",
       "      <td>40</td>\n",
       "      <td>Fri Sep 01 14:48:07 +0000 2017</td>\n",
       "    </tr>\n",
       "    <tr>\n",
       "      <th>3</th>\n",
       "      <td>945643630428958720</td>\n",
       "      <td>102</td>\n",
       "      <td>0</td>\n",
       "      <td>7184</td>\n",
       "      <td>4437</td>\n",
       "      <td>144</td>\n",
       "      <td>Tue Dec 26 13:13:05 +0000 2017</td>\n",
       "    </tr>\n",
       "    <tr>\n",
       "      <th>4</th>\n",
       "      <td>899432288634535936</td>\n",
       "      <td>280</td>\n",
       "      <td>0</td>\n",
       "      <td>185</td>\n",
       "      <td>26</td>\n",
       "      <td>25</td>\n",
       "      <td>Mon Aug 21 00:45:43 +0000 2017</td>\n",
       "    </tr>\n",
       "    <tr>\n",
       "      <th>...</th>\n",
       "      <td>...</td>\n",
       "      <td>...</td>\n",
       "      <td>...</td>\n",
       "      <td>...</td>\n",
       "      <td>...</td>\n",
       "      <td>...</td>\n",
       "      <td>...</td>\n",
       "    </tr>\n",
       "    <tr>\n",
       "      <th>267462</th>\n",
       "      <td>803586894156152832</td>\n",
       "      <td>94</td>\n",
       "      <td>1</td>\n",
       "      <td>261</td>\n",
       "      <td>2708</td>\n",
       "      <td>245</td>\n",
       "      <td>Tue Nov 29 13:10:20 +0000 2016</td>\n",
       "    </tr>\n",
       "    <tr>\n",
       "      <th>267463</th>\n",
       "      <td>159834730</td>\n",
       "      <td>258</td>\n",
       "      <td>0</td>\n",
       "      <td>267</td>\n",
       "      <td>1718</td>\n",
       "      <td>43</td>\n",
       "      <td>Sat Jun 26 13:09:10 +0000 2010</td>\n",
       "    </tr>\n",
       "    <tr>\n",
       "      <th>267464</th>\n",
       "      <td>972057848338370560</td>\n",
       "      <td>51</td>\n",
       "      <td>0</td>\n",
       "      <td>396</td>\n",
       "      <td>96</td>\n",
       "      <td>11</td>\n",
       "      <td>Fri Mar 09 10:33:45 +0000 2018</td>\n",
       "    </tr>\n",
       "    <tr>\n",
       "      <th>267465</th>\n",
       "      <td>361212291</td>\n",
       "      <td>615</td>\n",
       "      <td>204</td>\n",
       "      <td>1165</td>\n",
       "      <td>3997</td>\n",
       "      <td>871</td>\n",
       "      <td>Wed Aug 24 12:43:25 +0000 2011</td>\n",
       "    </tr>\n",
       "    <tr>\n",
       "      <th>267466</th>\n",
       "      <td>2322357978</td>\n",
       "      <td>12</td>\n",
       "      <td>40</td>\n",
       "      <td>24</td>\n",
       "      <td>2615</td>\n",
       "      <td>42640</td>\n",
       "      <td>Sat Feb 01 13:53:30 +0000 2014</td>\n",
       "    </tr>\n",
       "  </tbody>\n",
       "</table>\n",
       "<p>267467 rows × 7 columns</p>\n",
       "</div>"
      ],
      "text/plain": [
       "                       _id  friends_count  listed_count  favourites_count  \\\n",
       "0               2907244978           1703           287             44979   \n",
       "1                232747052            187             3                 3   \n",
       "2       903630554582708231             81             0               453   \n",
       "3       945643630428958720            102             0              7184   \n",
       "4       899432288634535936            280             0               185   \n",
       "...                    ...            ...           ...               ...   \n",
       "267462  803586894156152832             94             1               261   \n",
       "267463           159834730            258             0               267   \n",
       "267464  972057848338370560             51             0               396   \n",
       "267465           361212291            615           204              1165   \n",
       "267466          2322357978             12            40                24   \n",
       "\n",
       "        statuses_count  followers_count                    created_time  \n",
       "0                52950             1283  Sat Dec 06 03:08:09 +0000 2014  \n",
       "1                 3190              266  Sat Jan 01 05:01:13 +0000 2011  \n",
       "2                 1621               40  Fri Sep 01 14:48:07 +0000 2017  \n",
       "3                 4437              144  Tue Dec 26 13:13:05 +0000 2017  \n",
       "4                   26               25  Mon Aug 21 00:45:43 +0000 2017  \n",
       "...                ...              ...                             ...  \n",
       "267462            2708              245  Tue Nov 29 13:10:20 +0000 2016  \n",
       "267463            1718               43  Sat Jun 26 13:09:10 +0000 2010  \n",
       "267464              96               11  Fri Mar 09 10:33:45 +0000 2018  \n",
       "267465            3997              871  Wed Aug 24 12:43:25 +0000 2011  \n",
       "267466            2615            42640  Sat Feb 01 13:53:30 +0000 2014  \n",
       "\n",
       "[267467 rows x 7 columns]"
      ]
     },
     "execution_count": 3,
     "metadata": {},
     "output_type": "execute_result"
    }
   ],
   "source": [
    "df"
   ]
  },
  {
   "cell_type": "markdown",
   "id": "d4034656",
   "metadata": {},
   "source": [
    "### Export to .csv file"
   ]
  },
  {
   "cell_type": "code",
   "execution_count": 4,
   "id": "2165d389",
   "metadata": {},
   "outputs": [],
   "source": [
    "df.iloc[:,range(0,6)].to_csv(\"./data/feature_raw.csv\")"
   ]
  },
  {
   "cell_type": "markdown",
   "id": "ce71a72d",
   "metadata": {},
   "source": [
    "## Feature constuct (vis, r_fri_follow, avg_fav, frequency)"
   ]
  },
  {
   "cell_type": "markdown",
   "id": "a0867672",
   "metadata": {},
   "source": [
    "### Visibility\n",
    "#### Group tweet texts by each user"
   ]
  },
  {
   "cell_type": "code",
   "execution_count": 5,
   "id": "d6fac13a",
   "metadata": {},
   "outputs": [],
   "source": [
    "cursor1 = collection.aggregate(\n",
    "    [\n",
    "        {\"$group\" : {\n",
    "            \"_id\" : \"$user.id\", \n",
    "            \n",
    "            \"tweets\" : {\"$push\": \"$text\"}\n",
    "        }\n",
    "        }\n",
    "    ]\n",
    ")\n",
    "df1 = pd.json_normalize(cursor1)"
   ]
  },
  {
   "cell_type": "code",
   "execution_count": 6,
   "id": "5818fff8",
   "metadata": {
    "scrolled": true
   },
   "outputs": [
    {
     "data": {
      "text/html": [
       "<div>\n",
       "<style scoped>\n",
       "    .dataframe tbody tr th:only-of-type {\n",
       "        vertical-align: middle;\n",
       "    }\n",
       "\n",
       "    .dataframe tbody tr th {\n",
       "        vertical-align: top;\n",
       "    }\n",
       "\n",
       "    .dataframe thead th {\n",
       "        text-align: right;\n",
       "    }\n",
       "</style>\n",
       "<table border=\"1\" class=\"dataframe\">\n",
       "  <thead>\n",
       "    <tr style=\"text-align: right;\">\n",
       "      <th></th>\n",
       "      <th>_id</th>\n",
       "      <th>tweets</th>\n",
       "    </tr>\n",
       "  </thead>\n",
       "  <tbody>\n",
       "    <tr>\n",
       "      <th>0</th>\n",
       "      <td>531585010</td>\n",
       "      <td>[#WorldCup starts today! Woo! A bit bummed tha...</td>\n",
       "    </tr>\n",
       "    <tr>\n",
       "      <th>1</th>\n",
       "      <td>1006397655549915136</td>\n",
       "      <td>[India is going to be 'Begaani shaadi mai abdu...</td>\n",
       "    </tr>\n",
       "    <tr>\n",
       "      <th>2</th>\n",
       "      <td>559816619</td>\n",
       "      <td>[RT @PurelyFootball: We are giving away a pers...</td>\n",
       "    </tr>\n",
       "    <tr>\n",
       "      <th>3</th>\n",
       "      <td>133115653</td>\n",
       "      <td>[RT @SaudiNT: 📹 | وصول صُقورنا الخُضر لملعب ال...</td>\n",
       "    </tr>\n",
       "    <tr>\n",
       "      <th>4</th>\n",
       "      <td>286859311</td>\n",
       "      <td>[#WorldCup Day !!! Not Long to Go Now 😅]</td>\n",
       "    </tr>\n",
       "    <tr>\n",
       "      <th>...</th>\n",
       "      <td>...</td>\n",
       "      <td>...</td>\n",
       "    </tr>\n",
       "    <tr>\n",
       "      <th>267462</th>\n",
       "      <td>233602734</td>\n",
       "      <td>[RT @ani_nomso: How do you hate from outside t...</td>\n",
       "    </tr>\n",
       "    <tr>\n",
       "      <th>267463</th>\n",
       "      <td>2800742344</td>\n",
       "      <td>[Biggest anime betrayal if this happens https:...</td>\n",
       "    </tr>\n",
       "    <tr>\n",
       "      <th>267464</th>\n",
       "      <td>2396603382</td>\n",
       "      <td>[RT @rotabet: Dünya Kupası'nın açılış maçında ...</td>\n",
       "    </tr>\n",
       "    <tr>\n",
       "      <th>267465</th>\n",
       "      <td>81326054</td>\n",
       "      <td>[Any sun dream team leagues out there I can jo...</td>\n",
       "    </tr>\n",
       "    <tr>\n",
       "      <th>267466</th>\n",
       "      <td>1568743386</td>\n",
       "      <td>[VAI COMEÇAR ESSA LINDEZA QUE É A COPA DO MUND...</td>\n",
       "    </tr>\n",
       "  </tbody>\n",
       "</table>\n",
       "<p>267467 rows × 2 columns</p>\n",
       "</div>"
      ],
      "text/plain": [
       "                        _id                                             tweets\n",
       "0                 531585010  [#WorldCup starts today! Woo! A bit bummed tha...\n",
       "1       1006397655549915136  [India is going to be 'Begaani shaadi mai abdu...\n",
       "2                 559816619  [RT @PurelyFootball: We are giving away a pers...\n",
       "3                 133115653  [RT @SaudiNT: 📹 | وصول صُقورنا الخُضر لملعب ال...\n",
       "4                 286859311           [#WorldCup Day !!! Not Long to Go Now 😅]\n",
       "...                     ...                                                ...\n",
       "267462            233602734  [RT @ani_nomso: How do you hate from outside t...\n",
       "267463           2800742344  [Biggest anime betrayal if this happens https:...\n",
       "267464           2396603382  [RT @rotabet: Dünya Kupası'nın açılış maçında ...\n",
       "267465             81326054  [Any sun dream team leagues out there I can jo...\n",
       "267466           1568743386  [VAI COMEÇAR ESSA LINDEZA QUE É A COPA DO MUND...\n",
       "\n",
       "[267467 rows x 2 columns]"
      ]
     },
     "execution_count": 6,
     "metadata": {},
     "output_type": "execute_result"
    }
   ],
   "source": [
    "df1"
   ]
  },
  {
   "cell_type": "markdown",
   "id": "df10c30a",
   "metadata": {},
   "source": [
    "### calculate visibility"
   ]
  },
  {
   "cell_type": "code",
   "execution_count": 7,
   "id": "06ac47cd",
   "metadata": {},
   "outputs": [],
   "source": [
    "def calcul_visibility(tweets):\n",
    "    s = 0\n",
    "    for tweet in tweets:\n",
    "        s += tweet.count(\"@\")*11.4 \n",
    "        s += tweet.count(\"#\")*11.6\n",
    "    return s/(140*len(tweets))"
   ]
  },
  {
   "cell_type": "code",
   "execution_count": 8,
   "id": "9ec6594c",
   "metadata": {},
   "outputs": [],
   "source": [
    "visibilities = []\n",
    "for texts in df1.iloc[:,1]:\n",
    "    visibilities.append(calcul_visibility(texts))"
   ]
  },
  {
   "cell_type": "markdown",
   "id": "18e7a7a7",
   "metadata": {},
   "source": [
    "### favorites_count / statues_count"
   ]
  },
  {
   "cell_type": "code",
   "execution_count": 9,
   "id": "cdd61d63",
   "metadata": {},
   "outputs": [],
   "source": [
    "avg_fav = df.favourites_count/df.statuses_count"
   ]
  },
  {
   "cell_type": "markdown",
   "id": "15709909",
   "metadata": {},
   "source": [
    "### followers_count / friends_count"
   ]
  },
  {
   "cell_type": "code",
   "execution_count": 10,
   "id": "94a6eadf",
   "metadata": {},
   "outputs": [],
   "source": [
    "r_fri_follow = df.followers_count/df.friends_count"
   ]
  },
  {
   "cell_type": "markdown",
   "id": "c9b83641",
   "metadata": {},
   "source": [
    "### Frequency of tweets published since the creation of the account with t0=01/01/2019\n",
    "$ I_1 = \\frac{N_t}{t_0-t} $"
   ]
  },
  {
   "cell_type": "code",
   "execution_count": 11,
   "id": "582a154f",
   "metadata": {},
   "outputs": [],
   "source": [
    "import time\n",
    "def ratio(row):\n",
    "    time_array = time.strptime(row[\"created_time\"], \"%a %b %d %H:%M:%S +0000 %Y\")\n",
    "    time_stamp = time.mktime(time_array)\n",
    "    time_stamp_0 = time.mktime(time.strptime(\"Mon Jan 1 00:00:00 2019\", '%a %b %d %H:%M:%S %Y'))\n",
    "    return row[\"statuses_count\"]*100/(time_stamp_0 - time_stamp)"
   ]
  },
  {
   "cell_type": "code",
   "execution_count": null,
   "id": "8f1bbf7c",
   "metadata": {},
   "outputs": [],
   "source": [
    "frequency = df.apply(ratio, axis=1)"
   ]
  },
  {
   "cell_type": "markdown",
   "id": "819b493c",
   "metadata": {},
   "source": [
    "### Generate a dataframe with 4 features"
   ]
  },
  {
   "cell_type": "code",
   "execution_count": 22,
   "id": "ec673b92",
   "metadata": {},
   "outputs": [],
   "source": [
    "features = pd.DataFrame()\n",
    "features[\"vis\"] = visibilities\n",
    "features[\"r_fri_follow\"] = r_fri_follow\n",
    "features[\"avg_fav\"] = avg_fav\n",
    "features[\"frequency\"] = frequency"
   ]
  },
  {
   "cell_type": "code",
   "execution_count": 23,
   "id": "261a91b1",
   "metadata": {},
   "outputs": [
    {
     "data": {
      "text/plain": [
       "vis                0\n",
       "r_fri_follow    1264\n",
       "avg_fav            0\n",
       "frequency          0\n",
       "dtype: int64"
      ]
     },
     "execution_count": 23,
     "metadata": {},
     "output_type": "execute_result"
    }
   ],
   "source": [
    "features.isnull().sum()"
   ]
  },
  {
   "cell_type": "code",
   "execution_count": 24,
   "id": "e89aa631",
   "metadata": {},
   "outputs": [],
   "source": [
    "features.dropna(inplace=True)"
   ]
  },
  {
   "cell_type": "code",
   "execution_count": 25,
   "id": "ab5e0ecb",
   "metadata": {},
   "outputs": [
    {
     "data": {
      "text/html": [
       "<div>\n",
       "<style scoped>\n",
       "    .dataframe tbody tr th:only-of-type {\n",
       "        vertical-align: middle;\n",
       "    }\n",
       "\n",
       "    .dataframe tbody tr th {\n",
       "        vertical-align: top;\n",
       "    }\n",
       "\n",
       "    .dataframe thead th {\n",
       "        text-align: right;\n",
       "    }\n",
       "</style>\n",
       "<table border=\"1\" class=\"dataframe\">\n",
       "  <thead>\n",
       "    <tr style=\"text-align: right;\">\n",
       "      <th></th>\n",
       "      <th>vis</th>\n",
       "      <th>r_fri_follow</th>\n",
       "      <th>avg_fav</th>\n",
       "      <th>frequency</th>\n",
       "    </tr>\n",
       "  </thead>\n",
       "  <tbody>\n",
       "    <tr>\n",
       "      <th>0</th>\n",
       "      <td>0.164286</td>\n",
       "      <td>0.266114</td>\n",
       "      <td>0.925770</td>\n",
       "      <td>0.000306</td>\n",
       "    </tr>\n",
       "    <tr>\n",
       "      <th>1</th>\n",
       "      <td>0.578571</td>\n",
       "      <td>0.672932</td>\n",
       "      <td>3.685514</td>\n",
       "      <td>0.015026</td>\n",
       "    </tr>\n",
       "    <tr>\n",
       "      <th>2</th>\n",
       "      <td>0.164286</td>\n",
       "      <td>1.037681</td>\n",
       "      <td>0.037716</td>\n",
       "      <td>0.015753</td>\n",
       "    </tr>\n",
       "    <tr>\n",
       "      <th>3</th>\n",
       "      <td>0.245714</td>\n",
       "      <td>0.214371</td>\n",
       "      <td>2.944980</td>\n",
       "      <td>0.006128</td>\n",
       "    </tr>\n",
       "    <tr>\n",
       "      <th>4</th>\n",
       "      <td>0.164286</td>\n",
       "      <td>0.587054</td>\n",
       "      <td>0.110839</td>\n",
       "      <td>0.009781</td>\n",
       "    </tr>\n",
       "    <tr>\n",
       "      <th>...</th>\n",
       "      <td>...</td>\n",
       "      <td>...</td>\n",
       "      <td>...</td>\n",
       "      <td>...</td>\n",
       "    </tr>\n",
       "    <tr>\n",
       "      <th>267462</th>\n",
       "      <td>0.264286</td>\n",
       "      <td>0.248337</td>\n",
       "      <td>0.266802</td>\n",
       "      <td>0.001994</td>\n",
       "    </tr>\n",
       "    <tr>\n",
       "      <th>267463</th>\n",
       "      <td>0.081429</td>\n",
       "      <td>0.448549</td>\n",
       "      <td>5.806159</td>\n",
       "      <td>0.000793</td>\n",
       "    </tr>\n",
       "    <tr>\n",
       "      <th>267464</th>\n",
       "      <td>0.164286</td>\n",
       "      <td>0.552846</td>\n",
       "      <td>0.151943</td>\n",
       "      <td>0.009021</td>\n",
       "    </tr>\n",
       "    <tr>\n",
       "      <th>267465</th>\n",
       "      <td>0.330000</td>\n",
       "      <td>0.144140</td>\n",
       "      <td>1.883822</td>\n",
       "      <td>0.015576</td>\n",
       "    </tr>\n",
       "    <tr>\n",
       "      <th>267466</th>\n",
       "      <td>0.165714</td>\n",
       "      <td>0.445037</td>\n",
       "      <td>15.193548</td>\n",
       "      <td>0.000778</td>\n",
       "    </tr>\n",
       "  </tbody>\n",
       "</table>\n",
       "<p>266203 rows × 4 columns</p>\n",
       "</div>"
      ],
      "text/plain": [
       "             vis  r_fri_follow    avg_fav  frequency\n",
       "0       0.164286      0.266114   0.925770   0.000306\n",
       "1       0.578571      0.672932   3.685514   0.015026\n",
       "2       0.164286      1.037681   0.037716   0.015753\n",
       "3       0.245714      0.214371   2.944980   0.006128\n",
       "4       0.164286      0.587054   0.110839   0.009781\n",
       "...          ...           ...        ...        ...\n",
       "267462  0.264286      0.248337   0.266802   0.001994\n",
       "267463  0.081429      0.448549   5.806159   0.000793\n",
       "267464  0.164286      0.552846   0.151943   0.009021\n",
       "267465  0.330000      0.144140   1.883822   0.015576\n",
       "267466  0.165714      0.445037  15.193548   0.000778\n",
       "\n",
       "[266203 rows x 4 columns]"
      ]
     },
     "execution_count": 25,
     "metadata": {},
     "output_type": "execute_result"
    }
   ],
   "source": [
    "features"
   ]
  },
  {
   "cell_type": "markdown",
   "id": "c2c94cd8",
   "metadata": {},
   "source": [
    "## Export features to .csv file"
   ]
  },
  {
   "cell_type": "code",
   "execution_count": 26,
   "id": "7cfbb7d1",
   "metadata": {},
   "outputs": [],
   "source": [
    "features.to_csv(\"./features.csv\")"
   ]
  }
 ],
 "metadata": {
  "kernelspec": {
   "display_name": "Python 3 (ipykernel)",
   "language": "python",
   "name": "python3"
  },
  "language_info": {
   "codemirror_mode": {
    "name": "ipython",
    "version": 3
   },
   "file_extension": ".py",
   "mimetype": "text/x-python",
   "name": "python",
   "nbconvert_exporter": "python",
   "pygments_lexer": "ipython3",
   "version": "3.8.8"
  }
 },
 "nbformat": 4,
 "nbformat_minor": 5
}
