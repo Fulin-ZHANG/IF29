{
 "cells": [
  {
   "cell_type": "markdown",
   "id": "9b58578b",
   "metadata": {},
   "source": [
    "# Extract 4 features from dataset\n",
    "1. Visibility\n",
    "2. favorites_count / statues_count\n",
    "3. followers_count / friends_count\n",
    "4. Frequency of tweets published since the creation of the account"
   ]
  },
  {
   "cell_type": "code",
   "execution_count": 8,
   "id": "cc03257a",
   "metadata": {},
   "outputs": [],
   "source": [
    "import numpy as np\n",
    "import pandas as pd\n",
    "from pymongo import MongoClient\n",
    "np.set_printoptions(suppress=True)\n",
    "#consider inf and -inf to be “NA” in computations\n",
    "pd.options.mode.use_inf_as_na = True\n",
    "\n",
    "client = MongoClient('localhost', 27017)\n",
    "db = client['if29']\n",
    "collection = db['Tweet Worldcup 200']"
   ]
  },
  {
   "cell_type": "code",
   "execution_count": 9,
   "id": "214adfed",
   "metadata": {},
   "outputs": [],
   "source": [
    "cursor = collection.aggregate(\n",
    "    [\n",
    "        {\"$group\" : {\n",
    "            \"_id\" : \"$user.id\", \n",
    "            \"friends_count\" : {\"$last\" : \"$user.friends_count\"},\n",
    "            \"listed_count\" : {\"$last\" : \"$user.listed_count\"},\n",
    "            \"favourites_count\" : {\"$last\" : \"$user.favourites_count\"},\n",
    "            \"statuses_count\" : {\"$last\" : \"$user.statuses_count\"},\n",
    "            \"followers_count\" : {\"$last\" : \"$user.followers_count\"},\n",
    "            \"created_time\" : {\"$last\" : \"$user.created_at\"}\n",
    "        }\n",
    "        }\n",
    "    ]\n",
    ")\n",
    "df = pd.json_normalize(cursor)"
   ]
  },
  {
   "cell_type": "code",
   "execution_count": 10,
   "id": "1818158b",
   "metadata": {},
   "outputs": [
    {
     "data": {
      "text/html": [
       "<div>\n",
       "<style scoped>\n",
       "    .dataframe tbody tr th:only-of-type {\n",
       "        vertical-align: middle;\n",
       "    }\n",
       "\n",
       "    .dataframe tbody tr th {\n",
       "        vertical-align: top;\n",
       "    }\n",
       "\n",
       "    .dataframe thead th {\n",
       "        text-align: right;\n",
       "    }\n",
       "</style>\n",
       "<table border=\"1\" class=\"dataframe\">\n",
       "  <thead>\n",
       "    <tr style=\"text-align: right;\">\n",
       "      <th></th>\n",
       "      <th>_id</th>\n",
       "      <th>friends_count</th>\n",
       "      <th>listed_count</th>\n",
       "      <th>favourites_count</th>\n",
       "      <th>statuses_count</th>\n",
       "      <th>followers_count</th>\n",
       "      <th>created_time</th>\n",
       "    </tr>\n",
       "  </thead>\n",
       "  <tbody>\n",
       "    <tr>\n",
       "      <th>0</th>\n",
       "      <td>353576074</td>\n",
       "      <td>1086</td>\n",
       "      <td>0</td>\n",
       "      <td>661</td>\n",
       "      <td>714</td>\n",
       "      <td>289</td>\n",
       "      <td>Fri Aug 12 08:59:38 +0000 2011</td>\n",
       "    </tr>\n",
       "    <tr>\n",
       "      <th>1</th>\n",
       "      <td>837488007124963328</td>\n",
       "      <td>266</td>\n",
       "      <td>0</td>\n",
       "      <td>32005</td>\n",
       "      <td>8684</td>\n",
       "      <td>179</td>\n",
       "      <td>Fri Mar 03 02:21:15 +0000 2017</td>\n",
       "    </tr>\n",
       "    <tr>\n",
       "      <th>2</th>\n",
       "      <td>423108474</td>\n",
       "      <td>345</td>\n",
       "      <td>1</td>\n",
       "      <td>1330</td>\n",
       "      <td>35264</td>\n",
       "      <td>358</td>\n",
       "      <td>Mon Nov 28 03:01:49 +0000 2011</td>\n",
       "    </tr>\n",
       "    <tr>\n",
       "      <th>3</th>\n",
       "      <td>2598356918</td>\n",
       "      <td>4996</td>\n",
       "      <td>1</td>\n",
       "      <td>25639</td>\n",
       "      <td>8706</td>\n",
       "      <td>1071</td>\n",
       "      <td>Tue Jul 01 18:11:48 +0000 2014</td>\n",
       "    </tr>\n",
       "    <tr>\n",
       "      <th>4</th>\n",
       "      <td>2494785421</td>\n",
       "      <td>448</td>\n",
       "      <td>10</td>\n",
       "      <td>1585</td>\n",
       "      <td>14300</td>\n",
       "      <td>263</td>\n",
       "      <td>Wed May 14 19:53:07 +0000 2014</td>\n",
       "    </tr>\n",
       "    <tr>\n",
       "      <th>...</th>\n",
       "      <td>...</td>\n",
       "      <td>...</td>\n",
       "      <td>...</td>\n",
       "      <td>...</td>\n",
       "      <td>...</td>\n",
       "      <td>...</td>\n",
       "      <td>...</td>\n",
       "    </tr>\n",
       "    <tr>\n",
       "      <th>267462</th>\n",
       "      <td>144278441</td>\n",
       "      <td>451</td>\n",
       "      <td>8</td>\n",
       "      <td>1449</td>\n",
       "      <td>5431</td>\n",
       "      <td>112</td>\n",
       "      <td>Sat May 15 20:46:52 +0000 2010</td>\n",
       "    </tr>\n",
       "    <tr>\n",
       "      <th>267463</th>\n",
       "      <td>788044945949069313</td>\n",
       "      <td>379</td>\n",
       "      <td>0</td>\n",
       "      <td>3205</td>\n",
       "      <td>552</td>\n",
       "      <td>170</td>\n",
       "      <td>Mon Oct 17 15:52:11 +0000 2016</td>\n",
       "    </tr>\n",
       "    <tr>\n",
       "      <th>267464</th>\n",
       "      <td>264143196</td>\n",
       "      <td>369</td>\n",
       "      <td>1</td>\n",
       "      <td>3378</td>\n",
       "      <td>22232</td>\n",
       "      <td>204</td>\n",
       "      <td>Fri Mar 11 12:05:28 +0000 2011</td>\n",
       "    </tr>\n",
       "    <tr>\n",
       "      <th>267465</th>\n",
       "      <td>356977475</td>\n",
       "      <td>4010</td>\n",
       "      <td>3</td>\n",
       "      <td>68281</td>\n",
       "      <td>36246</td>\n",
       "      <td>578</td>\n",
       "      <td>Wed Aug 17 17:13:55 +0000 2011</td>\n",
       "    </tr>\n",
       "    <tr>\n",
       "      <th>267466</th>\n",
       "      <td>3334130291</td>\n",
       "      <td>1874</td>\n",
       "      <td>0</td>\n",
       "      <td>13188</td>\n",
       "      <td>868</td>\n",
       "      <td>834</td>\n",
       "      <td>Fri Jun 19 06:10:36 +0000 2015</td>\n",
       "    </tr>\n",
       "  </tbody>\n",
       "</table>\n",
       "<p>267467 rows × 7 columns</p>\n",
       "</div>"
      ],
      "text/plain": [
       "                       _id  friends_count  listed_count  favourites_count  \\\n",
       "0                353576074           1086             0               661   \n",
       "1       837488007124963328            266             0             32005   \n",
       "2                423108474            345             1              1330   \n",
       "3               2598356918           4996             1             25639   \n",
       "4               2494785421            448            10              1585   \n",
       "...                    ...            ...           ...               ...   \n",
       "267462           144278441            451             8              1449   \n",
       "267463  788044945949069313            379             0              3205   \n",
       "267464           264143196            369             1              3378   \n",
       "267465           356977475           4010             3             68281   \n",
       "267466          3334130291           1874             0             13188   \n",
       "\n",
       "        statuses_count  followers_count                    created_time  \n",
       "0                  714              289  Fri Aug 12 08:59:38 +0000 2011  \n",
       "1                 8684              179  Fri Mar 03 02:21:15 +0000 2017  \n",
       "2                35264              358  Mon Nov 28 03:01:49 +0000 2011  \n",
       "3                 8706             1071  Tue Jul 01 18:11:48 +0000 2014  \n",
       "4                14300              263  Wed May 14 19:53:07 +0000 2014  \n",
       "...                ...              ...                             ...  \n",
       "267462            5431              112  Sat May 15 20:46:52 +0000 2010  \n",
       "267463             552              170  Mon Oct 17 15:52:11 +0000 2016  \n",
       "267464           22232              204  Fri Mar 11 12:05:28 +0000 2011  \n",
       "267465           36246              578  Wed Aug 17 17:13:55 +0000 2011  \n",
       "267466             868              834  Fri Jun 19 06:10:36 +0000 2015  \n",
       "\n",
       "[267467 rows x 7 columns]"
      ]
     },
     "execution_count": 10,
     "metadata": {},
     "output_type": "execute_result"
    }
   ],
   "source": [
    "df"
   ]
  },
  {
   "cell_type": "markdown",
   "id": "d4034656",
   "metadata": {},
   "source": [
    "### Export to .csv file"
   ]
  },
  {
   "cell_type": "code",
   "execution_count": 11,
   "id": "2165d389",
   "metadata": {},
   "outputs": [],
   "source": [
    "df.iloc[:,range(0,6)].to_csv(\"./feature_raw.csv\")"
   ]
  },
  {
   "cell_type": "markdown",
   "id": "ce71a72d",
   "metadata": {},
   "source": [
    "## Feature constuct (vis, r_fri_follow, avg_fav, frequency)"
   ]
  },
  {
   "cell_type": "markdown",
   "id": "a0867672",
   "metadata": {},
   "source": [
    "### Visibility\n",
    "#### Group tweet texts by each user"
   ]
  },
  {
   "cell_type": "code",
   "execution_count": 12,
   "id": "d6fac13a",
   "metadata": {},
   "outputs": [],
   "source": [
    "cursor1 = collection.aggregate(\n",
    "    [\n",
    "        {\"$group\" : {\n",
    "            \"_id\" : \"$user.id\", \n",
    "            \n",
    "            \"tweets\" : {\"$push\": \"$text\"}\n",
    "        }\n",
    "        }\n",
    "    ]\n",
    ")\n",
    "df1 = pd.json_normalize(cursor1)"
   ]
  },
  {
   "cell_type": "code",
   "execution_count": 13,
   "id": "5818fff8",
   "metadata": {
    "scrolled": true
   },
   "outputs": [
    {
     "data": {
      "text/html": [
       "<div>\n",
       "<style scoped>\n",
       "    .dataframe tbody tr th:only-of-type {\n",
       "        vertical-align: middle;\n",
       "    }\n",
       "\n",
       "    .dataframe tbody tr th {\n",
       "        vertical-align: top;\n",
       "    }\n",
       "\n",
       "    .dataframe thead th {\n",
       "        text-align: right;\n",
       "    }\n",
       "</style>\n",
       "<table border=\"1\" class=\"dataframe\">\n",
       "  <thead>\n",
       "    <tr style=\"text-align: right;\">\n",
       "      <th></th>\n",
       "      <th>_id</th>\n",
       "      <th>tweets</th>\n",
       "    </tr>\n",
       "  </thead>\n",
       "  <tbody>\n",
       "    <tr>\n",
       "      <th>0</th>\n",
       "      <td>788044945949069313</td>\n",
       "      <td>[RT @talkingbawscom: The 2018 #WorldCup kicks ...</td>\n",
       "    </tr>\n",
       "    <tr>\n",
       "      <th>1</th>\n",
       "      <td>356977475</td>\n",
       "      <td>[RT @FIFAWorldCup: The #WorldCup starts today ...</td>\n",
       "    </tr>\n",
       "    <tr>\n",
       "      <th>2</th>\n",
       "      <td>423108474</td>\n",
       "      <td>[RT @PurelyFootball: The #WorldCup is finally ...</td>\n",
       "    </tr>\n",
       "    <tr>\n",
       "      <th>3</th>\n",
       "      <td>353576074</td>\n",
       "      <td>[RT @jimrainford11: The 2018 World Cup kicks o...</td>\n",
       "    </tr>\n",
       "    <tr>\n",
       "      <th>4</th>\n",
       "      <td>2494785421</td>\n",
       "      <td>[RT @Reuters: Female Saudi flag bearers to mis...</td>\n",
       "    </tr>\n",
       "    <tr>\n",
       "      <th>...</th>\n",
       "      <td>...</td>\n",
       "      <td>...</td>\n",
       "    </tr>\n",
       "    <tr>\n",
       "      <th>267462</th>\n",
       "      <td>3334130291</td>\n",
       "      <td>[#CokeScoreChallenge\\nRussia 2 - 1 Saudi Arabi...</td>\n",
       "    </tr>\n",
       "    <tr>\n",
       "      <th>267463</th>\n",
       "      <td>833738070</td>\n",
       "      <td>[RT @VarskySports: ES HOY! Durante un mes, el ...</td>\n",
       "    </tr>\n",
       "    <tr>\n",
       "      <th>267464</th>\n",
       "      <td>837488007124963328</td>\n",
       "      <td>[RT @ChinaDailyUSA: A cool fan of Messi! Serbi...</td>\n",
       "    </tr>\n",
       "    <tr>\n",
       "      <th>267465</th>\n",
       "      <td>264143196</td>\n",
       "      <td>[RT @ChampionsLeague: Ronaldinho 🇧🇷\\n\\n✅ 2006 ...</td>\n",
       "    </tr>\n",
       "    <tr>\n",
       "      <th>267466</th>\n",
       "      <td>144278441</td>\n",
       "      <td>[Hoe gaaf is dit!! Wij, medewerkers van #jumbo...</td>\n",
       "    </tr>\n",
       "  </tbody>\n",
       "</table>\n",
       "<p>267467 rows × 2 columns</p>\n",
       "</div>"
      ],
      "text/plain": [
       "                       _id                                             tweets\n",
       "0       788044945949069313  [RT @talkingbawscom: The 2018 #WorldCup kicks ...\n",
       "1                356977475  [RT @FIFAWorldCup: The #WorldCup starts today ...\n",
       "2                423108474  [RT @PurelyFootball: The #WorldCup is finally ...\n",
       "3                353576074  [RT @jimrainford11: The 2018 World Cup kicks o...\n",
       "4               2494785421  [RT @Reuters: Female Saudi flag bearers to mis...\n",
       "...                    ...                                                ...\n",
       "267462          3334130291  [#CokeScoreChallenge\\nRussia 2 - 1 Saudi Arabi...\n",
       "267463           833738070  [RT @VarskySports: ES HOY! Durante un mes, el ...\n",
       "267464  837488007124963328  [RT @ChinaDailyUSA: A cool fan of Messi! Serbi...\n",
       "267465           264143196  [RT @ChampionsLeague: Ronaldinho 🇧🇷\\n\\n✅ 2006 ...\n",
       "267466           144278441  [Hoe gaaf is dit!! Wij, medewerkers van #jumbo...\n",
       "\n",
       "[267467 rows x 2 columns]"
      ]
     },
     "execution_count": 13,
     "metadata": {},
     "output_type": "execute_result"
    }
   ],
   "source": [
    "df1"
   ]
  },
  {
   "cell_type": "markdown",
   "id": "df10c30a",
   "metadata": {},
   "source": [
    "### calculate visibility"
   ]
  },
  {
   "cell_type": "code",
   "execution_count": 14,
   "id": "06ac47cd",
   "metadata": {},
   "outputs": [],
   "source": [
    "def calcul_visibility(tweets):\n",
    "    s = 0\n",
    "    for tweet in tweets:\n",
    "        s += tweet.count(\"@\")*11.4 \n",
    "        s += tweet.count(\"#\")*11.6\n",
    "    return s/(140*len(tweets))"
   ]
  },
  {
   "cell_type": "code",
   "execution_count": 15,
   "id": "9ec6594c",
   "metadata": {},
   "outputs": [],
   "source": [
    "visibilities = []\n",
    "for texts in df1.iloc[:,1]:\n",
    "    visibilities.append(calcul_visibility(texts))"
   ]
  },
  {
   "cell_type": "markdown",
   "id": "18e7a7a7",
   "metadata": {},
   "source": [
    "### favorites_count / statues_count"
   ]
  },
  {
   "cell_type": "code",
   "execution_count": 16,
   "id": "cdd61d63",
   "metadata": {},
   "outputs": [],
   "source": [
    "avg_fav = df.favourites_count/df.statuses_count"
   ]
  },
  {
   "cell_type": "markdown",
   "id": "15709909",
   "metadata": {},
   "source": [
    "### followers_count / friends_count"
   ]
  },
  {
   "cell_type": "code",
   "execution_count": 17,
   "id": "94a6eadf",
   "metadata": {},
   "outputs": [],
   "source": [
    "r_fri_follow = df.followers_count/df.friends_count"
   ]
  },
  {
   "cell_type": "markdown",
   "id": "c9b83641",
   "metadata": {},
   "source": [
    "### Frequency of tweets published since the creation of the account with t0=01/01/2019\n",
    "$ I_1 = \\frac{N_t}{t_0-t} $"
   ]
  },
  {
   "cell_type": "code",
   "execution_count": 19,
   "id": "582a154f",
   "metadata": {},
   "outputs": [],
   "source": [
    "import time\n",
    "def ratio(row):\n",
    "    time_array = time.strptime(row[\"created_time\"], \"%a %b %d %H:%M:%S +0000 %Y\")\n",
    "    time_stamp = time.mktime(time_array)\n",
    "    time_stamp_0 = time.mktime(time.strptime(\"Mon Jan 1 00:00:00 2019\", '%a %b %d %H:%M:%S %Y'))\n",
    "    return row[\"statuses_count\"]*100/(time_stamp_0 - time_stamp)"
   ]
  },
  {
   "cell_type": "code",
   "execution_count": 20,
   "id": "8f1bbf7c",
   "metadata": {},
   "outputs": [],
   "source": [
    "frequency = df.apply(ratio, axis=1)"
   ]
  },
  {
   "cell_type": "markdown",
   "id": "819b493c",
   "metadata": {},
   "source": [
    "### Generate a dataframe with 4 features"
   ]
  },
  {
   "cell_type": "code",
   "execution_count": 22,
   "id": "ec673b92",
   "metadata": {},
   "outputs": [],
   "source": [
    "features = pd.DataFrame()\n",
    "features[\"vis\"] = visibilities\n",
    "features[\"r_fri_follow\"] = r_fri_follow\n",
    "features[\"avg_fav\"] = avg_fav\n",
    "features[\"frequency\"] = frequency"
   ]
  },
  {
   "cell_type": "code",
   "execution_count": 23,
   "id": "261a91b1",
   "metadata": {},
   "outputs": [
    {
     "data": {
      "text/plain": [
       "vis                0\n",
       "r_fri_follow    1264\n",
       "avg_fav            0\n",
       "frequency          0\n",
       "dtype: int64"
      ]
     },
     "execution_count": 23,
     "metadata": {},
     "output_type": "execute_result"
    }
   ],
   "source": [
    "features.isnull().sum()"
   ]
  },
  {
   "cell_type": "code",
   "execution_count": 24,
   "id": "e89aa631",
   "metadata": {},
   "outputs": [],
   "source": [
    "features.dropna(inplace=True)"
   ]
  },
  {
   "cell_type": "code",
   "execution_count": 25,
   "id": "ab5e0ecb",
   "metadata": {},
   "outputs": [
    {
     "data": {
      "text/html": [
       "<div>\n",
       "<style scoped>\n",
       "    .dataframe tbody tr th:only-of-type {\n",
       "        vertical-align: middle;\n",
       "    }\n",
       "\n",
       "    .dataframe tbody tr th {\n",
       "        vertical-align: top;\n",
       "    }\n",
       "\n",
       "    .dataframe thead th {\n",
       "        text-align: right;\n",
       "    }\n",
       "</style>\n",
       "<table border=\"1\" class=\"dataframe\">\n",
       "  <thead>\n",
       "    <tr style=\"text-align: right;\">\n",
       "      <th></th>\n",
       "      <th>vis</th>\n",
       "      <th>r_fri_follow</th>\n",
       "      <th>avg_fav</th>\n",
       "      <th>frequency</th>\n",
       "    </tr>\n",
       "  </thead>\n",
       "  <tbody>\n",
       "    <tr>\n",
       "      <th>0</th>\n",
       "      <td>0.164286</td>\n",
       "      <td>0.266114</td>\n",
       "      <td>0.925770</td>\n",
       "      <td>0.000306</td>\n",
       "    </tr>\n",
       "    <tr>\n",
       "      <th>1</th>\n",
       "      <td>0.578571</td>\n",
       "      <td>0.672932</td>\n",
       "      <td>3.685514</td>\n",
       "      <td>0.015026</td>\n",
       "    </tr>\n",
       "    <tr>\n",
       "      <th>2</th>\n",
       "      <td>0.164286</td>\n",
       "      <td>1.037681</td>\n",
       "      <td>0.037716</td>\n",
       "      <td>0.015753</td>\n",
       "    </tr>\n",
       "    <tr>\n",
       "      <th>3</th>\n",
       "      <td>0.245714</td>\n",
       "      <td>0.214371</td>\n",
       "      <td>2.944980</td>\n",
       "      <td>0.006128</td>\n",
       "    </tr>\n",
       "    <tr>\n",
       "      <th>4</th>\n",
       "      <td>0.164286</td>\n",
       "      <td>0.587054</td>\n",
       "      <td>0.110839</td>\n",
       "      <td>0.009781</td>\n",
       "    </tr>\n",
       "    <tr>\n",
       "      <th>...</th>\n",
       "      <td>...</td>\n",
       "      <td>...</td>\n",
       "      <td>...</td>\n",
       "      <td>...</td>\n",
       "    </tr>\n",
       "    <tr>\n",
       "      <th>267462</th>\n",
       "      <td>0.264286</td>\n",
       "      <td>0.248337</td>\n",
       "      <td>0.266802</td>\n",
       "      <td>0.001994</td>\n",
       "    </tr>\n",
       "    <tr>\n",
       "      <th>267463</th>\n",
       "      <td>0.081429</td>\n",
       "      <td>0.448549</td>\n",
       "      <td>5.806159</td>\n",
       "      <td>0.000793</td>\n",
       "    </tr>\n",
       "    <tr>\n",
       "      <th>267464</th>\n",
       "      <td>0.164286</td>\n",
       "      <td>0.552846</td>\n",
       "      <td>0.151943</td>\n",
       "      <td>0.009021</td>\n",
       "    </tr>\n",
       "    <tr>\n",
       "      <th>267465</th>\n",
       "      <td>0.330000</td>\n",
       "      <td>0.144140</td>\n",
       "      <td>1.883822</td>\n",
       "      <td>0.015576</td>\n",
       "    </tr>\n",
       "    <tr>\n",
       "      <th>267466</th>\n",
       "      <td>0.165714</td>\n",
       "      <td>0.445037</td>\n",
       "      <td>15.193548</td>\n",
       "      <td>0.000778</td>\n",
       "    </tr>\n",
       "  </tbody>\n",
       "</table>\n",
       "<p>266203 rows × 4 columns</p>\n",
       "</div>"
      ],
      "text/plain": [
       "             vis  r_fri_follow    avg_fav  frequency\n",
       "0       0.164286      0.266114   0.925770   0.000306\n",
       "1       0.578571      0.672932   3.685514   0.015026\n",
       "2       0.164286      1.037681   0.037716   0.015753\n",
       "3       0.245714      0.214371   2.944980   0.006128\n",
       "4       0.164286      0.587054   0.110839   0.009781\n",
       "...          ...           ...        ...        ...\n",
       "267462  0.264286      0.248337   0.266802   0.001994\n",
       "267463  0.081429      0.448549   5.806159   0.000793\n",
       "267464  0.164286      0.552846   0.151943   0.009021\n",
       "267465  0.330000      0.144140   1.883822   0.015576\n",
       "267466  0.165714      0.445037  15.193548   0.000778\n",
       "\n",
       "[266203 rows x 4 columns]"
      ]
     },
     "execution_count": 25,
     "metadata": {},
     "output_type": "execute_result"
    }
   ],
   "source": [
    "features"
   ]
  },
  {
   "cell_type": "markdown",
   "id": "c2c94cd8",
   "metadata": {},
   "source": [
    "## Export features to .csv file"
   ]
  },
  {
   "cell_type": "code",
   "execution_count": 26,
   "id": "7cfbb7d1",
   "metadata": {},
   "outputs": [],
   "source": [
    "features.to_csv(\"./features.csv\")"
   ]
  }
 ],
 "metadata": {
  "kernelspec": {
   "display_name": "Python 3 (ipykernel)",
   "language": "python",
   "name": "python3"
  },
  "language_info": {
   "codemirror_mode": {
    "name": "ipython",
    "version": 3
   },
   "file_extension": ".py",
   "mimetype": "text/x-python",
   "name": "python",
   "nbconvert_exporter": "python",
   "pygments_lexer": "ipython3",
   "version": "3.8.8"
  }
 },
 "nbformat": 4,
 "nbformat_minor": 5
}
