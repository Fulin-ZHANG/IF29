{
 "cells": [
  {
   "cell_type": "markdown",
   "id": "9b58578b",
   "metadata": {},
   "source": [
    "# Extract 4 features from dataset\n",
    "1. Visibility\n",
    "2. favorites_count / statues_count\n",
    "3. followers_count / friends_count\n",
    "4. Frequency of tweets published since the creation of the account"
   ]
  },
  {
   "cell_type": "code",
   "execution_count": 4,
   "id": "cc03257a",
   "metadata": {},
   "outputs": [],
   "source": [
    "import numpy as np\n",
    "import pandas as pd\n",
    "from pymongo import MongoClient\n",
    "np.set_printoptions(suppress=True)\n",
    "#consider inf and -inf to be “NA” in computations\n",
    "pd.options.mode.use_inf_as_na = True\n",
    "\n",
    "client = MongoClient('localhost', 27017)\n",
    "db = client['if29']\n",
    "collection = db['Tweet Worldcup 200']"
   ]
  },
  {
   "cell_type": "code",
   "execution_count": 2,
   "id": "214adfed",
   "metadata": {},
   "outputs": [],
   "source": [
    "cursor = collection.aggregate(\n",
    "    [\n",
    "        {\"$group\" : {\n",
    "            \"_id\" : \"$user.id\", \n",
    "            \"friends_count\" : {\"$last\" : \"$user.friends_count\"},\n",
    "            \"listed_count\" : {\"$last\" : \"$user.listed_count\"},\n",
    "            \"favourites_count\" : {\"$last\" : \"$user.favourites_count\"},\n",
    "            \"statuses_count\" : {\"$last\" : \"$user.statuses_count\"},\n",
    "            \"followers_count\" : {\"$last\" : \"$user.followers_count\"},\n",
    "            \"created_time\" : {\"$last\" : \"$user.created_at\"}\n",
    "        }\n",
    "        }\n",
    "    ]\n",
    ")\n",
    "df = pd.json_normalize(cursor)"
   ]
  },
  {
   "cell_type": "code",
   "execution_count": 3,
   "id": "1818158b",
   "metadata": {},
   "outputs": [
    {
     "data": {
      "text/html": [
       "<div>\n",
       "<style scoped>\n",
       "    .dataframe tbody tr th:only-of-type {\n",
       "        vertical-align: middle;\n",
       "    }\n",
       "\n",
       "    .dataframe tbody tr th {\n",
       "        vertical-align: top;\n",
       "    }\n",
       "\n",
       "    .dataframe thead th {\n",
       "        text-align: right;\n",
       "    }\n",
       "</style>\n",
       "<table border=\"1\" class=\"dataframe\">\n",
       "  <thead>\n",
       "    <tr style=\"text-align: right;\">\n",
       "      <th></th>\n",
       "      <th>_id</th>\n",
       "      <th>friends_count</th>\n",
       "      <th>listed_count</th>\n",
       "      <th>favourites_count</th>\n",
       "      <th>statuses_count</th>\n",
       "      <th>followers_count</th>\n",
       "      <th>created_time</th>\n",
       "    </tr>\n",
       "  </thead>\n",
       "  <tbody>\n",
       "    <tr>\n",
       "      <th>0</th>\n",
       "      <td>758966916593496064</td>\n",
       "      <td>49</td>\n",
       "      <td>0</td>\n",
       "      <td>75</td>\n",
       "      <td>446</td>\n",
       "      <td>28</td>\n",
       "      <td>Fri Jul 29 10:06:28 +0000 2016</td>\n",
       "    </tr>\n",
       "    <tr>\n",
       "      <th>1</th>\n",
       "      <td>1140595902</td>\n",
       "      <td>2566</td>\n",
       "      <td>0</td>\n",
       "      <td>7625</td>\n",
       "      <td>5672</td>\n",
       "      <td>2838</td>\n",
       "      <td>Fri Feb 01 20:03:57 +0000 2013</td>\n",
       "    </tr>\n",
       "    <tr>\n",
       "      <th>2</th>\n",
       "      <td>899575572732551168</td>\n",
       "      <td>533</td>\n",
       "      <td>0</td>\n",
       "      <td>15472</td>\n",
       "      <td>8576</td>\n",
       "      <td>176</td>\n",
       "      <td>Mon Aug 21 10:15:04 +0000 2017</td>\n",
       "    </tr>\n",
       "    <tr>\n",
       "      <th>3</th>\n",
       "      <td>353576074</td>\n",
       "      <td>1086</td>\n",
       "      <td>0</td>\n",
       "      <td>661</td>\n",
       "      <td>714</td>\n",
       "      <td>289</td>\n",
       "      <td>Fri Aug 12 08:59:38 +0000 2011</td>\n",
       "    </tr>\n",
       "    <tr>\n",
       "      <th>4</th>\n",
       "      <td>2598356918</td>\n",
       "      <td>4996</td>\n",
       "      <td>1</td>\n",
       "      <td>25639</td>\n",
       "      <td>8706</td>\n",
       "      <td>1071</td>\n",
       "      <td>Tue Jul 01 18:11:48 +0000 2014</td>\n",
       "    </tr>\n",
       "    <tr>\n",
       "      <th>...</th>\n",
       "      <td>...</td>\n",
       "      <td>...</td>\n",
       "      <td>...</td>\n",
       "      <td>...</td>\n",
       "      <td>...</td>\n",
       "      <td>...</td>\n",
       "      <td>...</td>\n",
       "    </tr>\n",
       "    <tr>\n",
       "      <th>267462</th>\n",
       "      <td>3951606867</td>\n",
       "      <td>559</td>\n",
       "      <td>0</td>\n",
       "      <td>39</td>\n",
       "      <td>668</td>\n",
       "      <td>39</td>\n",
       "      <td>Wed Oct 14 01:52:09 +0000 2015</td>\n",
       "    </tr>\n",
       "    <tr>\n",
       "      <th>267463</th>\n",
       "      <td>2376538666</td>\n",
       "      <td>190</td>\n",
       "      <td>0</td>\n",
       "      <td>128</td>\n",
       "      <td>23052</td>\n",
       "      <td>535</td>\n",
       "      <td>Sun Mar 02 17:21:26 +0000 2014</td>\n",
       "    </tr>\n",
       "    <tr>\n",
       "      <th>267464</th>\n",
       "      <td>14877969</td>\n",
       "      <td>297</td>\n",
       "      <td>4</td>\n",
       "      <td>1</td>\n",
       "      <td>6017</td>\n",
       "      <td>161</td>\n",
       "      <td>Fri May 23 05:26:32 +0000 2008</td>\n",
       "    </tr>\n",
       "    <tr>\n",
       "      <th>267465</th>\n",
       "      <td>2406883352</td>\n",
       "      <td>1070</td>\n",
       "      <td>14</td>\n",
       "      <td>266</td>\n",
       "      <td>27934</td>\n",
       "      <td>2304</td>\n",
       "      <td>Sun Mar 23 12:20:44 +0000 2014</td>\n",
       "    </tr>\n",
       "    <tr>\n",
       "      <th>267466</th>\n",
       "      <td>235208639</td>\n",
       "      <td>1758</td>\n",
       "      <td>18</td>\n",
       "      <td>2205</td>\n",
       "      <td>4170</td>\n",
       "      <td>688</td>\n",
       "      <td>Fri Jan 07 16:38:01 +0000 2011</td>\n",
       "    </tr>\n",
       "  </tbody>\n",
       "</table>\n",
       "<p>267467 rows × 7 columns</p>\n",
       "</div>"
      ],
      "text/plain": [
       "                       _id  friends_count  listed_count  favourites_count  \\\n",
       "0       758966916593496064             49             0                75   \n",
       "1               1140595902           2566             0              7625   \n",
       "2       899575572732551168            533             0             15472   \n",
       "3                353576074           1086             0               661   \n",
       "4               2598356918           4996             1             25639   \n",
       "...                    ...            ...           ...               ...   \n",
       "267462          3951606867            559             0                39   \n",
       "267463          2376538666            190             0               128   \n",
       "267464            14877969            297             4                 1   \n",
       "267465          2406883352           1070            14               266   \n",
       "267466           235208639           1758            18              2205   \n",
       "\n",
       "        statuses_count  followers_count                    created_time  \n",
       "0                  446               28  Fri Jul 29 10:06:28 +0000 2016  \n",
       "1                 5672             2838  Fri Feb 01 20:03:57 +0000 2013  \n",
       "2                 8576              176  Mon Aug 21 10:15:04 +0000 2017  \n",
       "3                  714              289  Fri Aug 12 08:59:38 +0000 2011  \n",
       "4                 8706             1071  Tue Jul 01 18:11:48 +0000 2014  \n",
       "...                ...              ...                             ...  \n",
       "267462             668               39  Wed Oct 14 01:52:09 +0000 2015  \n",
       "267463           23052              535  Sun Mar 02 17:21:26 +0000 2014  \n",
       "267464            6017              161  Fri May 23 05:26:32 +0000 2008  \n",
       "267465           27934             2304  Sun Mar 23 12:20:44 +0000 2014  \n",
       "267466            4170              688  Fri Jan 07 16:38:01 +0000 2011  \n",
       "\n",
       "[267467 rows x 7 columns]"
      ]
     },
     "execution_count": 3,
     "metadata": {},
     "output_type": "execute_result"
    }
   ],
   "source": [
    "df"
   ]
  },
  {
   "cell_type": "markdown",
   "id": "ce71a72d",
   "metadata": {},
   "source": [
    "## Feature constuct (vis, r_fri_follow, avg_fav, frequency)"
   ]
  },
  {
   "cell_type": "markdown",
   "id": "a0867672",
   "metadata": {},
   "source": [
    "### Visibility\n",
    "#### Group tweet texts by each user"
   ]
  },
  {
   "cell_type": "code",
   "execution_count": 5,
   "id": "d6fac13a",
   "metadata": {},
   "outputs": [],
   "source": [
    "cursor1 = collection.aggregate(\n",
    "    [\n",
    "        {\"$group\" : {\n",
    "            \"_id\" : \"$user.id\", \n",
    "            \n",
    "            \"tweets\" : {\"$push\": \"$text\"}\n",
    "        }\n",
    "        }\n",
    "    ]\n",
    ")\n",
    "df1 = pd.json_normalize(cursor1)"
   ]
  },
  {
   "cell_type": "code",
   "execution_count": 6,
   "id": "5818fff8",
   "metadata": {
    "scrolled": true
   },
   "outputs": [
    {
     "data": {
      "text/html": [
       "<div>\n",
       "<style scoped>\n",
       "    .dataframe tbody tr th:only-of-type {\n",
       "        vertical-align: middle;\n",
       "    }\n",
       "\n",
       "    .dataframe tbody tr th {\n",
       "        vertical-align: top;\n",
       "    }\n",
       "\n",
       "    .dataframe thead th {\n",
       "        text-align: right;\n",
       "    }\n",
       "</style>\n",
       "<table border=\"1\" class=\"dataframe\">\n",
       "  <thead>\n",
       "    <tr style=\"text-align: right;\">\n",
       "      <th></th>\n",
       "      <th>_id</th>\n",
       "      <th>tweets</th>\n",
       "    </tr>\n",
       "  </thead>\n",
       "  <tbody>\n",
       "    <tr>\n",
       "      <th>0</th>\n",
       "      <td>14877969</td>\n",
       "      <td>[แวนในชุดนักเตะ รับ Worldcup2018 อย่างเท่เลยฮ่...</td>\n",
       "    </tr>\n",
       "    <tr>\n",
       "      <th>1</th>\n",
       "      <td>2494785421</td>\n",
       "      <td>[RT @Reuters: Female Saudi flag bearers to mis...</td>\n",
       "    </tr>\n",
       "    <tr>\n",
       "      <th>2</th>\n",
       "      <td>758966916593496064</td>\n",
       "      <td>[Jeez!!!  Today feels different..kinda having ...</td>\n",
       "    </tr>\n",
       "    <tr>\n",
       "      <th>3</th>\n",
       "      <td>1140595902</td>\n",
       "      <td>[Its less than 1hr to the #WorldCup Opening ce...</td>\n",
       "    </tr>\n",
       "    <tr>\n",
       "      <th>4</th>\n",
       "      <td>899575572732551168</td>\n",
       "      <td>[RT @sergipinkman: Proclames unionistes per an...</td>\n",
       "    </tr>\n",
       "    <tr>\n",
       "      <th>...</th>\n",
       "      <td>...</td>\n",
       "      <td>...</td>\n",
       "    </tr>\n",
       "    <tr>\n",
       "      <th>267462</th>\n",
       "      <td>144278441</td>\n",
       "      <td>[Hoe gaaf is dit!! Wij, medewerkers van #jumbo...</td>\n",
       "    </tr>\n",
       "    <tr>\n",
       "      <th>267463</th>\n",
       "      <td>356977475</td>\n",
       "      <td>[RT @FIFAWorldCup: The #WorldCup starts today ...</td>\n",
       "    </tr>\n",
       "    <tr>\n",
       "      <th>267464</th>\n",
       "      <td>235208639</td>\n",
       "      <td>[RT @RoundAndWhite: It's #WorldCup day, let th...</td>\n",
       "    </tr>\n",
       "    <tr>\n",
       "      <th>267465</th>\n",
       "      <td>2406883352</td>\n",
       "      <td>[#MiCorazónGritaPor que hoy arrancó la fiesta ...</td>\n",
       "    </tr>\n",
       "    <tr>\n",
       "      <th>267466</th>\n",
       "      <td>3951606867</td>\n",
       "      <td>[RT @brfootball: The race is ON. #WorldCup htt...</td>\n",
       "    </tr>\n",
       "  </tbody>\n",
       "</table>\n",
       "<p>267467 rows × 2 columns</p>\n",
       "</div>"
      ],
      "text/plain": [
       "                       _id                                             tweets\n",
       "0                 14877969  [แวนในชุดนักเตะ รับ Worldcup2018 อย่างเท่เลยฮ่...\n",
       "1               2494785421  [RT @Reuters: Female Saudi flag bearers to mis...\n",
       "2       758966916593496064  [Jeez!!!  Today feels different..kinda having ...\n",
       "3               1140595902  [Its less than 1hr to the #WorldCup Opening ce...\n",
       "4       899575572732551168  [RT @sergipinkman: Proclames unionistes per an...\n",
       "...                    ...                                                ...\n",
       "267462           144278441  [Hoe gaaf is dit!! Wij, medewerkers van #jumbo...\n",
       "267463           356977475  [RT @FIFAWorldCup: The #WorldCup starts today ...\n",
       "267464           235208639  [RT @RoundAndWhite: It's #WorldCup day, let th...\n",
       "267465          2406883352  [#MiCorazónGritaPor que hoy arrancó la fiesta ...\n",
       "267466          3951606867  [RT @brfootball: The race is ON. #WorldCup htt...\n",
       "\n",
       "[267467 rows x 2 columns]"
      ]
     },
     "execution_count": 6,
     "metadata": {},
     "output_type": "execute_result"
    }
   ],
   "source": [
    "df1"
   ]
  },
  {
   "cell_type": "markdown",
   "id": "df10c30a",
   "metadata": {},
   "source": [
    "### Calculate visibility"
   ]
  },
  {
   "cell_type": "code",
   "execution_count": 7,
   "id": "06ac47cd",
   "metadata": {},
   "outputs": [],
   "source": [
    "def calcul_visibility(tweets):\n",
    "    s = 0\n",
    "    for tweet in tweets:\n",
    "        s += tweet.count(\"@\")*11.4 \n",
    "        s += tweet.count(\"#\")*11.6\n",
    "    return s/(140*len(tweets))"
   ]
  },
  {
   "cell_type": "code",
   "execution_count": 8,
   "id": "9ec6594c",
   "metadata": {},
   "outputs": [],
   "source": [
    "visibilities = []\n",
    "for texts in df1.iloc[:,1]:\n",
    "    visibilities.append(calcul_visibility(texts))"
   ]
  },
  {
   "cell_type": "markdown",
   "id": "18e7a7a7",
   "metadata": {},
   "source": [
    "### favorites_count / statues_count"
   ]
  },
  {
   "cell_type": "code",
   "execution_count": 37,
   "id": "cdd61d63",
   "metadata": {},
   "outputs": [],
   "source": [
    "avg_fav = df.favourites_count/df.statuses_count"
   ]
  },
  {
   "cell_type": "markdown",
   "id": "15709909",
   "metadata": {},
   "source": [
    "### followers_count / friends_count"
   ]
  },
  {
   "cell_type": "code",
   "execution_count": 33,
   "id": "94a6eadf",
   "metadata": {},
   "outputs": [],
   "source": [
    "r_fri_follow = df.followers_count/df.friends_count"
   ]
  },
  {
   "cell_type": "code",
   "execution_count": 32,
   "id": "4b152a76",
   "metadata": {},
   "outputs": [],
   "source": [
    "r_fri_follow.to_csv(\"./r_fri_follow.csv\")"
   ]
  },
  {
   "cell_type": "markdown",
   "id": "c9b83641",
   "metadata": {},
   "source": [
    "### Frequency of tweets published since the creation of the account with t0=01/01/2019\n",
    "$ I_1 = \\frac{N_t}{t_0-t} $"
   ]
  },
  {
   "cell_type": "code",
   "execution_count": 34,
   "id": "d77769af",
   "metadata": {},
   "outputs": [],
   "source": [
    "import time\n",
    "def ratio(n_tweets, date):\n",
    "    time_array = time.strptime(date, \"%a %b %d %H:%M:%S +0000 %Y\")\n",
    "    time_stamp = time.mktime(time_array)\n",
    "    time_stamp_0 = time.mktime(time.strptime(\"Mon Jan 1 00:00:00 2019\", '%a %b %d %H:%M:%S %Y'))\n",
    "    return n_tweets/(time_stamp_0 - time_stamp)"
   ]
  },
  {
   "cell_type": "code",
   "execution_count": 35,
   "id": "0230db5d",
   "metadata": {},
   "outputs": [],
   "source": [
    "frequency = []\n",
    "for index, row in df.iterrows():\n",
    "    n_tweet = row[\"statuses_count\"]\n",
    "    created_date = row[\"created_time\"]\n",
    "    frequency.append(ratio(n_tweet, created_date)*100)"
   ]
  },
  {
   "cell_type": "markdown",
   "id": "819b493c",
   "metadata": {},
   "source": [
    "### Generate a dataframe with 4 features"
   ]
  },
  {
   "cell_type": "code",
   "execution_count": 38,
   "id": "ec673b92",
   "metadata": {},
   "outputs": [],
   "source": [
    "features = pd.DataFrame()\n",
    "features[\"vis\"] = visibilities\n",
    "features[\"r_fri_follow\"] = r_fri_follow\n",
    "features[\"avg_fav\"] = avg_fav\n",
    "features[\"frequency\"] = frequency"
   ]
  },
  {
   "cell_type": "code",
   "execution_count": 41,
   "id": "261a91b1",
   "metadata": {},
   "outputs": [
    {
     "data": {
      "text/plain": [
       "vis             0\n",
       "r_fri_follow    0\n",
       "avg_fav         0\n",
       "frequency       0\n",
       "dtype: int64"
      ]
     },
     "execution_count": 41,
     "metadata": {},
     "output_type": "execute_result"
    }
   ],
   "source": [
    "features.isnull().sum()"
   ]
  },
  {
   "cell_type": "code",
   "execution_count": 40,
   "id": "e89aa631",
   "metadata": {},
   "outputs": [],
   "source": [
    "features.dropna(inplace=True)"
   ]
  },
  {
   "cell_type": "code",
   "execution_count": 42,
   "id": "6276da10",
   "metadata": {},
   "outputs": [],
   "source": [
    "features.to_csv(\"./features.csv\")"
   ]
  },
  {
   "cell_type": "markdown",
   "id": "c2c94cd8",
   "metadata": {},
   "source": [
    "## Export features to .csv file"
   ]
  },
  {
   "cell_type": "code",
   "execution_count": 98,
   "id": "7cfbb7d1",
   "metadata": {},
   "outputs": [],
   "source": [
    "features.to_csv(\"./features.csv\")"
   ]
  }
 ],
 "metadata": {
  "kernelspec": {
   "display_name": "Python 3 (ipykernel)",
   "language": "python",
   "name": "python3"
  },
  "language_info": {
   "codemirror_mode": {
    "name": "ipython",
    "version": 3
   },
   "file_extension": ".py",
   "mimetype": "text/x-python",
   "name": "python",
   "nbconvert_exporter": "python",
   "pygments_lexer": "ipython3",
   "version": "3.8.8"
  }
 },
 "nbformat": 4,
 "nbformat_minor": 5
}
