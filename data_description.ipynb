{
 "cells": [
  {
   "cell_type": "code",
   "execution_count": 1,
   "id": "36735503",
   "metadata": {},
   "outputs": [],
   "source": [
    "from pymongo import MongoClient\n",
    "client = MongoClient('localhost', 27017)\n",
    "db = client['if29']\n",
    "collection = db['Tweet Worldcup 200']"
   ]
  },
  {
   "cell_type": "code",
   "execution_count": 26,
   "id": "a37a7760",
   "metadata": {},
   "outputs": [],
   "source": [
    "import numpy as np\n",
    "import pandas as pd\n",
    "%matplotlib inline"
   ]
  },
  {
   "cell_type": "code",
   "execution_count": 3,
   "id": "ad841c00",
   "metadata": {},
   "outputs": [],
   "source": [
    "projection = {\n",
    "    'user.friends_count': 1, \n",
    "    'user.listed_count': 1,\n",
    "    'user.favourites_count': 1, \n",
    "    'user.statuses_count': 1,\n",
    "    'user.followers_count': 1,\n",
    "    '_id': 0\n",
    "}\n",
    "cursor = collection.find({},projection)"
   ]
  },
  {
   "cell_type": "code",
   "execution_count": 4,
   "id": "668d11ac",
   "metadata": {},
   "outputs": [],
   "source": [
    "df = pd.json_normalize(cursor, max_level=1)"
   ]
  },
  {
   "cell_type": "markdown",
   "id": "43327bbd",
   "metadata": {},
   "source": [
    "# Descriptive statistics "
   ]
  },
  {
   "cell_type": "code",
   "execution_count": 6,
   "id": "28089515",
   "metadata": {},
   "outputs": [
    {
     "data": {
      "text/html": [
       "<div>\n",
       "<style scoped>\n",
       "    .dataframe tbody tr th:only-of-type {\n",
       "        vertical-align: middle;\n",
       "    }\n",
       "\n",
       "    .dataframe tbody tr th {\n",
       "        vertical-align: top;\n",
       "    }\n",
       "\n",
       "    .dataframe thead th {\n",
       "        text-align: right;\n",
       "    }\n",
       "</style>\n",
       "<table border=\"1\" class=\"dataframe\">\n",
       "  <thead>\n",
       "    <tr style=\"text-align: right;\">\n",
       "      <th></th>\n",
       "      <th>user.friends_count</th>\n",
       "      <th>user.listed_count</th>\n",
       "      <th>user.favourites_count</th>\n",
       "      <th>user.statuses_count</th>\n",
       "      <th>user.followers_count</th>\n",
       "    </tr>\n",
       "  </thead>\n",
       "  <tbody>\n",
       "    <tr>\n",
       "      <th>count</th>\n",
       "      <td>401998</td>\n",
       "      <td>401998</td>\n",
       "      <td>401998</td>\n",
       "      <td>401998</td>\n",
       "      <td>401998</td>\n",
       "    </tr>\n",
       "    <tr>\n",
       "      <th>mean</th>\n",
       "      <td>1881</td>\n",
       "      <td>81</td>\n",
       "      <td>11208</td>\n",
       "      <td>33904</td>\n",
       "      <td>19501</td>\n",
       "    </tr>\n",
       "    <tr>\n",
       "      <th>std</th>\n",
       "      <td>14715</td>\n",
       "      <td>1018</td>\n",
       "      <td>31853</td>\n",
       "      <td>98474</td>\n",
       "      <td>309860</td>\n",
       "    </tr>\n",
       "    <tr>\n",
       "      <th>min</th>\n",
       "      <td>0</td>\n",
       "      <td>0</td>\n",
       "      <td>0</td>\n",
       "      <td>1</td>\n",
       "      <td>0</td>\n",
       "    </tr>\n",
       "    <tr>\n",
       "      <th>25%</th>\n",
       "      <td>193</td>\n",
       "      <td>0</td>\n",
       "      <td>356</td>\n",
       "      <td>1769</td>\n",
       "      <td>146</td>\n",
       "    </tr>\n",
       "    <tr>\n",
       "      <th>50%</th>\n",
       "      <td>449</td>\n",
       "      <td>4</td>\n",
       "      <td>2044</td>\n",
       "      <td>8603</td>\n",
       "      <td>441</td>\n",
       "    </tr>\n",
       "    <tr>\n",
       "      <th>75%</th>\n",
       "      <td>1052</td>\n",
       "      <td>19</td>\n",
       "      <td>8668</td>\n",
       "      <td>30883</td>\n",
       "      <td>1382</td>\n",
       "    </tr>\n",
       "    <tr>\n",
       "      <th>max</th>\n",
       "      <td>544830</td>\n",
       "      <td>114699</td>\n",
       "      <td>1718515</td>\n",
       "      <td>8899395</td>\n",
       "      <td>30755372</td>\n",
       "    </tr>\n",
       "  </tbody>\n",
       "</table>\n",
       "</div>"
      ],
      "text/plain": [
       "       user.friends_count  user.listed_count  user.favourites_count  \\\n",
       "count              401998             401998                 401998   \n",
       "mean                 1881                 81                  11208   \n",
       "std                 14715               1018                  31853   \n",
       "min                     0                  0                      0   \n",
       "25%                   193                  0                    356   \n",
       "50%                   449                  4                   2044   \n",
       "75%                  1052                 19                   8668   \n",
       "max                544830             114699                1718515   \n",
       "\n",
       "       user.statuses_count  user.followers_count  \n",
       "count               401998                401998  \n",
       "mean                 33904                 19501  \n",
       "std                  98474                309860  \n",
       "min                      1                     0  \n",
       "25%                   1769                   146  \n",
       "50%                   8603                   441  \n",
       "75%                  30883                  1382  \n",
       "max                8899395              30755372  "
      ]
     },
     "execution_count": 6,
     "metadata": {},
     "output_type": "execute_result"
    }
   ],
   "source": [
    "df.describe().astype(int)"
   ]
  },
  {
   "cell_type": "code",
   "execution_count": 27,
   "id": "58b2beab",
   "metadata": {},
   "outputs": [
    {
     "data": {
      "text/plain": [
       "<AxesSubplot:ylabel='Density'>"
      ]
     },
     "execution_count": 27,
     "metadata": {},
     "output_type": "execute_result"
    },
    {
     "data": {
      "image/png": "[encoded data removed]",
      "text/plain": [
       "<Figure size 432x288 with 1 Axes>"
      ]
     },
     "metadata": {
      "needs_background": "light"
     },
     "output_type": "display_data"
    }
   ],
   "source": [
    "df['user.friends_count'].sample(500).plot(kind='kde')"
   ]
  },
  {
   "cell_type": "code",
   "execution_count": 28,
   "id": "6a3240f5",
   "metadata": {},
   "outputs": [
    {
     "data": {
      "text/plain": [
       "<AxesSubplot:ylabel='Density'>"
      ]
     },
     "execution_count": 28,
     "metadata": {},
     "output_type": "execute_result"
    },
    {
     "data": {
      "image/png": "[encoded data removed]",
      "text/plain": [
       "<Figure size 432x288 with 1 Axes>"
      ]
     },
     "metadata": {
      "needs_background": "light"
     },
     "output_type": "display_data"
    }
   ],
   "source": [
    "df['user.listed_count'].sample(500).plot(kind='kde')"
   ]
  }
 ],
 "metadata": {
  "kernelspec": {
   "display_name": "Python 3 (ipykernel)",
   "language": "python",
   "name": "python3"
  },
  "language_info": {
   "codemirror_mode": {
    "name": "ipython",
    "version": 3
   },
   "file_extension": ".py",
   "mimetype": "text/x-python",
   "name": "python",
   "nbconvert_exporter": "python",
   "pygments_lexer": "ipython3",
   "version": "3.8.8"
  }
 },
 "nbformat": 4,
 "nbformat_minor": 5
}
