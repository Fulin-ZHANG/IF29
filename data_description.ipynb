{
 "cells": [
  {
   "cell_type": "code",
   "execution_count": 1,
   "id": "0c27b269",
   "metadata": {},
   "outputs": [],
   "source": [
    "from pymongo import MongoClient\n",
    "client = MongoClient('localhost', 27017)\n",
    "db = client['if29']\n",
    "collection = db['Tweet Worldcup 200']"
   ]
  },
  {
   "cell_type": "code",
   "execution_count": 2,
   "id": "746c4fbe",
   "metadata": {},
   "outputs": [],
   "source": [
    "import numpy as np\n",
    "import pandas as pd"
   ]
  },
  {
   "cell_type": "code",
   "execution_count": 47,
   "id": "6e0b29e3",
   "metadata": {},
   "outputs": [],
   "source": [
    "projection = {\n",
    "    'user.friends_count': 1, \n",
    "    'user.listed_count': 1,\n",
    "    'user.favourites_count': 1, \n",
    "    'user.statuses_count': 1,\n",
    "    'user.followers_count': 1,\n",
    "    '_id': 0\n",
    "}\n",
    "cursor = collection.find({},projection)"
   ]
  },
  {
   "cell_type": "code",
   "execution_count": 48,
   "id": "277a784c",
   "metadata": {},
   "outputs": [],
   "source": [
    "df = pd.json_normalize(cursor, max_level=1)"
   ]
  },
  {
   "cell_type": "markdown",
   "id": "e9ea5ef6",
   "metadata": {},
   "source": [
    "# Descriptive statistics "
   ]
  },
  {
   "cell_type": "code",
   "execution_count": 52,
   "id": "07a69373",
   "metadata": {},
   "outputs": [],
   "source": [
    "pd.set_option('display.float_format', lambda x: '%.1f' % x)"
   ]
  },
  {
   "cell_type": "code",
   "execution_count": 53,
   "id": "17667b1e",
   "metadata": {},
   "outputs": [
    {
     "data": {
      "text/html": [
       "<div>\n",
       "<style scoped>\n",
       "    .dataframe tbody tr th:only-of-type {\n",
       "        vertical-align: middle;\n",
       "    }\n",
       "\n",
       "    .dataframe tbody tr th {\n",
       "        vertical-align: top;\n",
       "    }\n",
       "\n",
       "    .dataframe thead th {\n",
       "        text-align: right;\n",
       "    }\n",
       "</style>\n",
       "<table border=\"1\" class=\"dataframe\">\n",
       "  <thead>\n",
       "    <tr style=\"text-align: right;\">\n",
       "      <th></th>\n",
       "      <th>user.friends_count</th>\n",
       "      <th>user.listed_count</th>\n",
       "      <th>user.favourites_count</th>\n",
       "      <th>user.statuses_count</th>\n",
       "      <th>user.followers_count</th>\n",
       "    </tr>\n",
       "  </thead>\n",
       "  <tbody>\n",
       "    <tr>\n",
       "      <th>count</th>\n",
       "      <td>401998.0</td>\n",
       "      <td>401998.0</td>\n",
       "      <td>401998.0</td>\n",
       "      <td>401998.0</td>\n",
       "      <td>401998.0</td>\n",
       "    </tr>\n",
       "    <tr>\n",
       "      <th>mean</th>\n",
       "      <td>1881.1</td>\n",
       "      <td>81.7</td>\n",
       "      <td>11208.4</td>\n",
       "      <td>33904.1</td>\n",
       "      <td>19501.9</td>\n",
       "    </tr>\n",
       "    <tr>\n",
       "      <th>std</th>\n",
       "      <td>14715.9</td>\n",
       "      <td>1018.4</td>\n",
       "      <td>31853.5</td>\n",
       "      <td>98474.6</td>\n",
       "      <td>309860.3</td>\n",
       "    </tr>\n",
       "    <tr>\n",
       "      <th>min</th>\n",
       "      <td>0.0</td>\n",
       "      <td>0.0</td>\n",
       "      <td>0.0</td>\n",
       "      <td>1.0</td>\n",
       "      <td>0.0</td>\n",
       "    </tr>\n",
       "    <tr>\n",
       "      <th>25%</th>\n",
       "      <td>193.0</td>\n",
       "      <td>0.0</td>\n",
       "      <td>356.0</td>\n",
       "      <td>1769.0</td>\n",
       "      <td>146.0</td>\n",
       "    </tr>\n",
       "    <tr>\n",
       "      <th>50%</th>\n",
       "      <td>449.0</td>\n",
       "      <td>4.0</td>\n",
       "      <td>2044.0</td>\n",
       "      <td>8603.0</td>\n",
       "      <td>441.0</td>\n",
       "    </tr>\n",
       "    <tr>\n",
       "      <th>75%</th>\n",
       "      <td>1052.0</td>\n",
       "      <td>19.0</td>\n",
       "      <td>8668.0</td>\n",
       "      <td>30883.0</td>\n",
       "      <td>1382.0</td>\n",
       "    </tr>\n",
       "    <tr>\n",
       "      <th>max</th>\n",
       "      <td>544830.0</td>\n",
       "      <td>114699.0</td>\n",
       "      <td>1718515.0</td>\n",
       "      <td>8899395.0</td>\n",
       "      <td>30755372.0</td>\n",
       "    </tr>\n",
       "  </tbody>\n",
       "</table>\n",
       "</div>"
      ],
      "text/plain": [
       "       user.friends_count  user.listed_count  user.favourites_count  \\\n",
       "count            401998.0           401998.0               401998.0   \n",
       "mean               1881.1               81.7                11208.4   \n",
       "std               14715.9             1018.4                31853.5   \n",
       "min                   0.0                0.0                    0.0   \n",
       "25%                 193.0                0.0                  356.0   \n",
       "50%                 449.0                4.0                 2044.0   \n",
       "75%                1052.0               19.0                 8668.0   \n",
       "max              544830.0           114699.0              1718515.0   \n",
       "\n",
       "       user.statuses_count  user.followers_count  \n",
       "count             401998.0              401998.0  \n",
       "mean               33904.1               19501.9  \n",
       "std                98474.6              309860.3  \n",
       "min                    1.0                   0.0  \n",
       "25%                 1769.0                 146.0  \n",
       "50%                 8603.0                 441.0  \n",
       "75%                30883.0                1382.0  \n",
       "max              8899395.0            30755372.0  "
      ]
     },
     "execution_count": 53,
     "metadata": {},
     "output_type": "execute_result"
    }
   ],
   "source": [
    "df.describe()"
   ]
  }
 ],
 "metadata": {
  "kernelspec": {
   "display_name": "Python 3 (ipykernel)",
   "language": "python",
   "name": "python3"
  },
  "language_info": {
   "codemirror_mode": {
    "name": "ipython",
    "version": 3
   },
   "file_extension": ".py",
   "mimetype": "text/x-python",
   "name": "python",
   "nbconvert_exporter": "python",
   "pygments_lexer": "ipython3",
   "version": "3.8.8"
  }
 },
 "nbformat": 4,
 "nbformat_minor": 5
}
