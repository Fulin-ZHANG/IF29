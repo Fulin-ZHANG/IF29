{
 "cells": [
  {
   "cell_type": "markdown",
   "id": "58fc0fd1",
   "metadata": {},
   "source": [
    "# Fréquence de tweets publiés depuis la création du compte avec t0=01/01/2019\n",
    "$ I_1 = \\frac{N_t}{t_0-t} $"
   ]
  },
  {
   "cell_type": "code",
   "execution_count": 10,
   "id": "a38bbe65",
   "metadata": {},
   "outputs": [],
   "source": [
    "import time\n",
    "\n",
    "def ratio(n_tweets, date):\n",
    "    time_array = time.strptime(date, \"%a %b %d %H:%M:%S +0000 %Y\")\n",
    "    time_stamp = time.mktime(timeArray)\n",
    "    time_stamp_0 = time.mktime(time.strptime(\"Mon Jan 1 00:00:00 2019\", '%a %b %d %H:%M:%S %Y'))\n",
    "    return n_tweets/(time_stamp_0 - time_stamp)\n"
   ]
  },
  {
   "cell_type": "code",
   "execution_count": 11,
   "id": "83e73cc1",
   "metadata": {},
   "outputs": [],
   "source": [
    "from pymongo import MongoClient\n",
    "client = MongoClient('localhost', 27017)\n",
    "db = client['if29']\n",
    "collection = db['Tweet Worldcup 200']"
   ]
  },
  {
   "cell_type": "code",
   "execution_count": 17,
   "id": "4b9c619d",
   "metadata": {},
   "outputs": [],
   "source": [
    "projection = { \n",
    "    'user.statuses_count': 1,\n",
    "    'user.created_at': 1,\n",
    "    '_id': 0}\n",
    "cursor = collection.find({},projection, limit = 100)\n",
    "# data = list(cursor)"
   ]
  },
  {
   "cell_type": "code",
   "execution_count": 19,
   "id": "1f58127e",
   "metadata": {},
   "outputs": [
    {
     "ename": "TypeError",
     "evalue": "'dict' object is not callable",
     "output_type": "error",
     "traceback": [
      "\u001b[1;31m---------------------------------------------------------------------------\u001b[0m",
      "\u001b[1;31mTypeError\u001b[0m                                 Traceback (most recent call last)",
      "Input \u001b[1;32mIn [19]\u001b[0m, in \u001b[0;36m<cell line: 2>\u001b[1;34m()\u001b[0m\n\u001b[0;32m      1\u001b[0m ratio_list \u001b[38;5;241m=\u001b[39m []\n\u001b[0;32m      2\u001b[0m \u001b[38;5;28;01mfor\u001b[39;00m doc \u001b[38;5;129;01min\u001b[39;00m cursor:\n\u001b[1;32m----> 3\u001b[0m     ratio_list\u001b[38;5;241m.\u001b[39mappend(ratio(doc[\u001b[38;5;124m'\u001b[39m\u001b[38;5;124muser\u001b[39m\u001b[38;5;124m'\u001b[39m][\u001b[38;5;124m'\u001b[39m\u001b[38;5;124mstatuses_count\u001b[39m\u001b[38;5;124m'\u001b[39m], \u001b[43mdoc\u001b[49m\u001b[43m(\u001b[49m\u001b[43mdoc\u001b[49m\u001b[43m[\u001b[49m\u001b[38;5;124;43m'\u001b[39;49m\u001b[38;5;124;43muser\u001b[39;49m\u001b[38;5;124;43m'\u001b[39;49m\u001b[43m]\u001b[49m\u001b[43m[\u001b[49m\u001b[38;5;124;43m'\u001b[39;49m\u001b[38;5;124;43mcreated_at\u001b[39;49m\u001b[38;5;124;43m'\u001b[39;49m\u001b[43m]\u001b[49m\u001b[43m)\u001b[49m))\n",
      "\u001b[1;31mTypeError\u001b[0m: 'dict' object is not callable"
     ]
    }
   ],
   "source": [
    "ratio_list = []\n",
    "for doc in cursor:\n",
    "    n_tw\n",
    "    ratio_list.append(ratio(doc['user']['statuses_count'], doc['user']['created_at']))"
   ]
  },
  {
   "cell_type": "code",
   "execution_count": 16,
   "id": "31982891",
   "metadata": {},
   "outputs": [
    {
     "data": {
      "text/plain": [
       "[]"
      ]
     },
     "execution_count": 16,
     "metadata": {},
     "output_type": "execute_result"
    }
   ],
   "source": [
    "ratio_list"
   ]
  }
 ],
 "metadata": {
  "kernelspec": {
   "display_name": "Python 3 (ipykernel)",
   "language": "python",
   "name": "python3"
  },
  "language_info": {
   "codemirror_mode": {
    "name": "ipython",
    "version": 3
   },
   "file_extension": ".py",
   "mimetype": "text/x-python",
   "name": "python",
   "nbconvert_exporter": "python",
   "pygments_lexer": "ipython3",
   "version": "3.8.8"
  }
 },
 "nbformat": 4,
 "nbformat_minor": 5
}
